{
  "cells": [
    {
      "cell_type": "markdown",
      "metadata": {
        "id": "hReCCGfh6Axe"
      },
      "source": [
        "# Google Colab 명령어"
      ]
    },
    {
      "cell_type": "code",
      "execution_count": null,
      "metadata": {
        "colab": {
          "base_uri": "https://localhost:8080/"
        },
        "id": "PoAzX1bJ6BAe",
        "outputId": "e6bea0fc-05b6-4302-f9c2-63d54de7f291"
      },
      "outputs": [
        {
          "name": "stderr",
          "output_type": "stream",
          "text": [
            "'cat'은(는) 내부 또는 외부 명령, 실행할 수 있는 프로그램, 또는\n",
            "배치 파일이 아닙니다.\n"
          ]
        }
      ],
      "source": [
        "# OS\n",
        "!cat /etc/issue.net"
      ]
    },
    {
      "cell_type": "code",
      "execution_count": null,
      "metadata": {
        "colab": {
          "base_uri": "https://localhost:8080/"
        },
        "id": "CN36kcbU6Nc2",
        "outputId": "720d7289-e8cf-4ef1-ab70-20b7200a4c02"
      },
      "outputs": [
        {
          "name": "stderr",
          "output_type": "stream",
          "text": [
            "'head'은(는) 내부 또는 외부 명령, 실행할 수 있는 프로그램, 또는\n",
            "배치 파일이 아닙니다.\n"
          ]
        }
      ],
      "source": [
        "# CPU 사양\n",
        "!head /proc/cpuinfo"
      ]
    },
    {
      "cell_type": "code",
      "execution_count": null,
      "metadata": {
        "colab": {
          "base_uri": "https://localhost:8080/"
        },
        "id": "8wJT2XjS6Q12",
        "outputId": "2860bcaa-04fa-4a35-d9cb-07c916d78f22"
      },
      "outputs": [
        {
          "name": "stderr",
          "output_type": "stream",
          "text": [
            "'head'은(는) 내부 또는 외부 명령, 실행할 수 있는 프로그램, 또는\n",
            "배치 파일이 아닙니다.\n"
          ]
        }
      ],
      "source": [
        "# 메모리 사양\n",
        "!head -n 3 /proc/meminfo"
      ]
    },
    {
      "cell_type": "code",
      "execution_count": null,
      "metadata": {
        "colab": {
          "base_uri": "https://localhost:8080/"
        },
        "id": "ZMBYZ4CX6T_3",
        "outputId": "76d154bc-ac40-4878-ca10-d49ff86cacbc"
      },
      "outputs": [
        {
          "name": "stderr",
          "output_type": "stream",
          "text": [
            "'df'은(는) 내부 또는 외부 명령, 실행할 수 있는 프로그램, 또는\n",
            "배치 파일이 아닙니다.\n"
          ]
        }
      ],
      "source": [
        "!df –h"
      ]
    },
    {
      "cell_type": "code",
      "execution_count": null,
      "metadata": {
        "colab": {
          "base_uri": "https://localhost:8080/"
        },
        "id": "bflu73EQ6YgX",
        "outputId": "aa231ade-a9c1-40f9-a2ae-dfc34e2e1ad3"
      },
      "outputs": [
        {
          "name": "stderr",
          "output_type": "stream",
          "text": [
            "python: can't open file 'C:\\\\DEV\\\\ai_workspaces\\\\\\u2013version': [Errno 2] No such file or directory\n"
          ]
        }
      ],
      "source": [
        "!python –version"
      ]
    },
    {
      "cell_type": "markdown",
      "metadata": {
        "id": "79uAokfX4Q3e"
      },
      "source": [
        "# 사칙 연산 해보기"
      ]
    },
    {
      "cell_type": "markdown",
      "metadata": {
        "id": "_IelD6te25xu"
      },
      "source": [
        "## 덧셈"
      ]
    },
    {
      "cell_type": "code",
      "execution_count": null,
      "metadata": {
        "colab": {
          "base_uri": "https://localhost:8080/"
        },
        "id": "e8sVqXXG27Cm",
        "outputId": "0515e35c-a072-4bdb-f811-a9eafb0ea0e9"
      },
      "outputs": [
        {
          "name": "stdout",
          "output_type": "stream",
          "text": [
            "0 34.868504 [1.4190404] [1.2242432] [-0.9777454]\n",
            "500 0.016396377 [1.1605399] [0.9657446] [-0.7784731]\n",
            "1000 0.009615699 [1.1457517] [0.9509568] [-0.5961555]\n",
            "1500 0.0056392187 [1.1344268] [0.93963265] [-0.45653626]\n",
            "2000 0.003307073 [1.1257545] [0.93096036] [-0.3496158]\n",
            "2500 0.0019394943 [1.1191131] [0.9243194] [-0.2677362]\n",
            "3000 0.001137401 [1.114027] [0.91923344] [-0.20503269]\n",
            "3500 0.00066702673 [1.1101319] [0.91533905] [-0.15701419]\n",
            "4000 0.00039117847 [1.1071492] [0.91235644] [-0.12024179]\n",
            "4500 0.0002294151 [1.1048654] [0.91007227] [-0.09208132]\n",
            "5000 0.00013453307 [1.103115] [0.90832424] [-0.07051588]\n",
            "덧셈 결과 : [3.9523628]\n"
          ]
        }
      ],
      "source": [
        "#import tensorflow as tf\n",
        "import tensorflow.compat.v1 as tf\n",
        "tf.disable_v2_behavior()\n",
        "#데이터 셋 -X1, X2\n",
        "X1=tf.placeholder(tf.float32, shape=[None])\n",
        "X2=tf.placeholder(tf.float32, shape=[None])\n",
        "y=tf.placeholder(tf.float32, shape=[None])\n",
        "W1=tf.Variable(tf.random_normal([1]), name=\"weight1\")\n",
        "W2=tf.Variable(tf.random_normal([1]), name=\"weight2\")\n",
        "b=tf.Variable(tf.random_normal([1]), name=\"bias\")\n",
        "#(H(x))\n",
        "hypothesis=X1*W1+X2*W2+b\n",
        "#손실함수\n",
        "cost=tf.reduce_mean(tf.square(hypothesis-y))\n",
        "#경사하강\n",
        "optimizer=tf.train.GradientDescentOptimizer(learning_rate=0.01)\n",
        "#개선\n",
        "train=optimizer.minimize(cost)\n",
        "#훈련\n",
        "sess = tf.Session()\n",
        "sess.run(tf.global_variables_initializer())\n",
        "for step in range(5001):\n",
        "    #sess.run(train)\n",
        "    _cost, _W1, _W2, _b, _= \\\n",
        "      sess.run([cost, W1, W2, b, train],\n",
        "               feed_dict={\n",
        "                   X1: [5,7],\n",
        "                   X2: [5,7],\n",
        "                   y: [10,14]\n",
        "               })\n",
        "    if step % 500 == 0:\n",
        "      print(step, _cost, _W1, _W2, _b)\n",
        "print(\"덧셈 결과 :\", sess.run(hypothesis, feed_dict={X1: [2], X2: [2]}))\n"
      ]
    },
    {
      "cell_type": "markdown",
      "metadata": {
        "id": "iqWpoHXF4WXW"
      },
      "source": [
        "## 뺄셈"
      ]
    },
    {
      "cell_type": "code",
      "execution_count": null,
      "metadata": {
        "colab": {
          "base_uri": "https://localhost:8080/"
        },
        "id": "FwEPqcBf4ZFe",
        "outputId": "c4fa8825-1903-4e05-a19b-30a31eac7aba"
      },
      "outputs": [
        {
          "name": "stdout",
          "output_type": "stream",
          "text": [
            "0 357.36685 [0.72088444] [0.421448] [-0.2778115]\n",
            "500 0.019592553 [0.33401546] [-0.19632687] [-0.04690548]\n",
            "1000 0.0076638935 [0.40583313] [-0.31971842] [0.14830337]\n",
            "1500 0.0029978426 [0.45075005] [-0.39689127] [0.27039307]\n",
            "2000 0.0011726568 [0.4788424] [-0.44515738] [0.34675148]\n",
            "2500 0.00045869726 [0.4964125] [-0.47534484] [0.39450863]\n",
            "3000 0.00017943056 [0.5074011] [-0.4942247] [0.42437714]\n",
            "3500 7.018394e-05 [0.5142741] [-0.50603324] [0.4430582]\n",
            "4000 2.7453762e-05 [0.51857275] [-0.5134187] [0.45474193]\n",
            "4500 1.073816e-05 [0.5212613] [-0.5180378] [0.46204883]\n",
            "5000 4.2005468e-06 [0.5229427] [-0.52092665] [0.4666189]\n",
            "뺄셈 결과 : [1.5165365]\n"
          ]
        }
      ],
      "source": [
        "#import tensorflow as tf\n",
        "import tensorflow.compat.v1 as tf\n",
        "tf.disable_v2_behavior()\n",
        "#데이터 셋 -X1, X2\n",
        "X1=tf.placeholder(tf.float32, shape=[None])\n",
        "X2=tf.placeholder(tf.float32, shape=[None])\n",
        "y=tf.placeholder(tf.float32, shape=[None])\n",
        "W1=tf.Variable(tf.random_normal([1]), name=\"weight1\")\n",
        "W2=tf.Variable(tf.random_normal([1]), name=\"weight2\")\n",
        "b=tf.Variable(tf.random_normal([1]), name=\"bias\")\n",
        "#(H(x))\n",
        "hypothesis=X1*W1+X2*W2+b\n",
        "#손실함수\n",
        "cost=tf.reduce_mean(tf.square(hypothesis-y))\n",
        "#경사하강\n",
        "optimizer=tf.train.GradientDescentOptimizer(learning_rate=0.01)\n",
        "#개선\n",
        "train=optimizer.minimize(cost)\n",
        "#훈련\n",
        "sess = tf.Session()\n",
        "sess.run(tf.global_variables_initializer())\n",
        "for step in range(5001):\n",
        "    #sess.run(train)\n",
        "    _cost, _W1, _W2, _b, _= \\\n",
        "      sess.run([cost, W1, W2, b, train],\n",
        "               feed_dict={\n",
        "                   X1: [5,7],\n",
        "                   X2: [4,6],\n",
        "                   y: [1,1]\n",
        "               })\n",
        "    if step % 500 == 0:\n",
        "      print(step, _cost, _W1, _W2, _b)\n",
        "print(\"뺄셈 결과 :\", sess.run(hypothesis, feed_dict={X1: [4], X2: [2]}))"
      ]
    },
    {
      "cell_type": "markdown",
      "metadata": {
        "id": "WXTbw29A4qBe"
      },
      "source": [
        "## 곱셈"
      ]
    },
    {
      "cell_type": "code",
      "execution_count": null,
      "metadata": {
        "colab": {
          "base_uri": "https://localhost:8080/"
        },
        "id": "2vWa4A8-22uP",
        "outputId": "8f8834a5-7c64-4752-ab6d-a482d352f031"
      },
      "outputs": [
        {
          "name": "stdout",
          "output_type": "stream",
          "text": [
            "0 1250.3777 [3.4739194] [2.7720237] [-2.134173]\n",
            "500 7.548056 [4.4673314] [3.7654355] [-12.776606]\n",
            "1000 5.8461704 [4.719304] [4.017406] [-15.464079]\n",
            "1500 5.737629 [4.782937] [4.0810394] [-16.142776]\n",
            "2000 5.730709 [4.799007] [4.0971093] [-16.314175]\n",
            "2500 5.7302666 [4.8030653] [4.1011677] [-16.357462]\n",
            "3000 5.730233 [4.8040905] [4.102193] [-16.368395]\n",
            "3500 5.730232 [4.804348] [4.1024504] [-16.371143]\n",
            "4000 5.730236 [4.8044043] [4.1025066] [-16.371742]\n",
            "4500 5.730236 [4.8044043] [4.1025066] [-16.371742]\n",
            "5000 5.730236 [4.8044043] [4.1025066] [-16.371742]\n",
            "곱셈 결과 : [19.255901]\n"
          ]
        }
      ],
      "source": [
        "#import tensorflow as tf\n",
        "import tensorflow.compat.v1 as tf\n",
        "tf.disable_v2_behavior()\n",
        "#데이터 셋 -X1, X2\n",
        "X1=tf.placeholder(tf.float32, shape=[None])\n",
        "X2=tf.placeholder(tf.float32, shape=[None])\n",
        "y=tf.placeholder(tf.float32, shape=[None])\n",
        "W1=tf.Variable(tf.random_normal([1]), name=\"weight1\")\n",
        "W2=tf.Variable(tf.random_normal([1]), name=\"weight2\")\n",
        "b=tf.Variable(tf.random_normal([1]), name=\"bias\")\n",
        "#(H(x))\n",
        "hypothesis=X1*W1+X2*W2+b\n",
        "#손실함수\n",
        "cost=tf.reduce_mean(tf.square(hypothesis-y))\n",
        "#경사하강\n",
        "optimizer=tf.train.GradientDescentOptimizer(learning_rate=0.01)\n",
        "#개선\n",
        "train=optimizer.minimize(cost)\n",
        "#훈련\n",
        "sess = tf.Session()\n",
        "sess.run(tf.global_variables_initializer())\n",
        "for step in range(5001):\n",
        "    #sess.run(train)\n",
        "    _cost, _W1, _W2, _b, _= \\\n",
        "      sess.run([cost, W1, W2, b, train],\n",
        "               feed_dict={\n",
        "                   X1: [5,7,2,3,6],\n",
        "                   X2: [5,7,2,3,6],\n",
        "                   y: [25,49,4,9,36]\n",
        "               })\n",
        "    if step % 500 == 0:\n",
        "      print(step, _cost, _W1, _W2, _b)\n",
        "print(\"곱셈 결과 :\", sess.run(hypothesis, feed_dict={X1: [4], X2: [4]}))"
      ]
    },
    {
      "cell_type": "markdown",
      "metadata": {
        "id": "YmtzN1uD47QW"
      },
      "source": [
        "## 나눗셈"
      ]
    },
    {
      "cell_type": "code",
      "execution_count": null,
      "metadata": {
        "colab": {
          "base_uri": "https://localhost:8080/"
        },
        "id": "bE1K4c0W48qn",
        "outputId": "15305ae0-eb17-429f-8706-c1368e1775dd"
      },
      "outputs": [
        {
          "name": "stdout",
          "output_type": "stream",
          "text": [
            "0 15.255348 [1.0620772] [-1.632033] [0.28942513]\n",
            "500 0.04104932 [0.9421114] [-1.692017] [1.3605726]\n",
            "1000 0.005744693 [0.89399034] [-1.7160776] [1.760794]\n",
            "1500 0.000803944 [0.87598747] [-1.7250764] [1.9105147]\n",
            "2000 0.000112508365 [0.86925226] [-1.728442] [1.9665242]\n",
            "2500 1.5745096e-05 [0.8667325] [-1.7297006] [1.987477]\n",
            "3000 2.2031995e-06 [0.8657902] [-1.7301723] [1.9953154]\n",
            "3500 3.085143e-07 [0.86543816] [-1.7303495] [1.9982471]\n",
            "4000 4.3146038e-08 [0.86530745] [-1.7304178] [1.9993443]\n",
            "4500 6.10126e-09 [0.8652543] [-1.7304344] [1.9997535]\n",
            "5000 8.251462e-10 [0.86523086] [-1.7304344] [1.9999093]\n",
            "나눗셈 결과 : [3.7304258]\n"
          ]
        }
      ],
      "source": [
        "#import tensorflow as tf\n",
        "import tensorflow.compat.v1 as tf\n",
        "tf.disable_v2_behavior()\n",
        "#데이터 셋 -X1, X2\n",
        "X1=tf.placeholder(tf.float32, shape=[None])\n",
        "X2=tf.placeholder(tf.float32, shape=[None])\n",
        "y=tf.placeholder(tf.float32, shape=[None])\n",
        "W1=tf.Variable(tf.random_normal([1]), name=\"weight1\")\n",
        "W2=tf.Variable(tf.random_normal([1]), name=\"weight2\")\n",
        "b=tf.Variable(tf.random_normal([1]), name=\"bias\")\n",
        "#(H(x))\n",
        "hypothesis=X1*W1+X2*W2+b\n",
        "#손실함수\n",
        "cost=tf.reduce_mean(tf.square(hypothesis-y))\n",
        "#경사하강\n",
        "optimizer=tf.train.GradientDescentOptimizer(learning_rate=0.01)\n",
        "#개선\n",
        "train=optimizer.minimize(cost)\n",
        "#훈련\n",
        "sess = tf.Session()\n",
        "sess.run(tf.global_variables_initializer())\n",
        "for step in range(5001):\n",
        "    #sess.run(train)\n",
        "    _cost, _W1, _W2, _b, _= \\\n",
        "      sess.run([cost, W1, W2, b, train],\n",
        "               feed_dict={\n",
        "                   X1: [4,8],\n",
        "                   X2: [2,4],\n",
        "                   y: [2,2]\n",
        "               })\n",
        "    if step % 500 == 0:\n",
        "      print(step, _cost, _W1, _W2, _b)\n",
        "print(\"나눗셈 결과 :\", sess.run(hypothesis, feed_dict={X1: [6], X2: [2]}))"
      ]
    },
    {
      "cell_type": "markdown",
      "metadata": {
        "id": "HQXrDyZf6v4e"
      },
      "source": [
        "# 8시간 때의 하루 매출액 구하기"
      ]
    },
    {
      "cell_type": "code",
      "execution_count": null,
      "metadata": {
        "colab": {
          "base_uri": "https://localhost:8080/"
        },
        "id": "NFP1tpoH6xZ-",
        "outputId": "bda13783-67ea-4922-b089-d94784e078dd"
      },
      "outputs": [
        {
          "name": "stdout",
          "output_type": "stream",
          "text": [
            "0 4563042000.0 [10434.976] [2016.5026]\n",
            "500 8685164.0 [25539.4] [1940.8751]\n",
            "1000 8633766.0 [25627.781] [1503.2261]\n",
            "1500 8632677.0 [25640.658] [1439.4557]\n",
            "2000 8632654.0 [25642.537] [1430.1561]\n",
            "2500 8632653.0 [25642.807] [1428.8158]\n",
            "3000 8632651.0 [25642.844] [1428.6323]\n",
            "3500 8632656.0 [25642.848] [1428.6133]\n",
            "4000 8632656.0 [25642.848] [1428.6133]\n",
            "4500 8632656.0 [25642.848] [1428.6133]\n",
            "5000 8632656.0 [25642.848] [1428.6133]\n",
            "[206571.39]\n"
          ]
        }
      ],
      "source": [
        "#import tensorflow as tf\n",
        "import tensorflow.compat.v1 as tf\n",
        "tf.disable_v2_behavior()\n",
        "\n",
        "xData=[1,2,3,4,5,6,7]\n",
        "yData=[25000,55000,75000,110000,128000,155000,180000]\n",
        "\n",
        "W=tf.Variable(tf.random_uniform([1], -100, 100))\n",
        "b=tf.Variable(tf.random_uniform([1], -100, 100))\n",
        "\n",
        "X=tf.placeholder(tf.float32)\n",
        "Y=tf.placeholder(tf.float32)\n",
        "\n",
        "H=W*X+b\n",
        "cost=tf.reduce_mean(tf.square(H-Y))\n",
        "\n",
        "a=tf.Variable(0.01)\n",
        "optimizer=tf.train.GradientDescentOptimizer(a)\n",
        "train=optimizer.minimize(cost)\n",
        "init=tf.global_variables_initializer()\n",
        "\n",
        "sess=tf.Session()\n",
        "sess.run(init)\n",
        "\n",
        "for i in range(5001):\n",
        "   sess.run(train, feed_dict={X: xData, Y: yData})\n",
        "   if i % 500 ==0:\n",
        "       print(i, sess.run(cost, feed_dict={X: xData, Y: yData}), sess.run(W), sess.run(b))\n",
        "print(sess.run(H, feed_dict={X: [8]}))"
      ]
    },
    {
      "cell_type": "markdown",
      "metadata": {
        "id": "nVZ4NDhN8Rve"
      },
      "source": [
        "# #기존 접근 방식과 머신 러닝 접근 방식 비교\n",
        "# 3*x + 1 계산"
      ]
    },
    {
      "cell_type": "code",
      "execution_count": null,
      "metadata": {
        "colab": {
          "base_uri": "https://localhost:8080/"
        },
        "id": "r59bm0De8R9W",
        "outputId": "2a26a698-496c-468b-975d-23e14f48b923"
      },
      "outputs": [
        {
          "name": "stdout",
          "output_type": "stream",
          "text": [
            "y: 31\n"
          ]
        }
      ],
      "source": [
        "def f (x) :\n",
        "\treturn 3*x + 1\n",
        "\n",
        "x = 10\n",
        "y = f(x)\n",
        "\n",
        "print('y:', y)"
      ]
    },
    {
      "cell_type": "code",
      "execution_count": null,
      "metadata": {
        "colab": {
          "base_uri": "https://localhost:8080/"
        },
        "id": "YTEX-_6x8SUW",
        "outputId": "bafcead6-c796-40df-bbad-d21c6c5af538"
      },
      "outputs": [
        {
          "name": "stdout",
          "output_type": "stream",
          "text": [
            "Train on 6 samples\n",
            "Epoch 1/5\n",
            "6/6 [==============================] - 0s 31ms/sample - loss: 119.6422\n",
            "Epoch 2/5\n",
            "6/6 [==============================] - 0s 1ms/sample - loss: 94.1473\n",
            "Epoch 3/5\n",
            "6/6 [==============================] - 0s 1ms/sample - loss: 74.0888\n",
            "Epoch 4/5\n",
            "6/6 [==============================] - 0s 941us/sample - loss: 58.3074\n",
            "Epoch 5/5\n",
            "6/6 [==============================] - 0s 939us/sample - loss: 45.8909\n",
            "p: [[5.320325]]\n"
          ]
        }
      ],
      "source": [
        "import tensorflow as tf\n",
        "import numpy as np\n",
        "\n",
        "xs = np.array([-1.0, 0.0, 1.0, 2.0, 3.0, 4.0])\n",
        "ys = np.array([-2.0, 1.0, 4.0, 7.0, 10., 13.])\n",
        "\n",
        "model = tf.keras.Sequential(\n",
        "    [\n",
        "     tf.keras.Input(shape=(1,)),\n",
        "     tf.keras.layers.Dense(1)\n",
        "    ]\n",
        ")\n",
        "\n",
        "model.compile(optimizer='sgd',\n",
        "              loss='mean_squared_error')\n",
        "\n",
        "model.fit(xs, ys, epochs=5)\n",
        "\n",
        "p = model.predict([10.0])\n",
        "\n",
        "print('p:', p)"
      ]
    },
    {
      "cell_type": "markdown",
      "metadata": {
        "id": "Z1Pt8XmRkR0Y"
      },
      "source": []
    },
    {
      "cell_type": "markdown",
      "metadata": {
        "id": "7rYQCkuokSjP"
      },
      "source": []
    },
    {
      "cell_type": "markdown",
      "metadata": {
        "id": "742ee97a"
      },
      "source": [
        "# Python 실습 환경"
      ]
    },
    {
      "cell_type": "code",
      "execution_count": null,
      "metadata": {
        "id": "5954ee7b-652e-47b9-9a3f-49e289bd5b8a",
        "outputId": "1609d778-d287-4139-c588-6978280d4933"
      },
      "outputs": [
        {
          "name": "stdout",
          "output_type": "stream",
          "text": [
            "python 버전 : 3.8.19 (default, Mar 20 2024, 19:55:45) [MSC v.1916 64 bit (AMD64)]\n",
            "numpy 버전 : 1.24.3\n",
            "pandas 버전 : 2.0.3\n"
          ]
        }
      ],
      "source": [
        "import sys\n",
        "print(\"python 버전 : {}\".format(sys.version))\n",
        "\n",
        "import numpy as np\n",
        "print(\"numpy 버전 : {}\".format(np.__version__))\n",
        "\n",
        "import pandas as pd\n",
        "print(\"pandas 버전 : {}\".format(pd.__version__))"
      ]
    },
    {
      "cell_type": "code",
      "execution_count": null,
      "metadata": {
        "id": "5422afa8",
        "outputId": "5f648a3a-3209-4b90-93e8-f57802877e39"
      },
      "outputs": [
        {
          "data": {
            "text/plain": [
              "'C:\\\\DEV\\\\ai_workspaces'"
            ]
          },
          "execution_count": 33,
          "metadata": {},
          "output_type": "execute_result"
        }
      ],
      "source": [
        "import os\n",
        "os.getcwd()"
      ]
    },
    {
      "cell_type": "code",
      "execution_count": null,
      "metadata": {
        "id": "f84af09c",
        "outputId": "21f8023a-206d-4437-a255-2b494a845e17"
      },
      "outputs": [
        {
          "data": {
            "text/plain": [
              "'C:\\\\DEV'"
            ]
          },
          "execution_count": 34,
          "metadata": {},
          "output_type": "execute_result"
        }
      ],
      "source": [
        "os.chdir(\"..\")\n",
        "os.getcwd()"
      ]
    },
    {
      "cell_type": "code",
      "execution_count": null,
      "metadata": {
        "id": "5fb342ef",
        "outputId": "1c06ad86-fe5a-4c3b-d239-e351bef36364"
      },
      "outputs": [
        {
          "data": {
            "text/plain": [
              "'C:\\\\DEV'"
            ]
          },
          "execution_count": 35,
          "metadata": {},
          "output_type": "execute_result"
        }
      ],
      "source": [
        "%pwd"
      ]
    },
    {
      "cell_type": "code",
      "execution_count": null,
      "metadata": {
        "id": "469cc410",
        "outputId": "1e1eb3fb-692c-47da-cec9-50fa21e937c6"
      },
      "outputs": [
        {
          "name": "stdout",
          "output_type": "stream",
          "text": [
            " C 드라이브의 볼륨에는 이름이 없습니다.\n",
            " 볼륨 일련 번호: BED0-C858\n",
            "\n",
            " C:\\DEV 디렉터리\n",
            "\n",
            "2024-05-11  오후 01:22    <DIR>          .\n",
            "2024-05-11  오후 01:22    <DIR>          ..\n",
            "2024-05-08  오후 02:41    <DIR>          .ipynb_checkpoints\n",
            "2024-05-15  오전 09:27    <DIR>          ai_workspaces\n",
            "2024-05-11  오후 01:21    <DIR>          excel_workspaces\n",
            "2024-05-07  오후 09:32    <DIR>          miniconda3\n",
            "               0개 파일                   0 바이트\n",
            "               6개 디렉터리  61,932,859,392 바이트 남음\n"
          ]
        }
      ],
      "source": [
        "!dir"
      ]
    },
    {
      "cell_type": "code",
      "execution_count": null,
      "metadata": {
        "id": "31a667d2",
        "outputId": "b3c8e237-f369-4941-80c4-97930cf52dcc"
      },
      "outputs": [
        {
          "data": {
            "text/plain": [
              "'C:\\\\DEV\\\\ai_workspaces'"
            ]
          },
          "execution_count": 37,
          "metadata": {},
          "output_type": "execute_result"
        }
      ],
      "source": [
        "os.chdir(\"ai_workspaces\")\n",
        "os.getcwd()"
      ]
    },
    {
      "cell_type": "markdown",
      "metadata": {
        "id": "54771099"
      },
      "source": [
        "# 『2과목』 Python에서 데이터 구조화 하기"
      ]
    },
    {
      "cell_type": "markdown",
      "metadata": {
        "id": "0de71023"
      },
      "source": [
        "## 파이썬 연산처리"
      ]
    },
    {
      "cell_type": "code",
      "execution_count": null,
      "metadata": {
        "id": "48086410",
        "outputId": "a79fdcda-4b05-488c-d424-ca4858602c15"
      },
      "outputs": [
        {
          "name": "stdout",
          "output_type": "stream",
          "text": [
            "11\n",
            "3\n",
            "28\n",
            "1\n",
            "1.75\n",
            "3\n",
            "2401\n",
            "0.00041649312786339027\n",
            "1\n"
          ]
        }
      ],
      "source": [
        "print(7 + 4)  # 7 더하기 4는 11\n",
        "\n",
        "print(7 - 4) # 7 빼기 4는 3\n",
        "\n",
        "print(7 * 4) # 7 곱하기 4는 28\n",
        "\n",
        "print(7 // 4) # 7을 4로 나눈 몫은 1\n",
        "\n",
        "print(7 / 4) # 7을 4로 나누기  1.75\n",
        "\n",
        "print(7 % 4) # 7을 4로 나눈 나머지는 3\n",
        "\n",
        "print(7 ** 4) # 네제곱 2401\n",
        "\n",
        "print(7 ** -4) # 음수 제곱은 역수 7^(-4)\n",
        "\n",
        "print(7 ** 0) # 모든 수의 0 제곱은 1"
      ]
    },
    {
      "cell_type": "code",
      "execution_count": null,
      "metadata": {
        "id": "6bf33bc9",
        "outputId": "8cc0b7aa-09a0-457b-9bf0-5f5cd434f0fc"
      },
      "outputs": [
        {
          "name": "stdout",
          "output_type": "stream",
          "text": [
            "5000\n",
            "120\n",
            "41\n",
            "5000원으로 120원짜리 사탕을 최대한 살 수 있는 갯수 = 41\n",
            "80\n",
            "5000원으로 120원짜리 사탕을 사고 남은 돈은 = 80\n"
          ]
        }
      ],
      "source": [
        "myMoney = 5000;\n",
        "print(myMoney)\n",
        "candyPrice = 120;\n",
        "print(candyPrice)\n",
        "#최대한 살 수 있는 사탕 수 계산식? 갖고 있는 돈 // 사탕 가격\n",
        "numCandies = myMoney // candyPrice\n",
        "print(numCandies)\n",
        "print('5000원으로 120원짜리 사탕을 최대한 살 수 있는 갯수 =', numCandies)\n",
        "#그렇다면, 남은 돈은 얼마일까?\n",
        "change = myMoney % candyPrice;\n",
        "print(change)\n",
        "print(\"5000원으로 120원짜리 사탕을 사고 남은 돈은 =\", change)"
      ]
    },
    {
      "cell_type": "markdown",
      "source": [],
      "metadata": {
        "id": "Zux3GsL0Hp2B"
      }
    },
    {
      "cell_type": "markdown",
      "source": [],
      "metadata": {
        "id": "EdrgcrBZIRvB"
      }
    },
    {
      "cell_type": "code",
      "execution_count": null,
      "metadata": {
        "id": "794c226d",
        "outputId": "17dcc13c-6cce-4379-f902-a813ad6918ac"
      },
      "outputs": [
        {
          "name": "stdout",
          "output_type": "stream",
          "text": [
            "첫번 째 숫자를 입력하시오.: 1\n"
          ]
        },
        {
          "data": {
            "text/plain": [
              "'1'"
            ]
          },
          "execution_count": 66,
          "metadata": {},
          "output_type": "execute_result"
        }
      ],
      "source": [
        "input(\"첫번 째 숫자를 입력하시오.: \")"
      ]
    },
    {
      "cell_type": "code",
      "execution_count": null,
      "metadata": {
        "id": "f8e6c282",
        "outputId": "8dc3ddd7-0675-4d1a-d4dc-52c56080002d"
      },
      "outputs": [
        {
          "name": "stdout",
          "output_type": "stream",
          "text": [
            "두번 째 숫자를 입력하시오.: 1\n"
          ]
        },
        {
          "data": {
            "text/plain": [
              "'1'"
            ]
          },
          "execution_count": 6,
          "metadata": {},
          "output_type": "execute_result"
        }
      ],
      "source": [
        "input(\"두번 째 숫자를 입력하시오.: \")"
      ]
    },
    {
      "cell_type": "code",
      "execution_count": null,
      "metadata": {
        "id": "277739a1",
        "outputId": "db5d569b-4518-41c5-e281-a43938686e94"
      },
      "outputs": [
        {
          "name": "stdout",
          "output_type": "stream",
          "text": [
            "첫번 째 숫자를 입력하시오.: 1\n"
          ]
        }
      ],
      "source": [
        "number1=int(input(\"첫번 째 숫자를 입력하시오.: \"))"
      ]
    },
    {
      "cell_type": "code",
      "execution_count": null,
      "metadata": {
        "id": "0a7a8296",
        "outputId": "8361ead6-5da1-492c-87f1-098fd08af8c3"
      },
      "outputs": [
        {
          "name": "stdout",
          "output_type": "stream",
          "text": [
            "두번 째 숫자를 입력하시오.: 3\n"
          ]
        }
      ],
      "source": [
        "number2=int(input(\"두번 째 숫자를 입력하시오.: \"))"
      ]
    },
    {
      "cell_type": "code",
      "execution_count": null,
      "metadata": {
        "id": "999ce6db",
        "outputId": "2e9f1dc1-e245-44ef-b254-fab74d2b0712"
      },
      "outputs": [
        {
          "name": "stdout",
          "output_type": "stream",
          "text": [
            "1\n"
          ]
        }
      ],
      "source": [
        "print(number1)"
      ]
    },
    {
      "cell_type": "code",
      "execution_count": null,
      "metadata": {
        "id": "16bac660",
        "outputId": "27de3925-5a33-4f59-9549-71999390eb79"
      },
      "outputs": [
        {
          "name": "stdout",
          "output_type": "stream",
          "text": [
            "140716101544864\n"
          ]
        }
      ],
      "source": [
        "print(id(number1))"
      ]
    },
    {
      "cell_type": "code",
      "execution_count": null,
      "metadata": {
        "id": "8f9ac73c",
        "outputId": "d1ecde49-94ef-4d96-925f-9cef83fac550"
      },
      "outputs": [
        {
          "data": {
            "text/plain": [
              "int"
            ]
          },
          "execution_count": 11,
          "metadata": {},
          "output_type": "execute_result"
        }
      ],
      "source": [
        "type(number1)"
      ]
    },
    {
      "cell_type": "code",
      "execution_count": null,
      "metadata": {
        "id": "7d2e905f",
        "outputId": "017eb777-b837-4d1e-ad51-a96ee30f3682"
      },
      "outputs": [
        {
          "name": "stdout",
          "output_type": "stream",
          "text": [
            "4\n"
          ]
        }
      ],
      "source": [
        "print(number1 + number2)"
      ]
    },
    {
      "cell_type": "code",
      "execution_count": null,
      "metadata": {
        "id": "84a7cbb1",
        "outputId": "1a5b6de1-2767-4f45-f3dd-ced13cc13803"
      },
      "outputs": [
        {
          "name": "stdout",
          "output_type": "stream",
          "text": [
            "숫자 1과 숫자 2의 합은:  4\n"
          ]
        }
      ],
      "source": [
        "print(\"숫자 1과 숫자 2의 합은: \",number1 + number2)"
      ]
    },
    {
      "cell_type": "code",
      "execution_count": null,
      "metadata": {
        "id": "37fe31f0",
        "outputId": "38f0535d-6e14-43f3-b4ca-4fdf99d44a00"
      },
      "outputs": [
        {
          "name": "stdout",
          "output_type": "stream",
          "text": [
            "숫자 1과 숫자 2의 합은: 4\n"
          ]
        }
      ],
      "source": [
        "print(\"숫자 1과 숫자 2의 합은: {}\".format(number1 + number2))"
      ]
    },
    {
      "cell_type": "code",
      "execution_count": null,
      "metadata": {
        "id": "6f9d23a6",
        "outputId": "ddcc311f-ca6b-4801-c186-b4808fb285be"
      },
      "outputs": [
        {
          "data": {
            "text/plain": [
              "[1, 2, 3]"
            ]
          },
          "execution_count": 19,
          "metadata": {},
          "output_type": "execute_result"
        }
      ],
      "source": [
        "x = 1         # x는 정수입니다.\n",
        "x = 'hello'   # 여기서는 x가 문자열입니다.\n",
        "x = [1, 2, 3] # 여기서는 x가 리스트입니다.\n",
        "x"
      ]
    },
    {
      "cell_type": "code",
      "execution_count": null,
      "metadata": {
        "id": "ff1e6474"
      },
      "outputs": [],
      "source": [
        "a=10"
      ]
    },
    {
      "cell_type": "code",
      "execution_count": null,
      "metadata": {
        "id": "98992bb5"
      },
      "outputs": [],
      "source": [
        "b=10"
      ]
    },
    {
      "cell_type": "code",
      "execution_count": null,
      "metadata": {
        "id": "67e8ec80",
        "outputId": "e02e7256-0f93-4d66-e3ac-c2f5d23cbe36"
      },
      "outputs": [
        {
          "data": {
            "text/plain": [
              "(10, 10)"
            ]
          },
          "execution_count": 27,
          "metadata": {},
          "output_type": "execute_result"
        }
      ],
      "source": [
        "a, b"
      ]
    },
    {
      "cell_type": "code",
      "execution_count": null,
      "metadata": {
        "id": "a0510224",
        "outputId": "3c367abd-94c6-4786-b74c-9255e30c41e3"
      },
      "outputs": [
        {
          "data": {
            "text/plain": [
              "True"
            ]
          },
          "execution_count": 28,
          "metadata": {},
          "output_type": "execute_result"
        }
      ],
      "source": [
        "a is b"
      ]
    },
    {
      "cell_type": "code",
      "execution_count": null,
      "metadata": {
        "id": "a57b4346",
        "outputId": "cda9800a-10fa-4185-96e0-f9ee4574963d"
      },
      "outputs": [
        {
          "data": {
            "text/plain": [
              "(140716101545152, 140716101545152)"
            ]
          },
          "execution_count": 29,
          "metadata": {},
          "output_type": "execute_result"
        }
      ],
      "source": [
        "id(a), id(b)"
      ]
    },
    {
      "cell_type": "code",
      "execution_count": null,
      "metadata": {
        "id": "d6bf23eb"
      },
      "outputs": [],
      "source": [
        "b = 30"
      ]
    },
    {
      "cell_type": "code",
      "execution_count": null,
      "metadata": {
        "id": "cf0452e3",
        "outputId": "ffbe0c51-3b4c-41b8-d6d0-629b2c987518"
      },
      "outputs": [
        {
          "data": {
            "text/plain": [
              "(10, 30)"
            ]
          },
          "execution_count": 31,
          "metadata": {},
          "output_type": "execute_result"
        }
      ],
      "source": [
        "a, b"
      ]
    },
    {
      "cell_type": "code",
      "execution_count": null,
      "metadata": {
        "id": "1a40286b",
        "outputId": "9d16901b-3e1f-43f1-cf32-869609f6e2ba"
      },
      "outputs": [
        {
          "data": {
            "text/plain": [
              "False"
            ]
          },
          "execution_count": 32,
          "metadata": {},
          "output_type": "execute_result"
        }
      ],
      "source": [
        "a is b"
      ]
    },
    {
      "cell_type": "code",
      "execution_count": null,
      "metadata": {
        "id": "7d8e09bc",
        "outputId": "35194729-076f-455b-91bb-a6204b24dfd9"
      },
      "outputs": [
        {
          "data": {
            "text/plain": [
              "(140716101545152, 140716101545792)"
            ]
          },
          "execution_count": 33,
          "metadata": {},
          "output_type": "execute_result"
        }
      ],
      "source": [
        "id(a), id(b)"
      ]
    },
    {
      "cell_type": "code",
      "execution_count": null,
      "metadata": {
        "id": "2c800ad5"
      },
      "outputs": [],
      "source": [
        "b = 10"
      ]
    },
    {
      "cell_type": "code",
      "execution_count": null,
      "metadata": {
        "id": "6a3a3c98",
        "outputId": "1b2feae0-4c95-4c6f-b0cc-9e2a7563e10a"
      },
      "outputs": [
        {
          "data": {
            "text/plain": [
              "(10, 10)"
            ]
          },
          "execution_count": 35,
          "metadata": {},
          "output_type": "execute_result"
        }
      ],
      "source": [
        "a, b"
      ]
    },
    {
      "cell_type": "code",
      "execution_count": null,
      "metadata": {
        "id": "93ea83dd",
        "outputId": "bcb5c61c-1955-4616-d0f8-5b4899b4a2aa"
      },
      "outputs": [
        {
          "data": {
            "text/plain": [
              "True"
            ]
          },
          "execution_count": 36,
          "metadata": {},
          "output_type": "execute_result"
        }
      ],
      "source": [
        "a is b"
      ]
    },
    {
      "cell_type": "code",
      "execution_count": null,
      "metadata": {
        "id": "a0a27bae",
        "outputId": "b1fc3de8-ff40-441e-83c8-8b070e2c897e"
      },
      "outputs": [
        {
          "data": {
            "text/plain": [
              "(140716101545152, 140716101545152)"
            ]
          },
          "execution_count": 37,
          "metadata": {},
          "output_type": "execute_result"
        }
      ],
      "source": [
        "id(a), id(b)"
      ]
    },
    {
      "cell_type": "markdown",
      "metadata": {
        "id": "8d4a78cc"
      },
      "source": [
        "2. 상수"
      ]
    },
    {
      "cell_type": "code",
      "execution_count": null,
      "metadata": {
        "id": "ce55a246",
        "outputId": "d8f8a8c5-36dd-41de-b7a1-adf0cdd40183"
      },
      "outputs": [
        {
          "name": "stdout",
          "output_type": "stream",
          "text": [
            "0.35 3.141592 100\n"
          ]
        }
      ],
      "source": [
        "TAX_RATE = 0.35\n",
        "PI = 3.141592\n",
        "MAX_SIZE = 100\n",
        "print(TAX_RATE,PI,MAX_SIZE )"
      ]
    },
    {
      "cell_type": "code",
      "execution_count": null,
      "metadata": {
        "id": "155b6c51",
        "outputId": "860a6316-eae8-4ee6-b7c5-ed3beed9d78e"
      },
      "outputs": [
        {
          "data": {
            "text/plain": [
              "100"
            ]
          },
          "execution_count": 18,
          "metadata": {},
          "output_type": "execute_result"
        }
      ],
      "source": [
        "TAX_RATE = 100\n",
        "\n",
        "TAX_RATE"
      ]
    },
    {
      "cell_type": "code",
      "execution_count": null,
      "metadata": {
        "id": "73ec8c1b",
        "outputId": "4e95b1da-fb0e-465b-f18f-40a909c7c045"
      },
      "outputs": [
        {
          "data": {
            "text/plain": [
              "1"
            ]
          },
          "execution_count": 19,
          "metadata": {},
          "output_type": "execute_result"
        }
      ],
      "source": [
        "from typing import Final\n",
        "\n",
        "a: Final = 1\n",
        "\n",
        "a"
      ]
    },
    {
      "cell_type": "code",
      "execution_count": null,
      "metadata": {
        "id": "bad1780c",
        "outputId": "8d1c852c-3b1b-43b7-a31d-5b6ca5d6dd48"
      },
      "outputs": [
        {
          "data": {
            "text/plain": [
              "2"
            ]
          },
          "execution_count": 20,
          "metadata": {},
          "output_type": "execute_result"
        }
      ],
      "source": [
        "a = 2\n",
        "\n",
        "a"
      ]
    },
    {
      "cell_type": "markdown",
      "source": [],
      "metadata": {
        "id": "0TcaCnfrHqRi"
      }
    },
    {
      "cell_type": "markdown",
      "metadata": {
        "id": "74486e82"
      },
      "source": [
        "## 파이썬 원소와 자료형"
      ]
    },
    {
      "cell_type": "code",
      "execution_count": null,
      "metadata": {
        "id": "563dc636",
        "outputId": "0b325a5d-8ed9-4fa2-de2e-ca5409df0f87",
        "scrolled": true
      },
      "outputs": [
        {
          "name": "stdout",
          "output_type": "stream",
          "text": [
            "123000.0\n"
          ]
        }
      ],
      "source": [
        "print(123e3)"
      ]
    },
    {
      "cell_type": "code",
      "execution_count": null,
      "metadata": {
        "id": "3759e562",
        "outputId": "681803de-20c7-453f-9f5b-eda50e65d95f"
      },
      "outputs": [
        {
          "name": "stdout",
          "output_type": "stream",
          "text": [
            "0.0123\n"
          ]
        }
      ],
      "source": [
        "print(123e-4)"
      ]
    },
    {
      "cell_type": "code",
      "execution_count": null,
      "metadata": {
        "id": "09a0f596",
        "outputId": "4681ad24-6f44-4f45-cffe-7000921159f3"
      },
      "outputs": [
        {
          "name": "stdin",
          "output_type": "stream",
          "text": [
            "나이:  24\n"
          ]
        }
      ],
      "source": [
        "age = input('나이: ')"
      ]
    },
    {
      "cell_type": "code",
      "execution_count": null,
      "metadata": {
        "id": "28e879a2",
        "outputId": "267edca7-387b-40b2-f62c-bd7a15ee0427"
      },
      "outputs": [
        {
          "name": "stdout",
          "output_type": "stream",
          "text": [
            "34\n"
          ]
        }
      ],
      "source": [
        "print(int(age) + 10)"
      ]
    },
    {
      "cell_type": "code",
      "execution_count": null,
      "metadata": {
        "id": "ace77b14",
        "outputId": "dc79cadb-fab7-4e05-8c8d-e1e59f33c983"
      },
      "outputs": [
        {
          "name": "stdout",
          "output_type": "stream",
          "text": [
            "abc\n"
          ]
        }
      ],
      "source": [
        "print('abc')"
      ]
    },
    {
      "cell_type": "code",
      "execution_count": null,
      "metadata": {
        "id": "046272c7",
        "outputId": "f89f807a-5a15-428a-c6b1-79b1003b0f21"
      },
      "outputs": [
        {
          "name": "stdout",
          "output_type": "stream",
          "text": [
            "abc\n"
          ]
        }
      ],
      "source": [
        "print(\"abc\")"
      ]
    },
    {
      "cell_type": "code",
      "execution_count": null,
      "metadata": {
        "id": "783f5993",
        "outputId": "c3749ce6-e9c0-424e-fe0f-21cdb48d5562"
      },
      "outputs": [
        {
          "name": "stdout",
          "output_type": "stream",
          "text": [
            "'a'bc\n"
          ]
        }
      ],
      "source": [
        "print(\"'a'bc\")"
      ]
    },
    {
      "cell_type": "code",
      "execution_count": null,
      "metadata": {
        "id": "982052f6",
        "outputId": "ec6aa0c4-458c-4d86-9ff2-d83bed893608"
      },
      "outputs": [
        {
          "name": "stdout",
          "output_type": "stream",
          "text": [
            "\"a\"bc\n"
          ]
        }
      ],
      "source": [
        "print('\"a\"bc')"
      ]
    },
    {
      "cell_type": "code",
      "execution_count": null,
      "metadata": {
        "id": "844629b7",
        "outputId": "c6319f16-7eff-4699-e750-deb2944e9498"
      },
      "outputs": [
        {
          "name": "stdout",
          "output_type": "stream",
          "text": [
            "'a'bc\n",
            "\"a\"bc\n"
          ]
        }
      ],
      "source": [
        "print('\\'a\\'bc')\n",
        "\n",
        "print(\"\\\"a\\\"bc\")"
      ]
    },
    {
      "cell_type": "code",
      "execution_count": null,
      "metadata": {
        "id": "a00b1ade",
        "outputId": "89c89396-b1c6-4fa9-cdf9-659695585f36"
      },
      "outputs": [
        {
          "name": "stdout",
          "output_type": "stream",
          "text": [
            "abc\n",
            "abc\n",
            "\"a\"bc\n",
            "'a'bc\n"
          ]
        }
      ],
      "source": [
        "print('''abc''')\n",
        "\n",
        "print(\"\"\"abc\"\"\")\n",
        "\n",
        "print(\"\"\"\"a\"bc\"\"\")\n",
        "\n",
        "print(\"\"\"'a'bc\"\"\")"
      ]
    },
    {
      "cell_type": "code",
      "execution_count": null,
      "metadata": {
        "id": "56b4483c",
        "outputId": "cbaa1ac4-cc5f-4f3b-e566-3f5023b88808"
      },
      "outputs": [
        {
          "name": "stdout",
          "output_type": "stream",
          "text": [
            "p\n",
            "n\n",
            "yth\n",
            "yth\n"
          ]
        }
      ],
      "source": [
        "print('python'[0])\n",
        "print('python'[5])\n",
        "print('python'[1:4])\n",
        "print('python'[1:4])"
      ]
    },
    {
      "cell_type": "code",
      "execution_count": null,
      "metadata": {
        "id": "c739c928",
        "outputId": "f68a4cde-ddf3-488b-f8e4-06f5eeae4e8b"
      },
      "outputs": [
        {
          "name": "stdout",
          "output_type": "stream",
          "text": [
            "H\n",
            "W\n",
            "!\n"
          ]
        }
      ],
      "source": [
        "my_string = \"Hello, World!\"\n",
        "\n",
        "# 문자열에서 특정 인덱스의 문자 가져오기\n",
        "print(my_string[0])   # 'H'\n",
        "print(my_string[7])   # 'W'\n",
        "print(my_string[-1])  # '!'"
      ]
    },
    {
      "cell_type": "code",
      "execution_count": null,
      "metadata": {
        "id": "badcfc78",
        "outputId": "890e6665-27b3-4b46-dfff-1bd56869bff1"
      },
      "outputs": [
        {
          "name": "stdout",
          "output_type": "stream",
          "text": [
            "Hello\n",
            "World!\n",
            "Hello\n",
            "Hlo ol!\n"
          ]
        }
      ],
      "source": [
        "my_string = \"Hello, World!\"\n",
        "\n",
        "# 문자열에서 일부분 추출하기\n",
        "print(my_string[0:5])    # 'Hello'\n",
        "print(my_string[7:])     # 'World!'\n",
        "print(my_string[:5])     # 'Hello'\n",
        "print(my_string[::2])    # 'Hlo ol!'"
      ]
    },
    {
      "cell_type": "code",
      "execution_count": null,
      "metadata": {
        "id": "2660165b",
        "outputId": "cfccacdd-5774-4c8c-f5ef-bc4db07e4197"
      },
      "outputs": [
        {
          "name": "stdout",
          "output_type": "stream",
          "text": [
            "!\n",
            "World\n"
          ]
        }
      ],
      "source": [
        "my_string = \"Hello, World!\"\n",
        "\n",
        "print(my_string[-1])     # '!'\n",
        "print(my_string[-6:-1])  # 'World'"
      ]
    },
    {
      "cell_type": "code",
      "execution_count": null,
      "metadata": {
        "id": "4ef2f3e2",
        "outputId": "2f8c4d84-b99c-460d-c4c3-6cc5956a0c16"
      },
      "outputs": [
        {
          "name": "stdout",
          "output_type": "stream",
          "text": [
            "성별 : 1\n",
            "연 : 23\n",
            "월 : 01\n",
            "일 : 31\n",
            "생년월일 : 230131\n",
            "뒤 7자리 : 1234567\n"
          ]
        }
      ],
      "source": [
        "residentRegistrationNumber = \"230131-1234567\"\n",
        "\n",
        "print(\"성별 : \" + residentRegistrationNumber[7]) # 성별 : 1\n",
        "print(\"연 : \" + residentRegistrationNumber[0:2]) # 0 부터 2 직전까지 (0, 1) : 99 년\n",
        "print(\"월 : \" + residentRegistrationNumber[2:4]) # 2 부터 4 직전까지 (2, 3) : 01 월\n",
        "print(\"일 : \" + residentRegistrationNumber[4:6]) # 4 부터 6 직전까지 (4, 5) : 20 일\n",
        "\n",
        "print(\"생년월일 : \" + residentRegistrationNumber[:6]) # 처음부터 6 직전까지 -> jumin[0:6] 과 동일\n",
        "print(\"뒤 7자리 : \" + residentRegistrationNumber[7:]) # 7 부터 끝까지 -> jumin[7:14] 와 동일"
      ]
    },
    {
      "cell_type": "code",
      "execution_count": null,
      "metadata": {
        "id": "f90d2131",
        "outputId": "e95ab949-feb4-4ea3-ce38-746f8931a5bd"
      },
      "outputs": [
        {
          "name": "stdout",
          "output_type": "stream",
          "text": [
            "a\n",
            "b\n",
            "c\n",
            "c\n"
          ]
        }
      ],
      "source": [
        "print(\"abc\"[0])\n",
        "\n",
        "print(\"abc\"[1])\n",
        "\n",
        "print(\"abc\"[2])\n",
        "\n",
        "print(\"abc\"[-1])"
      ]
    },
    {
      "cell_type": "code",
      "execution_count": null,
      "metadata": {
        "id": "cbd72b31",
        "outputId": "1a7f0fb4-083b-4e26-cf43-b80f5a3c7ad5"
      },
      "outputs": [
        {
          "name": "stdout",
          "output_type": "stream",
          "text": [
            "ab\n",
            "bc\n"
          ]
        }
      ],
      "source": [
        "print(\"abc\"[:2])\n",
        "\n",
        "print(\"abc\"[-2:])"
      ]
    },
    {
      "cell_type": "code",
      "execution_count": null,
      "metadata": {
        "id": "473d7ea4",
        "outputId": "28ccfb01-0bd6-4dee-81cd-043e8c6ab95e"
      },
      "outputs": [
        {
          "name": "stdin",
          "output_type": "stream",
          "text": [
            "참(1)/거짓(0):  0\n"
          ]
        }
      ],
      "source": [
        "flag = input('참(1)/거짓(0): ')"
      ]
    },
    {
      "cell_type": "code",
      "execution_count": null,
      "metadata": {
        "id": "995b8c83",
        "outputId": "eb1b1810-1048-423b-afb3-154c8eed9e2b"
      },
      "outputs": [
        {
          "name": "stdout",
          "output_type": "stream",
          "text": [
            "0\n"
          ]
        }
      ],
      "source": [
        "print(flag)"
      ]
    },
    {
      "cell_type": "code",
      "execution_count": null,
      "metadata": {
        "id": "5ba6065d"
      },
      "outputs": [],
      "source": [
        "flag_i = int(flag)"
      ]
    },
    {
      "cell_type": "code",
      "execution_count": null,
      "metadata": {
        "id": "a05d8dc5",
        "outputId": "a979cb08-8876-44fe-df5d-3fd3539cbe80"
      },
      "outputs": [
        {
          "name": "stdout",
          "output_type": "stream",
          "text": [
            "False\n"
          ]
        }
      ],
      "source": [
        "print(bool(flag_i))"
      ]
    },
    {
      "cell_type": "code",
      "execution_count": null,
      "metadata": {
        "id": "df5e3a85",
        "outputId": "39f3ad7b-3365-4d10-a7f8-6e299e8f40ce"
      },
      "outputs": [
        {
          "name": "stdin",
          "output_type": "stream",
          "text": [
            "당신은 성인입니까?[에(1)/아니오(0)\n",
            " 0\n"
          ]
        }
      ],
      "source": [
        "flag_a = input('당신은 성인입니까?[에(1)/아니오(0)\\n')"
      ]
    },
    {
      "cell_type": "code",
      "execution_count": null,
      "metadata": {
        "id": "f2d0c46c",
        "outputId": "a2a795d8-9508-4c2d-bdff-673de8c73cb4"
      },
      "outputs": [
        {
          "name": "stdout",
          "output_type": "stream",
          "text": [
            "False\n"
          ]
        }
      ],
      "source": [
        "flag_a = int(flag_a)\n",
        "print(bool(flag_a))"
      ]
    },
    {
      "cell_type": "markdown",
      "metadata": {
        "id": "4c848454"
      },
      "source": [
        "## 파이썬에서 자료구조"
      ]
    },
    {
      "cell_type": "code",
      "execution_count": null,
      "metadata": {
        "id": "a0008dc4",
        "outputId": "ec6f4881-ff14-4e90-cfe0-9401b66c48b0"
      },
      "outputs": [
        {
          "name": "stdout",
          "output_type": "stream",
          "text": [
            "1\n",
            "String\n",
            "3\n"
          ]
        }
      ],
      "source": [
        "flist = [1, \"String\", 3]\n",
        "for i in flist:\n",
        "    print(i)"
      ]
    },
    {
      "cell_type": "markdown",
      "metadata": {
        "id": "78e2bad3"
      },
      "source": [
        "### Lists"
      ]
    },
    {
      "cell_type": "code",
      "execution_count": null,
      "metadata": {
        "id": "3e1d5964",
        "outputId": "aacf6337-f3e4-4887-8e47-4402a5682446"
      },
      "outputs": [
        {
          "name": "stdout",
          "output_type": "stream",
          "text": [
            "[]\n",
            "[1, 2, 3]\n",
            "['Life', 'is', 'too', 'short']\n",
            "[1, 2, 'Life', 'is']\n",
            "[1, 2, ['Life', 'is']]\n"
          ]
        }
      ],
      "source": [
        "a = []                   # 빈 리스트\n",
        "b = [1, 2, 3]            # 숫자로 이루어진 리스트\n",
        "c = ['Life', 'is', 'too', 'short']  # 문자열로 이루어진 리스트\n",
        "d = [1, 2, 'Life', 'is']  # 숫자와 문자열이 혼합된 리스트\n",
        "e = [1, 2, ['Life', 'is']]  # 리스트 내에 또 다른 리스트를 포함한 리스트\n",
        "\n",
        "print(a)  # []\n",
        "print(b)  # [1, 2, 3]\n",
        "print(c)  # ['Life', 'is', 'too', 'short']\n",
        "print(d)  # [1, 2, 'Life', 'is']\n",
        "print(e)  # [1, 2, ['Life', 'is']]"
      ]
    },
    {
      "cell_type": "code",
      "execution_count": null,
      "metadata": {
        "id": "39a9cd0d",
        "outputId": "9e521e1c-09df-4b0b-f2af-e6c3f226685d"
      },
      "outputs": [
        {
          "name": "stdout",
          "output_type": "stream",
          "text": [
            "[1, 2, 3]\n",
            "1\n",
            "4\n",
            "3\n",
            "1\n",
            "['a', 'b', 'c']\n",
            "['a', 'b', 'c']\n",
            "a\n",
            "b\n",
            "Life\n"
          ]
        }
      ],
      "source": [
        "L1 = [ 1, 2, 3] # L1: 리스트 [1, 2, 3]을 정의하고, 인덱싱을 통해 요소를 출력합니다. L1[0]는 첫 번째 요소를, L1[-1]은 마지막 요소를 나타냅니다.\n",
        "print(L1)\n",
        "print(L1[0])\n",
        "print(L1[0] + L1[2])\n",
        "print(L1[-1])\n",
        "L2 = [ 1, 2, 3, ['a', 'b', 'c']] # L2: 리스트 [1, 2, 3, ['a', 'b', 'c']]를 정의하고, 인덱싱을 통해 요소를 출력합니다. L2[-1][0]과 L2[-1][1]은 리스트 내에 있는 내부 리스트의 첫 번째와 두 번째 요소를 나타냅니다.\n",
        "print(L2[0])\n",
        "print(L2[-1])\n",
        "print(L2[3])\n",
        "print(L2[-1][0])\n",
        "print(L2[-1][1])\n",
        "L3 = [1, 2, ['a', 'b', ['Life', 'is']]] # L3: 리스트 [1, 2, ['a', 'b', ['Life', 'is']]]를 정의하고, 인덱싱을 통해 요소를 출력합니다. L3[2][2][0]은 리스트 내에 중첩된 내부 리스트에서 'Life'라는 문자열을 나타냅니다.\n",
        "print(L3[2][2][0])"
      ]
    },
    {
      "cell_type": "code",
      "execution_count": null,
      "metadata": {
        "id": "fc3949ad",
        "outputId": "6e15ffa1-7e06-4f5b-87e8-c8f2e3aca969"
      },
      "outputs": [
        {
          "name": "stdout",
          "output_type": "stream",
          "text": [
            "[[1, 2, 3], [4, 5, 6]]\n",
            "4\n"
          ]
        }
      ],
      "source": [
        "L1 = [\n",
        "    [1,2,3],\n",
        "    [4,5,6]\n",
        "]                  # L1: 2차원 리스트로 각각의 요소가 리스트인 리스트입니다. [1, 2, 3]과 [4, 5, 6] 두 개의 리스트가 포함되어 있습니다.\n",
        "\n",
        "print(L1)\n",
        "print(L1[1][0]) # L1[1][0]: L1의 두 번째 리스트(인덱스 1)에서 첫 번째 요소(인덱스 0)를 가져옵니다. 따라서 출력 결과는 4가 됩니다."
      ]
    },
    {
      "cell_type": "code",
      "execution_count": null,
      "metadata": {
        "id": "9fe6eccc",
        "outputId": "7e6ed9a7-20f9-4d18-e6a8-bd5f66a69cdf"
      },
      "outputs": [
        {
          "name": "stdout",
          "output_type": "stream",
          "text": [
            "[1, 2]\n",
            "12\n",
            "[1, 2]\n",
            "[3, 4, 5]\n",
            "[3, ['a', 'b', 'c'], 4]\n",
            "['a', 'b']\n"
          ]
        }
      ],
      "source": [
        "L1 = [1, 2, 3, 4, 5]\n",
        "print(L1[0:2])         # L1[0:2]는 리스트 L1에서 인덱스 0부터 1까지의 요소를 추출합니다.\n",
        "L2 = \"12345\"\n",
        "print(L2[0:2])         # L2[0:2]는 문자열 L2에서 인덱스 0부터 1까지의 문자열을 추출합니다.\n",
        "L3 = [1, 2, 3, 4, 5]\n",
        "L4 = L3[:2]                # L3[:2]는 리스트 L3에서 처음부터 인덱스 1까지의 요소를 추출합니다.\n",
        "L5 = L3[2:]                # L3[2:]는 리스트 L3에서 인덱스 2부터 마지막 요소까지를 추출합니다.\n",
        "print(L4)\n",
        "print(L5)\n",
        "L6 = [1, 2, 3, ['a', 'b', 'c'], 4, 5]\n",
        "print(L6[2:5])          # L6[2:5]는 리스트 L6에서 인덱스 2부터 4까지의 요소를 추출합니다.\n",
        "print(L6[3][:2])       # L6[3][:2]는 리스트 L6에서 인덱스 3의 리스트에서 처음부터 인덱스 1까지의 요소를 추출합니다."
      ]
    },
    {
      "cell_type": "code",
      "execution_count": null,
      "metadata": {
        "id": "4695da23",
        "outputId": "3db21155-88a2-4dcf-e19c-8f7852ea81d2"
      },
      "outputs": [
        {
          "name": "stdout",
          "output_type": "stream",
          "text": [
            "[1, 2, 3, 4, 5, 6]\n",
            "[1, 2, 3, 1, 2, 3, 1, 2, 3]\n"
          ]
        }
      ],
      "source": [
        "L1 = [1, 2, 3]\n",
        "L2 = [4, 5, 6]\n",
        "print(L1 + L2)  # L1 + L2: 두 개의 리스트 L1과 L2를 연결하여 하나의 새로운 리스트를 만듭니다.\n",
        "print(L1 * 3)      # L1 * 3: 리스트 L1을 세 번 반복하여 하나의 새로운 리스트를 만듭니다."
      ]
    },
    {
      "cell_type": "code",
      "execution_count": null,
      "metadata": {
        "id": "18573f23",
        "outputId": "8788b934-4640-459a-d5f2-f607a55c60a3"
      },
      "outputs": [
        {
          "name": "stdout",
          "output_type": "stream",
          "text": [
            "[1, 2, 3]\n",
            "[1, 2, 4]\n",
            "[2]\n",
            "[1, 'a', 'b', 'c', 4]\n",
            "[1, 'c', 4]\n",
            "[1, 4]\n"
          ]
        }
      ],
      "source": [
        "L1 = [1, 2, 3]\n",
        "print(L1)\n",
        "L1[2] = 4     # L1[2] = 4: 리스트 L1의 인덱스 2 위치의 값을 4로 변경합니다.\n",
        "print(L1)\n",
        "print(L1[1:2]) # L1[1:2] = ['a', 'b', 'c']: 리스트 L1에서 인덱스 1부터 인덱스 2 전까지의 범위에 해당하는 요소를 'a', 'b', 'c'로 대체합니다.\n",
        "L1[1:2] = ['a', 'b', 'c']\n",
        "print(L1)\n",
        "L1[1:3] = [] # L1[1:3] = []: 리스트 L1에서 인덱스 1부터 인덱스 2까지의 범위에 해당하는 요소를 삭제합니다.\n",
        "print(L1)\n",
        "del L1[1]     # del L1[1]: 리스트 L1에서 인덱스 1의 요소를 삭제합니다.\n",
        "print(L1)"
      ]
    },
    {
      "cell_type": "code",
      "execution_count": null,
      "metadata": {
        "id": "704296e9",
        "outputId": "855ab71c-2a35-4828-a51f-2a0789ad746c"
      },
      "outputs": [
        {
          "name": "stdout",
          "output_type": "stream",
          "text": [
            "True\n",
            "False\n",
            "False\n",
            "True\n"
          ]
        }
      ],
      "source": [
        "L1 = [1, 2, 3]\n",
        "\n",
        "print(2 in L1)    # True - 2는 리스트 L1 안에 존재합니다.\n",
        "print(4 in L1)    # False - 4는 리스트 L1 안에 존재하지 않습니다.\n",
        "print(2 not in L1)  # False - 2는 리스트 L1 안에 존재합니다. 따라서 \"not in\" 연산자는 False를 반환합니다.\n",
        "print(4 not in L1)  # True - 4는 리스트 L1 안에 존재하지 않습니다. 따라서 \"not in\" 연산자는 True를 반환합니다."
      ]
    },
    {
      "cell_type": "code",
      "execution_count": null,
      "metadata": {
        "id": "efdab32e",
        "outputId": "7bac1cfb-c492-42db-f619-5b4dcc18d983"
      },
      "outputs": [
        {
          "data": {
            "text/plain": [
              "['__add__',\n",
              " '__class__',\n",
              " '__contains__',\n",
              " '__delattr__',\n",
              " '__delitem__',\n",
              " '__dir__',\n",
              " '__doc__',\n",
              " '__eq__',\n",
              " '__format__',\n",
              " '__ge__',\n",
              " '__getattribute__',\n",
              " '__getitem__',\n",
              " '__gt__',\n",
              " '__hash__',\n",
              " '__iadd__',\n",
              " '__imul__',\n",
              " '__init__',\n",
              " '__init_subclass__',\n",
              " '__iter__',\n",
              " '__le__',\n",
              " '__len__',\n",
              " '__lt__',\n",
              " '__mul__',\n",
              " '__ne__',\n",
              " '__new__',\n",
              " '__reduce__',\n",
              " '__reduce_ex__',\n",
              " '__repr__',\n",
              " '__reversed__',\n",
              " '__rmul__',\n",
              " '__setattr__',\n",
              " '__setitem__',\n",
              " '__sizeof__',\n",
              " '__str__',\n",
              " '__subclasshook__',\n",
              " 'append',\n",
              " 'clear',\n",
              " 'copy',\n",
              " 'count',\n",
              " 'extend',\n",
              " 'index',\n",
              " 'insert',\n",
              " 'pop',\n",
              " 'remove',\n",
              " 'reverse',\n",
              " 'sort']"
            ]
          },
          "execution_count": 71,
          "metadata": {},
          "output_type": "execute_result"
        }
      ],
      "source": [
        "L1 = [1, 2, 3]\n",
        "\n",
        "dir(L1)"
      ]
    },
    {
      "cell_type": "code",
      "execution_count": null,
      "metadata": {
        "id": "e26be14c",
        "outputId": "42da9792-ec4e-4db2-8ea6-7d5bd101ed99"
      },
      "outputs": [
        {
          "name": "stdout",
          "output_type": "stream",
          "text": [
            "Output #83: [1, 2, 3, 4, 5, 6]\n",
            "Output #84: [1, 2, 3, 4, 6]\n",
            "Output #85: [1, 2, 3]\n"
          ]
        }
      ],
      "source": [
        "L1 = [1, 2, 3]\n",
        "\n",
        "L1.append(4)    # 리스트 끝에 요소 4를 추가합니다.\n",
        "L1.append(5)    # 리스트 끝에 요소 5를 추가합니다.\n",
        "L1.append(6)    # 리스트 끝에 요소 6을 추가합니다.\n",
        "print(\"Output #83: {}\".format(L1))  # [1, 2, 3, 4, 5, 6]\n",
        "\n",
        "L1.remove(5)    # 리스트에서 값이 5인 첫 번째 요소를 제거합니다.\n",
        "print(\"Output #84: {}\".format(L1))  # [1, 2, 3, 4, 6]\n",
        "\n",
        "L1.pop()        # 리스트의 마지막 요소를 제거합니다.\n",
        "L1.pop()        # 리스트의 마지막 요소를 한 번 더 제거합니다.\n",
        "print(\"Output #85: {}\".format(L1))  # [1, 2, 3]"
      ]
    },
    {
      "cell_type": "code",
      "execution_count": null,
      "metadata": {
        "id": "cd0deccb",
        "outputId": "1cb12b80-abe5-4746-86f7-3decccfbeac5"
      },
      "outputs": [
        {
          "name": "stdout",
          "output_type": "stream",
          "text": [
            "Output : [3, 5, 1, 7, 2, 8, 4, 9, 0, 6]\n",
            "Output #89: [0, 1, 2, 3, 4, 5, 6, 7, 8, 9]\n"
          ]
        }
      ],
      "source": [
        "unordered_list = [3, 5, 1, 7, 2, 8, 4, 9, 0, 6]\n",
        "print(\"Output : {}\".format(unordered_list))\n",
        "list_copy = unordered_list[:]  #list_copy = unordered_list[:]: [:]를 사용하여 리스트 unordered_list를 복사하여 새로운 리스트 list_copy를 생성합니다.\n",
        "list_copy.sort() # list_copy.sort(): sort() 메서드를 사용하여 list_copy 리스트를 오름차순으로 정렬합니다.\n",
        "print(\"Output #89: {}\".format(list_copy))"
      ]
    },
    {
      "cell_type": "code",
      "execution_count": null,
      "metadata": {
        "id": "ca932d4f",
        "outputId": "ad3af0b3-e361-4e62-929d-7f013ea873f3"
      },
      "outputs": [
        {
          "name": "stdout",
          "output_type": "stream",
          "text": [
            "[4, 5]\n"
          ]
        }
      ],
      "source": [
        "my_list = [1, 2, 3, 4, 5]\n",
        "new_list = [x for x in my_list if x > 3]\n",
        "print(new_list)"
      ]
    },
    {
      "cell_type": "code",
      "execution_count": null,
      "metadata": {
        "id": "6ce51fca",
        "outputId": "735fa703-76a6-4a77-fcfa-29bc345f919e"
      },
      "outputs": [
        {
          "name": "stdout",
          "output_type": "stream",
          "text": [
            "['SumatraMandheling', 'Santos']\n"
          ]
        }
      ],
      "source": [
        "CoffeeBean = [\"JamaicanBlueMountain\", \"KenyaAA\", \"SumatraMandheling\",\"ColombianMilds\",\"Santos\"]\n",
        "recall = [ ] # 리콜 대상 제품 리스트\n",
        "for p in CoffeeBean:\n",
        "    if p.startswith(\"S\"): # CoffeeBean이 S 로 시작하는가?\n",
        "        recall.append(p)\n",
        "print(recall)"
      ]
    },
    {
      "cell_type": "code",
      "execution_count": null,
      "metadata": {
        "id": "79738cce",
        "outputId": "b09cee4f-771c-42bb-9b50-701a72c6643a"
      },
      "outputs": [
        {
          "name": "stdout",
          "output_type": "stream",
          "text": [
            "['SumatraMandheling', 'Santos']\n"
          ]
        }
      ],
      "source": [
        "CoffeeBean = [\"JamaicanBlueMountain\", \"KenyaAA\", \"SumatraMandheling\",\"ColombianMilds\",\"Santos\"]\n",
        "recall = [p for p in CoffeeBean if p.startswith(\"S\")]\n",
        "print(recall)"
      ]
    },
    {
      "cell_type": "code",
      "execution_count": null,
      "metadata": {
        "id": "8bf6568b",
        "outputId": "ec380216-43e5-43a1-cad0-19ced6d1ecc0"
      },
      "outputs": [
        {
          "name": "stdout",
          "output_type": "stream",
          "text": [
            "['JamaicanBlueMountainSE', 'KenyaAASE', 'SumatraMandhelingSE', 'ColombianMildsSE', 'SantosSE']\n",
            "['jamaicanbluemountain', 'kenyaaa', 'sumatramandheling', 'colombianmilds', 'santos']\n",
            "['ColombianMilds - New 2023', 'Santos - New 2023']\n"
          ]
        }
      ],
      "source": [
        "CoffeeBean = [\"JamaicanBlueMountain\", \"KenyaAA\", \"SumatraMandheling\",\"ColombianMilds\",\"Santos\"]\n",
        "# 모든 CoffeeBean 뒤에 SE (Special Edition) 을 붙인다\n",
        "CoffeeBean_se = [p + \"SE\" for p in CoffeeBean]\n",
        "print(CoffeeBean_se)\n",
        "\n",
        "# 모든 CoffeeBean을 소문자로 바꾼다\n",
        "CoffeeBean_lower = [p.lower() for p in CoffeeBean]\n",
        "print(CoffeeBean_lower)\n",
        "\n",
        "# \"S\"자가 있는 CoffeeBean만 뽑는데 뒤에 (최신형) 이라는 글자를 붙인다\n",
        "CoffeeBean_new = [p+\" - New 2023\" for p in CoffeeBean if p.endswith(\"s\")]\n",
        "print(CoffeeBean_new)"
      ]
    },
    {
      "cell_type": "code",
      "execution_count": null,
      "metadata": {
        "id": "9b6e3141",
        "outputId": "ae4dc55a-d8a8-425e-e232-bcf7158f96b0"
      },
      "outputs": [
        {
          "data": {
            "text/plain": [
              "[100, 200, 300]"
            ]
          },
          "execution_count": 78,
          "metadata": {},
          "output_type": "execute_result"
        }
      ],
      "source": [
        "L11 = [100, 200, 300]\n",
        "L11"
      ]
    },
    {
      "cell_type": "code",
      "execution_count": null,
      "metadata": {
        "id": "8009ee93",
        "outputId": "474df929-4e9c-4653-ff34-d52399b16f44"
      },
      "outputs": [
        {
          "name": "stdout",
          "output_type": "stream",
          "text": [
            "[100, 200, 300]\n"
          ]
        }
      ],
      "source": [
        "print(L11)"
      ]
    },
    {
      "cell_type": "code",
      "execution_count": null,
      "metadata": {
        "id": "d3ec03c0",
        "outputId": "519aae20-8718-4416-90dc-50b8e88bc092"
      },
      "outputs": [
        {
          "name": "stdout",
          "output_type": "stream",
          "text": [
            "100\n",
            "200\n",
            "300\n",
            "[100, 200]\n",
            "[100, 200]\n",
            "[100, 200, 300]\n",
            "[100, 200, 300]\n",
            "[100, 200, 300]\n",
            "[100, 200, 300]\n",
            "300\n",
            "[200, 300]\n"
          ]
        }
      ],
      "source": [
        "print(L11[0])\n",
        "print(L11[1])\n",
        "print(L11[2])\n",
        "print(L11[0:2])\n",
        "print(L11[:2])\n",
        "print(L11[0:3])\n",
        "print(L11[0:])\n",
        "print(L11[:3])\n",
        "print(L11[:])\n",
        "print(L11[-1])\n",
        "print(L11[-2:])"
      ]
    },
    {
      "cell_type": "code",
      "execution_count": null,
      "metadata": {
        "id": "0da6c64c",
        "outputId": "f8af6f96-67a2-4384-ce0c-098b4fc4e7c9"
      },
      "outputs": [
        {
          "name": "stdout",
          "output_type": "stream",
          "text": [
            "[-1, 200, 300]\n",
            "[-1, 700, 300]\n"
          ]
        }
      ],
      "source": [
        "L11[0] = -1\n",
        "print(L11)\n",
        "L11[1] = L11[1] + 500\n",
        "print(L11)"
      ]
    },
    {
      "cell_type": "code",
      "execution_count": null,
      "metadata": {
        "id": "74644f81",
        "outputId": "c4c97f9f-5dd7-4627-fc74-d2e4afa84956"
      },
      "outputs": [
        {
          "data": {
            "text/plain": [
              "[-1, 700, 300, 999]"
            ]
          },
          "execution_count": 82,
          "metadata": {},
          "output_type": "execute_result"
        }
      ],
      "source": [
        "L11.extend([999])\n",
        "L11"
      ]
    },
    {
      "cell_type": "code",
      "execution_count": null,
      "metadata": {
        "id": "8d994cd6",
        "outputId": "e282c9e2-a821-495a-aa33-4b0f1d2632c6"
      },
      "outputs": [
        {
          "data": {
            "text/plain": [
              "[-1, 700, 300, 999, 3]"
            ]
          },
          "execution_count": 83,
          "metadata": {},
          "output_type": "execute_result"
        }
      ],
      "source": [
        "L11.append(3)\n",
        "L11"
      ]
    },
    {
      "cell_type": "code",
      "execution_count": null,
      "metadata": {
        "id": "8e38fd00",
        "outputId": "925d34a1-f823-411d-dcc5-0eaf3a06bba7"
      },
      "outputs": [
        {
          "data": {
            "text/plain": [
              "1"
            ]
          },
          "execution_count": 84,
          "metadata": {},
          "output_type": "execute_result"
        }
      ],
      "source": [
        "L11.index(700)"
      ]
    },
    {
      "cell_type": "code",
      "execution_count": null,
      "metadata": {
        "id": "eedbae47",
        "outputId": "072972cf-b8ce-472e-eca3-3267db44ab71"
      },
      "outputs": [
        {
          "ename": "ValueError",
          "evalue": "0 is not in list",
          "output_type": "error",
          "traceback": [
            "\u001b[1;31m---------------------------------------------------------------------------\u001b[0m",
            "\u001b[1;31mValueError\u001b[0m                                Traceback (most recent call last)",
            "Cell \u001b[1;32mIn[85], line 1\u001b[0m\n\u001b[1;32m----> 1\u001b[0m \u001b[43mL11\u001b[49m\u001b[38;5;241;43m.\u001b[39;49m\u001b[43mindex\u001b[49m\u001b[43m(\u001b[49m\u001b[38;5;241;43m0\u001b[39;49m\u001b[43m)\u001b[49m\n",
            "\u001b[1;31mValueError\u001b[0m: 0 is not in list"
          ]
        }
      ],
      "source": [
        "L11.index(0)"
      ]
    },
    {
      "cell_type": "code",
      "execution_count": null,
      "metadata": {
        "id": "09b915bf",
        "outputId": "2e2f0711-599a-49cf-d4a4-76eafd3e956a"
      },
      "outputs": [
        {
          "name": "stdout",
          "output_type": "stream",
          "text": [
            "['KOREA', 'FRANCE']\n"
          ]
        }
      ],
      "source": [
        "my_list = [\"korea\", \"English\", \"france\"]\n",
        "new_list = [x.upper() for x in my_list if \"a\" in x]\n",
        "print(new_list)  # ['KOREA', 'FRANCE']"
      ]
    },
    {
      "cell_type": "markdown",
      "metadata": {
        "id": "307d9857"
      },
      "source": [
        "### Tuples"
      ]
    },
    {
      "cell_type": "code",
      "execution_count": null,
      "metadata": {
        "id": "e92a6770",
        "outputId": "c54ee603-5eea-4637-c129-2d7424898809"
      },
      "outputs": [
        {
          "name": "stdout",
          "output_type": "stream",
          "text": [
            "()\n",
            "(1,)\n",
            "(1, 2, 3)\n",
            "(1, 2, 3)\n",
            "('a', 'b', ('ab', 'cd'))\n"
          ]
        },
        {
          "ename": "TypeError",
          "evalue": "'tuple' object does not support item assignment",
          "output_type": "error",
          "traceback": [
            "\u001b[1;31m---------------------------------------------------------------------------\u001b[0m",
            "\u001b[1;31mTypeError\u001b[0m                                 Traceback (most recent call last)",
            "Cell \u001b[1;32mIn[87], line 13\u001b[0m\n\u001b[0;32m     10\u001b[0m \u001b[38;5;28mprint\u001b[39m(T4)  \u001b[38;5;66;03m# (1, 2, 3)\u001b[39;00m\n\u001b[0;32m     11\u001b[0m \u001b[38;5;28mprint\u001b[39m(T5)  \u001b[38;5;66;03m# ('a', 'b', ('ab', 'cd'))\u001b[39;00m\n\u001b[1;32m---> 13\u001b[0m \u001b[43mT3\u001b[49m\u001b[43m[\u001b[49m\u001b[38;5;241;43m0\u001b[39;49m\u001b[43m]\u001b[49m \u001b[38;5;241m=\u001b[39m \u001b[38;5;241m100\u001b[39m  \u001b[38;5;66;03m# 튜플의 값을 변경하려고 시도함 (튜플은 변경 불가능한 자료형)\u001b[39;00m\n",
            "\u001b[1;31mTypeError\u001b[0m: 'tuple' object does not support item assignment"
          ]
        }
      ],
      "source": [
        "T1 = ()                # 빈 튜플\n",
        "T2 = (1,)              # 요소가 하나인 튜플 (마지막 쉼표는 튜플을 나타내기 위함)\n",
        "T3 = (1, 2, 3)         # 요소가 세 개인 튜플\n",
        "T4 = 1, 2, 3           # 괄호 없이 요소가 세 개인 튜플 (괄호 생략 가능)\n",
        "T5 = ('a', 'b', ('ab', 'cd'))  # 중첩된 튜플\n",
        "\n",
        "print(T1)  # ()\n",
        "print(T2)  # (1,)\n",
        "print(T3)  # (1, 2, 3)\n",
        "print(T4)  # (1, 2, 3)\n",
        "print(T5)  # ('a', 'b', ('ab', 'cd'))\n",
        "\n",
        "T3[0] = 100  # 튜플의 값을 변경하려고 시도함 (튜플은 변경 불가능한 자료형)"
      ]
    },
    {
      "cell_type": "code",
      "execution_count": null,
      "metadata": {
        "id": "c6e49d9c",
        "outputId": "e34af3f1-c2e6-4cb0-bdfb-8f3a7cf5b5f9"
      },
      "outputs": [
        {
          "name": "stdout",
          "output_type": "stream",
          "text": [
            "Output #1: ('x', 'y', 'z')\n",
            "Output #2: my_tuple has 3 elements\n",
            "Output #3: y\n",
            "Output #4: ('x', 'y', 'z', 'x', 'y', 'z')\n"
          ]
        }
      ],
      "source": [
        "my_tuple = ('x', 'y', 'z')\n",
        "print(\"Output #1: {}\".format(my_tuple))\n",
        "print(\"Output #2: my_tuple has {} elements\".format(len(my_tuple))) # len(my_tuple)은 튜플 my_tuple의 요소 개수를 반환합니다.\n",
        "print(\"Output #3: {}\".format(my_tuple[1])) # my_tuple[1]은 인덱스 1에 해당하는 두 번째 요소를 반환합니다.\n",
        "longer_tuple = my_tuple + my_tuple # my_tuple + my_tuple은 두 개의 튜플을 합쳐서 새로운 튜플인 longer_tuple을 생성합니다.\n",
        "print(\"Output #4: {}\".format(longer_tuple))"
      ]
    },
    {
      "cell_type": "code",
      "execution_count": null,
      "metadata": {
        "id": "7f5af924",
        "outputId": "ef11147b-2f16-419e-ea31-9e8fcb72ed55"
      },
      "outputs": [
        {
          "name": "stdout",
          "output_type": "stream",
          "text": [
            "Output #1: x y z\n",
            "Output #2: red robin\n",
            "Output #3: robin red\n"
          ]
        }
      ],
      "source": [
        "my_tuple = ('x', 'y', 'z')    # my_tuple = ('x', 'y', 'z'): 튜플 my_tuple의 값을 ('x', 'y', 'z')로 설정합니다.\n",
        "one, two, three = my_tuple # one, two, three = my_tuple: 튜플의 값들을 변수 one, two, three에 순서대로 언패킹하여 할당합니다.\n",
        "print(\"Output #1: {0} {1} {2}\".format(one, two, three))\n",
        "var1 = 'red'\n",
        "var2 = 'robin'\n",
        "print(\"Output #2: {} {}\".format(var1, var2))\n",
        "# 변수 var1, var2 = var2, var1 간의 값 교환\n",
        "var1, var2 = var2, var1  # var1, var2 = var2, var1: 이 코드는 var1과 var2의 값을 서로 바꾸는 방법으로, 파이썬의 특징인 튜플 패킹과 언패킹을 이용합니다. (var2, var1)은 튜플을 형성하고 이를 var1과 var2로 언패킹하여 서로의 값을 교환합니다.\n",
        "print(\"Output #3: {} {}\".format(var1, var2))"
      ]
    },
    {
      "cell_type": "code",
      "execution_count": null,
      "metadata": {
        "id": "01790620",
        "outputId": "12942245-23e4-4b68-c92e-ed3b76453dda"
      },
      "outputs": [
        {
          "name": "stdout",
          "output_type": "stream",
          "text": [
            "Output #1: (1, 2, 3)\n",
            "<class 'list'>\n",
            "<class 'tuple'>\n",
            "Output #2: ['x', 'y', 'z']\n",
            "<class 'tuple'>\n",
            "<class 'list'>\n"
          ]
        }
      ],
      "source": [
        "my_list = [1, 2, 3]\n",
        "my_tuple = ('x', 'y', 'z')\n",
        "\n",
        "# 리스트를 튜플로 변환하여 출력\n",
        "print(\"Output #1: {}\".format(tuple(my_list)))  # tuple(my_list): 리스트 my_list를 튜플로 변환합니다.\n",
        "print(type(my_list))  # 출력: <class 'list'>\n",
        "\n",
        "# 리스트를 튜플로 변환한 결과의 자료형 출력\n",
        "my_list_t = tuple(my_list)\n",
        "print(type(my_list_t))  # 출력: <class 'tuple'>\n",
        "\n",
        "# 튜플을 리스트로 변환하여 출력\n",
        "print(\"Output #2: {}\".format(list(my_tuple)))  # list(my_tuple): 튜플 my_tuple을 리스트로 변환합니다.\n",
        "print(type(my_tuple))  # 출력: <class 'tuple'>\n",
        "\n",
        "# 튜플을 리스트로 변환한 결과의 자료형 출력\n",
        "my_tuple_l = list(my_tuple)\n",
        "print(type(my_tuple_l))  # 출력: <class 'list'>"
      ]
    },
    {
      "cell_type": "code",
      "execution_count": null,
      "metadata": {
        "id": "ed9db236",
        "outputId": "418f8b05-1daf-4ce8-f586-c7ef3e74d14a"
      },
      "outputs": [
        {
          "data": {
            "text/plain": [
              "(444,)"
            ]
          },
          "execution_count": 92,
          "metadata": {},
          "output_type": "execute_result"
        }
      ],
      "source": [
        "T444 = (444,)\n",
        "T444"
      ]
    },
    {
      "cell_type": "code",
      "execution_count": null,
      "metadata": {
        "id": "f3cec19e",
        "outputId": "7192648f-1737-49e3-aea0-0d0c58b8c23c"
      },
      "outputs": [
        {
          "data": {
            "text/plain": [
              "tuple"
            ]
          },
          "execution_count": 93,
          "metadata": {},
          "output_type": "execute_result"
        }
      ],
      "source": [
        "type(T444)"
      ]
    },
    {
      "cell_type": "code",
      "execution_count": null,
      "metadata": {
        "id": "3d9b22bd",
        "outputId": "f0a97a2f-bfa0-40f9-f6eb-ad52ab0458a5"
      },
      "outputs": [
        {
          "data": {
            "text/plain": [
              "444"
            ]
          },
          "execution_count": 94,
          "metadata": {},
          "output_type": "execute_result"
        }
      ],
      "source": [
        "T444 = (444)\n",
        "T444"
      ]
    },
    {
      "cell_type": "code",
      "execution_count": null,
      "metadata": {
        "id": "f93c635c",
        "outputId": "49c36c30-8195-469e-97ad-6ec7ba8e8960"
      },
      "outputs": [
        {
          "data": {
            "text/plain": [
              "int"
            ]
          },
          "execution_count": 95,
          "metadata": {},
          "output_type": "execute_result"
        }
      ],
      "source": [
        "type(T444)"
      ]
    },
    {
      "cell_type": "code",
      "execution_count": null,
      "metadata": {
        "id": "23d3beac",
        "outputId": "7cadd6c0-3fb6-405b-a955-9a71ab359f55"
      },
      "outputs": [
        {
          "data": {
            "text/plain": [
              "(100, 200, [300, 5, 6])"
            ]
          },
          "execution_count": 96,
          "metadata": {},
          "output_type": "execute_result"
        }
      ],
      "source": [
        "T300 = (100, 200, [4, 5, 6])\n",
        "T300[2][0] = 300\n",
        "T300"
      ]
    },
    {
      "cell_type": "markdown",
      "metadata": {
        "id": "a6c68dbb"
      },
      "source": [
        "### Dictionaries"
      ]
    },
    {
      "cell_type": "code",
      "execution_count": null,
      "metadata": {
        "id": "568690db",
        "outputId": "233901e1-3949-4015-c8a5-2245e78fb05e"
      },
      "outputs": [
        {
          "name": "stdout",
          "output_type": "stream",
          "text": [
            "Output #1: {'one': 1, 'two': 2, 'three': 3}\n",
            "Output #2: a_dict has 3 elements\n",
            "Output #3: {'x': 'printer', 'y': 5, 'z': ['star', 'circle', 9]}\n",
            "Output #4: another_dict also has 3 elements\n"
          ]
        }
      ],
      "source": [
        "empty_dict = { }   # {}는 빈 딕셔너리를 나타냅니다.\n",
        "a_dict = {'one':1, 'two':2, 'three':3}   # {'one': 1, 'two': 2, 'three': 3}와 같은 형태는 키-값(key-value) 쌍으로 이루어진 딕셔너리를 나타냅니다.\n",
        "print(\"Output #1: {}\".format(a_dict))\n",
        "print(\"Output #2: a_dict has {!s} elements\".format(len(a_dict)))   # len() 함수를 사용하여 딕셔너리의 요소 개수를 확인할 수 있습니다.\n",
        "another_dict = {'x':'printer', 'y':5, 'z':['star', 'circle', 9]}\n",
        "print(\"Output #3: {}\".format(another_dict))\n",
        "print(\"Output #4: another_dict also has {!s} elements\".format(len(another_dict)))"
      ]
    },
    {
      "cell_type": "code",
      "execution_count": null,
      "metadata": {
        "id": "840632b5",
        "outputId": "e28338e2-2268-4c3a-8be6-e8100eb986a6"
      },
      "outputs": [
        {
          "name": "stdout",
          "output_type": "stream",
          "text": [
            "Output #..: 2\n",
            "Output #5: ['star', 'circle', 9]\n",
            "Output #6: star\n",
            "Output #7: ['circle', 9]\n"
          ]
        }
      ],
      "source": [
        "print(\"Output #..: {}\".format(a_dict['two']))\n",
        "\n",
        "print(\"Output #5: {}\".format(another_dict['z']))\n",
        "print(\"Output #6: {}\".format(another_dict['z'][0]))\n",
        "print(\"Output #7: {}\".format(another_dict['z'][1:]))"
      ]
    },
    {
      "cell_type": "code",
      "execution_count": null,
      "metadata": {
        "id": "95f47be3",
        "outputId": "a395a2d2-3f2b-47ec-f55d-051d49e08391"
      },
      "outputs": [
        {
          "name": "stdout",
          "output_type": "stream",
          "text": [
            "Output #8: dict_keys(['one', 'two', 'three'])\n",
            "Output #9: dict_values([1, 2, 3])\n",
            "Output #10: dict_items([('one', 1), ('two', 2), ('three', 3)])\n"
          ]
        }
      ],
      "source": [
        "a_dict_keys = a_dict.keys()\n",
        "print(\"Output #8: {}\".format(a_dict_keys))\n",
        "print(\"Output #9: {}\".format(a_dict.values()))\n",
        "print(\"Output #10: {}\".format(a_dict.items()))"
      ]
    },
    {
      "cell_type": "code",
      "execution_count": null,
      "metadata": {
        "id": "eb3866e4",
        "outputId": "f620bea1-90e8-46c5-ecc7-2ab5f09b9fca"
      },
      "outputs": [
        {
          "name": "stdout",
          "output_type": "stream",
          "text": [
            "Output #11: {'one': 1, 'two': 2, 'three': 3}\n"
          ]
        }
      ],
      "source": [
        "a_new_dict = a_dict.copy()\n",
        "print(\"Output #11: {}\".format(a_new_dict))"
      ]
    },
    {
      "cell_type": "code",
      "execution_count": null,
      "metadata": {
        "id": "5f822ca6",
        "outputId": "984ce3ee-309b-4a7a-c8f6-7b5688728308"
      },
      "outputs": [
        {
          "name": "stdout",
          "output_type": "stream",
          "text": [
            "Output #1: y is a key in another_dict: dict_keys(['x', 'y', 'z']).\n",
            "Output #2: c is not a key in another_dict: dict_keys(['x', 'y', 'z']).\n",
            "Output #3: 3\n",
            "Output #3: 3\n",
            "Output #4: None\n",
            "Output #5: Not in dict\n"
          ]
        }
      ],
      "source": [
        "a_dict = {'one': 1, 'two': 2, 'three': 3}\n",
        "another_dict = {'x': 'printer', 'y': 5, 'z': ['star', 'circle', 9]}\n",
        "\n",
        "if 'y' in another_dict:   # 'y' 키가 another_dict에 있는지 확인합니다.\n",
        "    print(\"Output #1: y is a key in another_dict: {}.\".format(another_dict.keys()))\n",
        "\n",
        "if 'c' not in another_dict:   # c' 키가 another_dict에 없는지 확인합니다.\n",
        "    print(\"Output #2: c is not a key in another_dict: {}.\".format(another_dict.keys()))\n",
        "\n",
        "# 딕셔너리에서 특정 키에 대한 값을 가져오는 방법 -a_dict['three']와 a_dict.get('three')는 딕셔너리에서 'three' 키에 해당하는 값을 가져옵니다.\n",
        "print(\"Output #3: {!s}\".format(a_dict['three']))  # Output #3: 3\n",
        "print(\"Output #3: {!s}\".format(a_dict.get('three')))  # Output #3: 3\n",
        "\n",
        "# 존재하지 않는 키에 대한 값 가져오기 - KeyError 발생\n",
        "# print(\"Output #3: {!s}\".format(a_dict['four']))\n",
        "\n",
        "# a_dict.get('four')와 a_dict.get('four', 'Not in dict')는 존재하지 않는 'four' 키에 대한 값을 가져옵니다. KeyError가 발생하지 않고 get() 메서드를 사용할 때 기본값으로 None을 반환합니다. 추가적으로, get() 메서드의 두 번째 매개변수를 사용하여 기본값을 설정할 수 있습니다.\n",
        "# 존재하지 않는 키에 대한 값 가져오기 - get() 메서드 사용하여 기본값 반환\n",
        "print(\"Output #4: {!s}\".format(a_dict.get('four')))  # Output #4: None\n",
        "\n",
        "# get() 메서드를 사용하면 존재하지 않는 키일 때 기본값을 지정할 수 있음\n",
        "print(\"Output #5: {!s}\".format(a_dict.get('four', 'Not in dict')))  # Output #5: Not in dict"
      ]
    },
    {
      "cell_type": "code",
      "execution_count": null,
      "metadata": {
        "id": "e33c2568",
        "outputId": "c4a311fa-ffe1-4486-cc0c-0b280aa22a7c"
      },
      "outputs": [
        {
          "data": {
            "text/plain": [
              "{'key1': [333, 444, 555], 'key2': (100, 200)}"
            ]
          },
          "execution_count": 102,
          "metadata": {},
          "output_type": "execute_result"
        }
      ],
      "source": [
        "D1 = {\n",
        "    \"key1\": [333, 444, 555],\n",
        "    \"key2\": (100, 200)\n",
        "}\n",
        "D1"
      ]
    },
    {
      "cell_type": "code",
      "execution_count": null,
      "metadata": {
        "id": "f8ba9bbf",
        "outputId": "c5eb2aae-4a87-4182-e963-d2922c1ea9ba"
      },
      "outputs": [
        {
          "data": {
            "text/plain": [
              "[-999, 444, 555]"
            ]
          },
          "execution_count": 103,
          "metadata": {},
          "output_type": "execute_result"
        }
      ],
      "source": [
        "D1[\"key1\"][0] = -999\n",
        "D1[\"key1\"]"
      ]
    },
    {
      "cell_type": "code",
      "execution_count": null,
      "metadata": {
        "id": "ca451689",
        "outputId": "f9196093-fb86-4ec0-e2c7-b5164f954929",
        "scrolled": true
      },
      "outputs": [
        {
          "data": {
            "text/plain": [
              "1234"
            ]
          },
          "execution_count": 104,
          "metadata": {},
          "output_type": "execute_result"
        }
      ],
      "source": [
        "D1[\"key2\"] = 1234\n",
        "D1[\"key2\"]"
      ]
    },
    {
      "cell_type": "markdown",
      "metadata": {
        "id": "77662ef8"
      },
      "source": [
        "### Set"
      ]
    },
    {
      "cell_type": "code",
      "execution_count": null,
      "metadata": {
        "id": "d203293a",
        "outputId": "7a76502c-88e8-4191-e662-d5bdd81b1742"
      },
      "outputs": [
        {
          "name": "stdout",
          "output_type": "stream",
          "text": [
            "{'JamaicanBlueMountain'}\n",
            "{'JamaicanBlueMountain'}\n",
            "{'JamaicanBlueMountain', 'SumatraMandheling', 'Mocha', 'KenyaAA'}\n",
            "{'JamaicanBlueMountain', 'SumatraMandheling', 'Mocha', 'KenyaAA'}\n",
            "{'KenyaAA', 'SumatraMandheling'}\n",
            "{'KenyaAA', 'SumatraMandheling'}\n",
            "{'Mocha', 'JamaicanBlueMountain', 'KenyaAA'}\n",
            "{'JamaicanBlueMountain', 'SumatraMandheling'}\n"
          ]
        }
      ],
      "source": [
        "CompanyA = {\"JamaicanBlueMountain\", \"KenyaAA\", \"SumatraMandheling\"} # CompanyA CoffeeBeen 집합\n",
        "CompanyB = set([\"JamaicanBlueMountain\", \"Mocha\"]) # CompanyB CoffeeBeen 집합\n",
        "\n",
        "#교집합\n",
        "print(CompanyA & CompanyB) # {'JamaicanBlueMountain'}\n",
        "print(CompanyA.intersection(CompanyB)) # {'JamaicanBlueMountain'}\n",
        "\n",
        "#합집합\n",
        "print(CompanyA | CompanyB) # {'Mocha', 'JamaicanBlueMountain', 'KenyaAA', 'SumatraMandheling'}\n",
        "print(CompanyA.union(CompanyB)) # {'Mocha', 'JamaicanBlueMountain', 'KenyaAA', 'SumatraMandheling'}\n",
        "\n",
        "#차집합\n",
        "print(CompanyA - CompanyB) # {'SumatraMandheling', 'KenyaAA'}\n",
        "print(CompanyA.difference(CompanyB)) # {'SumatraMandheling', 'KenyaAA'}\n",
        "\n",
        "#추가\n",
        "CompanyB.add(\"KenyaAA\")\n",
        "print(CompanyB) # {'Mocha', 'JamaicanBlueMountain', 'KenyaAA'}\n",
        "\n",
        "#삭제\n",
        "CompanyA.remove(\"KenyaAA\")\n",
        "print(CompanyA) # {'JamaicanBlueMountain', 'SumatraMandheling'}"
      ]
    },
    {
      "cell_type": "code",
      "execution_count": null,
      "metadata": {
        "id": "902dee4d",
        "outputId": "ff28bbba-a5f8-4712-801f-526003659c40"
      },
      "outputs": [
        {
          "data": {
            "text/plain": [
              "True"
            ]
          },
          "execution_count": 106,
          "metadata": {},
          "output_type": "execute_result"
        }
      ],
      "source": [
        "CompanyA.issubset({'JamaicanBlueMountain', 'SumatraMandheling'})"
      ]
    },
    {
      "cell_type": "code",
      "execution_count": null,
      "metadata": {
        "id": "7e2fb24d",
        "outputId": "77becb20-2cfb-4053-a3f0-1c892ca3c81c"
      },
      "outputs": [
        {
          "data": {
            "text/plain": [
              "False"
            ]
          },
          "execution_count": 107,
          "metadata": {},
          "output_type": "execute_result"
        }
      ],
      "source": [
        "CompanyA.issubset({'KenyaAA'})"
      ]
    },
    {
      "cell_type": "markdown",
      "metadata": {
        "id": "b8b193c0"
      },
      "source": [
        "## Python’s Statement"
      ]
    },
    {
      "cell_type": "code",
      "execution_count": null,
      "metadata": {
        "id": "9fa45f3f",
        "outputId": "42d825ec-dfb3-42be-ef19-ec514d35da81"
      },
      "outputs": [
        {
          "name": "stdout",
          "output_type": "stream",
          "text": [
            "big\n"
          ]
        }
      ],
      "source": [
        "iCnt = 100\n",
        "if iCnt > 50 :\n",
        " print(\"big\")\n",
        "else:\n",
        " print(\"small\")"
      ]
    },
    {
      "cell_type": "code",
      "execution_count": null,
      "metadata": {
        "id": "19da8c61",
        "outputId": "b5b4a344-9469-44e8-81f9-a96af3310768"
      },
      "outputs": [
        {
          "name": "stdout",
          "output_type": "stream",
          "text": [
            "big\n"
          ]
        }
      ],
      "source": [
        "iCnt = 70;\n",
        "if iCnt > 80 :\n",
        " print(\"very big\")\n",
        "elif iCnt > 50 :\n",
        " print(\"big\")\n",
        "else:\n",
        " print(\"small\")"
      ]
    },
    {
      "cell_type": "code",
      "execution_count": null,
      "metadata": {
        "id": "bb314b74",
        "outputId": "0c4a5697-db4e-4875-944a-191a8d76c797"
      },
      "outputs": [
        {
          "name": "stdin",
          "output_type": "stream",
          "text": [
            "첫번째 정수값 >>  10\n",
            "연산자 >>  +\n",
            "두번째 정수값 >>  30\n"
          ]
        },
        {
          "name": "stdout",
          "output_type": "stream",
          "text": [
            "==========================\n",
            "10 더하기 30을 계산합니다.\n",
            "==========================\n",
            "10 + 30 = 40입니다.\n"
          ]
        }
      ],
      "source": [
        "num1 = int(input(\"첫번째 정수값 >> \"))\n",
        "operator = input(\"연산자 >> \")\n",
        "num2 = int(input(\"두번째 정수값 >> \"))\n",
        "\n",
        "if operator == '+':\n",
        "    result = num1 + num2\n",
        "    operator_str = '더하기'\n",
        "elif operator == '-':\n",
        "    result = num1 - num2\n",
        "    operator_str = '빼기'\n",
        "elif operator == '*':\n",
        "    result = num1 * num2\n",
        "    operator_str = '곱하기'\n",
        "elif operator == '/':\n",
        "    result = num1 / num2\n",
        "    operator_str = '나누기'\n",
        "else:\n",
        "    print(\"잘못된 연산자입니다.\")\n",
        "    exit()\n",
        "\n",
        "print(\"==========================\")\n",
        "print(f\"{num1} {operator_str} {num2}을 계산합니다.\")\n",
        "print(\"==========================\")\n",
        "print(f\"{num1} {operator} {num2} = {result}입니다.\")"
      ]
    },
    {
      "cell_type": "code",
      "execution_count": null,
      "metadata": {
        "id": "42f73258",
        "outputId": "dda95878-fa9e-48e7-d5e3-dc54e9744a56"
      },
      "outputs": [
        {
          "name": "stdout",
          "output_type": "stream",
          "text": [
            "key= 1 value= 1\n",
            "key= 2 value= 4\n",
            "key= 3 value= 9\n"
          ]
        }
      ],
      "source": [
        "dic = {1:1, 2:4, 3:9}\n",
        "for key in dic:\n",
        "    print('key=', key, 'value=', dic[key])"
      ]
    },
    {
      "cell_type": "code",
      "execution_count": null,
      "metadata": {
        "id": "40b7f639",
        "outputId": "c94c825f-ed06-40f8-c29e-cbc0ee73f129"
      },
      "outputs": [
        {
          "name": "stdout",
          "output_type": "stream",
          "text": [
            "[ ] 1번째 손님 (소요시간 : 48분)\n",
            "[O] 2번째 손님 (소요시간 : 14분)\n",
            "[ ] 3번째 손님 (소요시간 : 35분)\n",
            "[ ] 4번째 손님 (소요시간 : 30분)\n",
            "[O] 5번째 손님 (소요시간 : 13분)\n",
            "[ ] 6번째 손님 (소요시간 : 16분)\n",
            "[ ] 7번째 손님 (소요시간 : 35분)\n",
            "[ ] 8번째 손님 (소요시간 : 33분)\n",
            "[ ] 9번째 손님 (소요시간 : 42분)\n",
            "[ ] 10번째 손님 (소요시간 : 25분)\n",
            "[ ] 11번째 손님 (소요시간 : 29분)\n",
            "[ ] 12번째 손님 (소요시간 : 29분)\n",
            "[ ] 13번째 손님 (소요시간 : 50분)\n",
            "[ ] 14번째 손님 (소요시간 : 16분)\n",
            "[ ] 15번째 손님 (소요시간 : 36분)\n",
            "[ ] 16번째 손님 (소요시간 : 28분)\n",
            "[O] 17번째 손님 (소요시간 : 15분)\n",
            "[ ] 18번째 손님 (소요시간 : 47분)\n",
            "[ ] 19번째 손님 (소요시간 : 45분)\n",
            "[ ] 20번째 손님 (소요시간 : 21분)\n",
            "[ ] 21번째 손님 (소요시간 : 32분)\n",
            "[ ] 22번째 손님 (소요시간 : 37분)\n",
            "[ ] 23번째 손님 (소요시간 : 20분)\n",
            "[ ] 24번째 손님 (소요시간 : 46분)\n",
            "[ ] 25번째 손님 (소요시간 : 45분)\n",
            "[ ] 26번째 손님 (소요시간 : 42분)\n",
            "[O] 27번째 손님 (소요시간 : 10분)\n",
            "[ ] 28번째 손님 (소요시간 : 39분)\n",
            "[ ] 29번째 손님 (소요시간 : 50분)\n",
            "[ ] 30번째 손님 (소요시간 : 37분)\n",
            "[O] 31번째 손님 (소요시간 : 13분)\n",
            "[ ] 32번째 손님 (소요시간 : 24분)\n",
            "[ ] 33번째 손님 (소요시간 : 20분)\n",
            "[ ] 34번째 손님 (소요시간 : 50분)\n",
            "[ ] 35번째 손님 (소요시간 : 39분)\n",
            "[O] 36번째 손님 (소요시간 : 7분)\n",
            "[ ] 37번째 손님 (소요시간 : 48분)\n",
            "[O] 38번째 손님 (소요시간 : 6분)\n",
            "[ ] 39번째 손님 (소요시간 : 50분)\n",
            "[ ] 40번째 손님 (소요시간 : 17분)\n",
            "[ ] 41번째 손님 (소요시간 : 32분)\n",
            "[ ] 42번째 손님 (소요시간 : 37분)\n",
            "[ ] 43번째 손님 (소요시간 : 27분)\n",
            "[ ] 44번째 손님 (소요시간 : 34분)\n",
            "[ ] 45번째 손님 (소요시간 : 27분)\n",
            "[ ] 46번째 손님 (소요시간 : 43분)\n",
            "[ ] 47번째 손님 (소요시간 : 40분)\n",
            "[ ] 48번째 손님 (소요시간 : 33분)\n",
            "[ ] 49번째 손님 (소요시간 : 35분)\n",
            "[ ] 50번째 손님 (소요시간 : 38분)\n",
            "총 탑승 승객 : 7분\n"
          ]
        }
      ],
      "source": [
        "from random import *\n",
        "\n",
        "cnt = 0 # 총 탑승 승객 수\n",
        "for i in range(1, 51): # 총 50분의 승객\n",
        "    time = randrange(5, 51) # 5분 ~ 50분 사이의 소요 시간\n",
        "\n",
        "    if 5 <= time <= 15: # 5분 ~ 15분 사이의 손님의 경우 매칭 성공\n",
        "        print(\"[O] {0}번째 손님 (소요시간 : {1}분)\".format(i, time)) # 성공 정보 출력\n",
        "        cnt += 1 # 총 탑승 승객 수 증가 처리\n",
        "    else: # 매칭 실패한 경우\n",
        "        print(\"[ ] {0}번째 손님 (소요시간 : {1}분)\".format(i, time)) # 실패 정보 출력\n",
        "\n",
        "print(\"총 탑승 승객 : {0}분\".format(cnt))"
      ]
    },
    {
      "cell_type": "code",
      "execution_count": null,
      "metadata": {
        "id": "3da15cf9",
        "outputId": "aa768928-9d97-48c2-a22b-dfe5df439de8"
      },
      "outputs": [
        {
          "name": "stdout",
          "output_type": "stream",
          "text": [
            "1, 번 손님!!!\n",
            "3, 번 손님!!!\n",
            "4, 번 손님!!!\n",
            "6, 번 손님!!!\n",
            "7, 번 손님!!!\n",
            "8, 번 손님!!!\n",
            "9, 번 손님!!!\n",
            "10, 번 손님!!!\n"
          ]
        }
      ],
      "source": [
        "Customer = [2, 5] # 자리를 뜬 손님\n",
        "\n",
        "for waitingNumber in range(1, 11): # 대기번호 1~10번\n",
        "    if waitingNumber in Customer: # 호출 손님이 자리를 떴을 경우, 다음 손님으로 이동\n",
        "        continue\n",
        "    print(\"{0}, 번 손님!!!\".format(waitingNumber))"
      ]
    },
    {
      "cell_type": "code",
      "execution_count": null,
      "metadata": {
        "id": "2bc2aa98",
        "outputId": "7ab30a76-42e1-483b-88eb-1580bc154ea5"
      },
      "outputs": [
        {
          "name": "stdout",
          "output_type": "stream",
          "text": [
            "1, 책을 읽어봐\n",
            "3, 책을 읽어봐\n",
            "4, 책을 읽어봐\n",
            "6, 책을 읽어봐\n",
            "오늘 수업 여기까지. 7는 교무실로 따라와\n"
          ]
        }
      ],
      "source": [
        "absent = [2, 5] # 결석한 학생 출석번호\n",
        "no_book = [7] # 책을 가져오지 않은 학생 출석번호\n",
        "\n",
        "for student in range(1, 11): # 출석번호 1~10번\n",
        "    if student in absent: # 결석했으면 책을 읽지 않고 다음 학생으로 넘어가기\n",
        "        continue\n",
        "    elif student in no_book: # 책을 가져오지 않았으면 바로 수업 종료 (반복문 탈출)\n",
        "        print(\"오늘 수업 여기까지. {0}는 교무실로 따라와\".format(student))\n",
        "        break\n",
        "    print(\"{0}, 책을 읽어봐\".format(student))"
      ]
    },
    {
      "cell_type": "markdown",
      "metadata": {
        "id": "6c5c9a74"
      },
      "source": [
        "## Python’s 함수"
      ]
    },
    {
      "cell_type": "code",
      "execution_count": null,
      "metadata": {
        "id": "282cfb47",
        "outputId": "c04833c1-4a0d-46a0-8eac-5895064aa2db"
      },
      "outputs": [
        {
          "name": "stdout",
          "output_type": "stream",
          "text": [
            "7\n"
          ]
        }
      ],
      "source": [
        "def sum(a,b):\n",
        "    return a+b\n",
        "\n",
        "print(sum(3,4))"
      ]
    },
    {
      "cell_type": "code",
      "execution_count": null,
      "metadata": {
        "id": "1e49c9c2",
        "outputId": "16a40743-3608-486c-a009-5d93d1da8328"
      },
      "outputs": [
        {
          "name": "stdout",
          "output_type": "stream",
          "text": [
            "hello\n"
          ]
        }
      ],
      "source": [
        "def say():\\\n",
        "    return 'hello'\n",
        "a = say()\n",
        "print(a)"
      ]
    },
    {
      "cell_type": "code",
      "execution_count": null,
      "metadata": {
        "id": "6c9c5ac2",
        "outputId": "dbfe51d3-f4a4-445d-f352-1027c8d2452c"
      },
      "outputs": [
        {
          "name": "stdout",
          "output_type": "stream",
          "text": [
            "hello\n",
            "hello\n",
            "None\n"
          ]
        }
      ],
      "source": [
        "def say():\n",
        "    print(\"hello\")\n",
        "\n",
        "a = say()\n",
        "\n",
        "print(say())"
      ]
    },
    {
      "cell_type": "code",
      "execution_count": null,
      "metadata": {
        "id": "b404f9db",
        "outputId": "0787f6dd-5423-4b1c-e7db-481c8e611719"
      },
      "outputs": [
        {
          "name": "stdout",
          "output_type": "stream",
          "text": [
            "15\n"
          ]
        }
      ],
      "source": [
        "def sum_many(*args):\n",
        "    sum =  0\n",
        "    for i in args:\n",
        "        sum += i\n",
        "    return sum\n",
        "\n",
        "print(sum_many(1,2,3,4,5))"
      ]
    },
    {
      "cell_type": "code",
      "execution_count": null,
      "metadata": {
        "id": "a3c8dbbe",
        "outputId": "654cc00c-d395-46a8-d595-14795ad9993f"
      },
      "outputs": [
        {
          "name": "stdout",
          "output_type": "stream",
          "text": [
            "120\n"
          ]
        }
      ],
      "source": [
        "def sum_mul(choice, *args):\n",
        "    if choice == 'mul':\n",
        "        result = 1\n",
        "        for i in args:\n",
        "            result *= i\n",
        "    else:\n",
        "        result = 0\n",
        "        for i in args:\n",
        "            result += i\n",
        "    return result\n",
        "\n",
        "print(sum_mul('mul', 1,2,3,4,5))"
      ]
    },
    {
      "cell_type": "code",
      "execution_count": null,
      "metadata": {
        "id": "58419bd4",
        "outputId": "98e5eb61-d3c4-472f-960e-1ff9c5442a60"
      },
      "outputs": [
        {
          "name": "stdout",
          "output_type": "stream",
          "text": [
            "(7, 12)\n"
          ]
        }
      ],
      "source": [
        "def sum_and_mul(a, b):\n",
        "    return (a+b, a*b)\n",
        "\n",
        "print(sum_and_mul(3,4))"
      ]
    },
    {
      "cell_type": "code",
      "execution_count": null,
      "metadata": {
        "id": "319a2d5b",
        "outputId": "89157f0c-2ed4-493d-9de0-b1109f9b9232"
      },
      "outputs": [
        {
          "name": "stdout",
          "output_type": "stream",
          "text": [
            "genius\n"
          ]
        }
      ],
      "source": [
        "def say_nick(nick):\n",
        "    if nick == 'fool':\n",
        "        return\n",
        "    print(nick)\n",
        "\n",
        "say_nick('genius')\n",
        "\n",
        "say_nick('fool')"
      ]
    },
    {
      "cell_type": "code",
      "execution_count": null,
      "metadata": {
        "id": "0f53c6e0",
        "outputId": "8983dbd5-631e-4931-c0f9-260caf3eab32"
      },
      "outputs": [
        {
          "name": "stdout",
          "output_type": "stream",
          "text": [
            "Dave genius\n",
            "Dave fool\n"
          ]
        }
      ],
      "source": [
        "def say_name_nick(name, nick='genius'):\n",
        "    print(name, nick)\n",
        "\n",
        "say_name_nick('Dave')\n",
        "\n",
        "say_name_nick('Dave','fool')"
      ]
    },
    {
      "cell_type": "code",
      "execution_count": null,
      "metadata": {
        "id": "4ce2d976"
      },
      "outputs": [],
      "source": [
        "class FourCal:\n",
        "\tdef setdata(self, first, second):\n",
        "\t\tself.first = first\n",
        "\t\tself.second = second\n",
        "\tdef add(self):\n",
        "\t\tresult = self.first + self.second\n",
        "\t\treturn result\n",
        "\tdef mul(self):\n",
        "\t\tresult = self.first * self.second\n",
        "\t\treturn result\n",
        "\tdef sub(self):\n",
        "\t\tresult = self.first - self.second\n",
        "\t\treturn result\n",
        "\tdef div(self):\n",
        "\t\tresult = self.first / self.second\n",
        "\t\treturn result"
      ]
    },
    {
      "cell_type": "code",
      "execution_count": null,
      "metadata": {
        "id": "d3e2ac54",
        "outputId": "c9c7aa22-d469-46a3-effd-852756dd99d7"
      },
      "outputs": [
        {
          "name": "stdout",
          "output_type": "stream",
          "text": [
            "6\n",
            "8\n",
            "2\n",
            "2.0\n",
            "11\n",
            "24\n",
            "-5\n",
            "0.375\n"
          ]
        }
      ],
      "source": [
        "a = FourCal()\n",
        "b = FourCal()\n",
        "a.setdata(4, 2)\n",
        "b.setdata(3, 8)\n",
        "\n",
        "print(a.add())\n",
        "print(a.mul())\n",
        "print(a.sub())\n",
        "print(a.div())\n",
        "print(b.add())\n",
        "print(b.mul())\n",
        "print(b.sub())\n",
        "print(b.div())"
      ]
    },
    {
      "cell_type": "code",
      "execution_count": null,
      "metadata": {
        "id": "032875f3",
        "outputId": "f51775dd-9559-40c1-e52c-1812e4ecb7ea"
      },
      "outputs": [
        {
          "name": "stdout",
          "output_type": "stream",
          "text": [
            "[6, 7, 8]\n"
          ]
        }
      ],
      "source": [
        "def myfunc(numbers):\n",
        "    result = []\n",
        "    for number in numbers:\n",
        "        if number > 5:\n",
        "            result.append(number)\n",
        "    return result\n",
        "\n",
        "result = myfunc([2, 3, 4, 5, 6, 7, 8])\n",
        "print(result)"
      ]
    },
    {
      "cell_type": "code",
      "execution_count": null,
      "metadata": {
        "id": "f1301b26",
        "outputId": "638b5f35-6efe-4e8d-a8e5-430f3f520d3d"
      },
      "outputs": [
        {
          "name": "stdin",
          "output_type": "stream",
          "text": [
            "첫 번째 정수를 입력하시오:  10\n",
            "두 번째 정수를 입력하시오:  30\n"
          ]
        },
        {
          "name": "stdout",
          "output_type": "stream",
          "text": [
            "합은  40\n"
          ]
        }
      ],
      "source": [
        "Integer1 = int(input(\"첫 번째 정수를 입력하시오: \"))\n",
        "Integer2 = int(input(\"두 번째 정수를 입력하시오: \"))\n",
        "sum=lambda a,b:a+b\n",
        "print(\"합은 \", sum(Integer1 ,Integer2))"
      ]
    },
    {
      "cell_type": "code",
      "execution_count": null,
      "metadata": {
        "id": "44e1ba77",
        "outputId": "67910900-6255-4b17-9346-65530f65fc62"
      },
      "outputs": [
        {
          "name": "stdout",
          "output_type": "stream",
          "text": [
            "키 175cm 남자의 표준 체중은 67.38kg 입니다.\n"
          ]
        }
      ],
      "source": [
        "def std_weight(height, gender): # 키 m 단위 (실수), 성별 \"남자\" / \"여자\"\n",
        "    if gender == \"남자\":\n",
        "        return height * height * 22\n",
        "    else:\n",
        "        return height * height * 21\n",
        "\n",
        "height = 175 # cm 단위\n",
        "gender = \"남자\"\n",
        "weight = round(std_weight(height / 100, gender), 2) # 소수점 둘째자리까지 반올림\n",
        "print(\"키 {0}cm {1}의 표준 체중은 {2}kg 입니다.\".format(height, gender, weight))"
      ]
    },
    {
      "cell_type": "markdown",
      "metadata": {
        "id": "b0d50462"
      },
      "source": [
        "# 빅데이터 분석 예"
      ]
    },
    {
      "cell_type": "code",
      "execution_count": null,
      "metadata": {
        "id": "43ca2257",
        "outputId": "3a5e0fef-0a8c-4b89-efbe-2d45c336bc43"
      },
      "outputs": [
        {
          "name": "stdout",
          "output_type": "stream",
          "text": [
            "{'사과': 2, '포도': 2, '레몬': 1}\n"
          ]
        }
      ],
      "source": [
        "training_data = [['연두', 3, '사과'],\n",
        "                 ['노랑', 3, '사과'],\n",
        "                 ['빨강', 2, '포도'],\n",
        "                 ['빨강', 1, '포도'],\n",
        "                 ['노랑', 3, '레몬']]\n",
        "def fruit_counts(data):\n",
        "    counts = {}\n",
        "    for row in data:\n",
        "        label = row[-1] # 루프 내의 row 변수에서 적절한 인덱싱을 수정하여 과일 이름에 접근\n",
        "        if label not in counts:\n",
        "            counts[label] = 0\n",
        "        counts[label] += 1\n",
        "    return counts\n",
        "result = fruit_counts(training_data)\n",
        "print(result)"
      ]
    },
    {
      "cell_type": "code",
      "execution_count": null,
      "metadata": {
        "id": "6b293caf",
        "outputId": "75d61b56-719b-43c0-e39a-127ce056e8af"
      },
      "outputs": [
        {
          "name": "stdout",
          "output_type": "stream",
          "text": [
            "{'연두': 1, '노랑': 2, '빨강': 2}\n"
          ]
        }
      ],
      "source": [
        "training_data = [['연두', 3, '사과'],\n",
        "                 ['노랑', 3, '사과'],\n",
        "                 ['빨강', 2, '포도'],\n",
        "                 ['빨강', 1, '포도'],\n",
        "                 ['노랑', 3, '레몬']]\n",
        "def fruit_counts(data):\n",
        "    counts = {}\n",
        "    for row in data:\n",
        "        label = row[0] # 루프 내의 row 변수에서 적절한 인덱싱을 수정하여 과일 이름에 접근\n",
        "        if label not in counts:\n",
        "            counts[label] = 0\n",
        "        counts[label] += 1\n",
        "    return counts\n",
        "result = fruit_counts(training_data)\n",
        "print(result)"
      ]
    },
    {
      "cell_type": "markdown",
      "metadata": {
        "id": "YAlnEPLSkivp"
      },
      "source": []
    },
    {
      "cell_type": "markdown",
      "metadata": {
        "id": "5bULZ0tkkjAY"
      },
      "source": []
    },
    {
      "cell_type": "markdown",
      "metadata": {
        "id": "0fc45df7"
      },
      "source": [
        "# 『3과목』 AI & Data pre-processing"
      ]
    },
    {
      "cell_type": "markdown",
      "metadata": {
        "id": "804667ef"
      },
      "source": [
        "## AI 파이프라인"
      ]
    },
    {
      "cell_type": "markdown",
      "metadata": {
        "id": "219d68aa"
      },
      "source": [
        "해야 할 일은 캘리포니아 인구조사 데이터를 사용해 주택 가격 모델을 만들기 위한 데이터분석 파이프라인을 살펴 보는 것입니다."
      ]
    },
    {
      "cell_type": "markdown",
      "metadata": {
        "id": "5564b457"
      },
      "source": [
        "### 설정"
      ]
    },
    {
      "cell_type": "code",
      "execution_count": null,
      "metadata": {
        "id": "1d2c3f4b"
      },
      "outputs": [],
      "source": [
        "import matplotlib.pyplot as plt\n",
        "import matplotlib\n",
        "matplotlib.rcParams['font.family'] = 'Malgun Gothic' # Windows\n",
        "# matplotlib.rcParams['font.family'] = 'AppleGothic' # Mac\n",
        "matplotlib.rcParams['font.size'] = 15 # 글자 크기\n",
        "matplotlib.rcParams['axes.unicode_minus'] = False # 한글 폰트 사용 시, 마이너스 글자가 깨지는 현상을 해결\n"
      ]
    },
    {
      "cell_type": "markdown",
      "metadata": {
        "id": "005235a9"
      },
      "source": [
        "### 데이터 다운로드"
      ]
    },
    {
      "cell_type": "code",
      "execution_count": null,
      "metadata": {
        "id": "06d28ea3"
      },
      "outputs": [],
      "source": [
        "import os\n",
        "import tarfile\n",
        "from six.moves import urllib\n",
        "\n",
        "DOWNLOAD_ROOT = \"https://raw.githubusercontent.com/ageron/handson-ml/master/\"\n",
        "HOUSING_PATH = os.path.join(\"datasets\", \"housing\")\n",
        "HOUSING_URL = DOWNLOAD_ROOT + \"datasets/housing/housing.tgz\"\n",
        "\n",
        "def fetch_housing_data(housing_url=HOUSING_URL, housing_path=HOUSING_PATH):\n",
        "    if not os.path.isdir(housing_path):\n",
        "        os.makedirs(housing_path)\n",
        "    tgz_path = os.path.join(housing_path, \"housing.tgz\")\n",
        "    urllib.request.urlretrieve(housing_url, tgz_path)\n",
        "    housing_tgz = tarfile.open(tgz_path)\n",
        "    housing_tgz.extractall(path=housing_path)\n",
        "    housing_tgz.close()"
      ]
    },
    {
      "cell_type": "code",
      "execution_count": null,
      "metadata": {
        "id": "ca8292d5"
      },
      "outputs": [],
      "source": [
        "fetch_housing_data()"
      ]
    },
    {
      "cell_type": "code",
      "execution_count": null,
      "metadata": {
        "id": "8b1117c9"
      },
      "outputs": [],
      "source": [
        "import pandas as pd\n",
        "\n",
        "def load_housing_data(housing_path=HOUSING_PATH):\n",
        "    csv_path = os.path.join(housing_path, \"housing.csv\")\n",
        "    return pd.read_csv(csv_path)"
      ]
    },
    {
      "cell_type": "code",
      "execution_count": null,
      "metadata": {
        "id": "61e81951",
        "outputId": "38385a8d-e820-4278-ac20-18e40ef38c05"
      },
      "outputs": [
        {
          "data": {
            "text/html": [
              "<div>\n",
              "<style scoped>\n",
              "    .dataframe tbody tr th:only-of-type {\n",
              "        vertical-align: middle;\n",
              "    }\n",
              "\n",
              "    .dataframe tbody tr th {\n",
              "        vertical-align: top;\n",
              "    }\n",
              "\n",
              "    .dataframe thead th {\n",
              "        text-align: right;\n",
              "    }\n",
              "</style>\n",
              "<table border=\"1\" class=\"dataframe\">\n",
              "  <thead>\n",
              "    <tr style=\"text-align: right;\">\n",
              "      <th></th>\n",
              "      <th>longitude</th>\n",
              "      <th>latitude</th>\n",
              "      <th>housing_median_age</th>\n",
              "      <th>total_rooms</th>\n",
              "      <th>total_bedrooms</th>\n",
              "      <th>population</th>\n",
              "      <th>households</th>\n",
              "      <th>median_income</th>\n",
              "      <th>median_house_value</th>\n",
              "      <th>ocean_proximity</th>\n",
              "    </tr>\n",
              "  </thead>\n",
              "  <tbody>\n",
              "    <tr>\n",
              "      <th>0</th>\n",
              "      <td>-122.23</td>\n",
              "      <td>37.88</td>\n",
              "      <td>41.0</td>\n",
              "      <td>880.0</td>\n",
              "      <td>129.0</td>\n",
              "      <td>322.0</td>\n",
              "      <td>126.0</td>\n",
              "      <td>8.3252</td>\n",
              "      <td>452600.0</td>\n",
              "      <td>NEAR BAY</td>\n",
              "    </tr>\n",
              "    <tr>\n",
              "      <th>1</th>\n",
              "      <td>-122.22</td>\n",
              "      <td>37.86</td>\n",
              "      <td>21.0</td>\n",
              "      <td>7099.0</td>\n",
              "      <td>1106.0</td>\n",
              "      <td>2401.0</td>\n",
              "      <td>1138.0</td>\n",
              "      <td>8.3014</td>\n",
              "      <td>358500.0</td>\n",
              "      <td>NEAR BAY</td>\n",
              "    </tr>\n",
              "    <tr>\n",
              "      <th>2</th>\n",
              "      <td>-122.24</td>\n",
              "      <td>37.85</td>\n",
              "      <td>52.0</td>\n",
              "      <td>1467.0</td>\n",
              "      <td>190.0</td>\n",
              "      <td>496.0</td>\n",
              "      <td>177.0</td>\n",
              "      <td>7.2574</td>\n",
              "      <td>352100.0</td>\n",
              "      <td>NEAR BAY</td>\n",
              "    </tr>\n",
              "    <tr>\n",
              "      <th>3</th>\n",
              "      <td>-122.25</td>\n",
              "      <td>37.85</td>\n",
              "      <td>52.0</td>\n",
              "      <td>1274.0</td>\n",
              "      <td>235.0</td>\n",
              "      <td>558.0</td>\n",
              "      <td>219.0</td>\n",
              "      <td>5.6431</td>\n",
              "      <td>341300.0</td>\n",
              "      <td>NEAR BAY</td>\n",
              "    </tr>\n",
              "    <tr>\n",
              "      <th>4</th>\n",
              "      <td>-122.25</td>\n",
              "      <td>37.85</td>\n",
              "      <td>52.0</td>\n",
              "      <td>1627.0</td>\n",
              "      <td>280.0</td>\n",
              "      <td>565.0</td>\n",
              "      <td>259.0</td>\n",
              "      <td>3.8462</td>\n",
              "      <td>342200.0</td>\n",
              "      <td>NEAR BAY</td>\n",
              "    </tr>\n",
              "  </tbody>\n",
              "</table>\n",
              "</div>"
            ],
            "text/plain": [
              "   longitude  latitude  housing_median_age  total_rooms  total_bedrooms  \\\n",
              "0    -122.23     37.88                41.0        880.0           129.0   \n",
              "1    -122.22     37.86                21.0       7099.0          1106.0   \n",
              "2    -122.24     37.85                52.0       1467.0           190.0   \n",
              "3    -122.25     37.85                52.0       1274.0           235.0   \n",
              "4    -122.25     37.85                52.0       1627.0           280.0   \n",
              "\n",
              "   population  households  median_income  median_house_value ocean_proximity  \n",
              "0       322.0       126.0         8.3252            452600.0        NEAR BAY  \n",
              "1      2401.0      1138.0         8.3014            358500.0        NEAR BAY  \n",
              "2       496.0       177.0         7.2574            352100.0        NEAR BAY  \n",
              "3       558.0       219.0         5.6431            341300.0        NEAR BAY  \n",
              "4       565.0       259.0         3.8462            342200.0        NEAR BAY  "
            ]
          },
          "execution_count": 134,
          "metadata": {},
          "output_type": "execute_result"
        }
      ],
      "source": [
        "housing = load_housing_data()\n",
        "housing.head()"
      ]
    },
    {
      "cell_type": "code",
      "execution_count": null,
      "metadata": {
        "id": "dffc059b",
        "outputId": "3509301d-45c3-4abc-904b-c383c43e9ddf"
      },
      "outputs": [
        {
          "name": "stdout",
          "output_type": "stream",
          "text": [
            "<class 'pandas.core.frame.DataFrame'>\n",
            "RangeIndex: 20640 entries, 0 to 20639\n",
            "Data columns (total 10 columns):\n",
            " #   Column              Non-Null Count  Dtype  \n",
            "---  ------              --------------  -----  \n",
            " 0   longitude           20640 non-null  float64\n",
            " 1   latitude            20640 non-null  float64\n",
            " 2   housing_median_age  20640 non-null  float64\n",
            " 3   total_rooms         20640 non-null  float64\n",
            " 4   total_bedrooms      20433 non-null  float64\n",
            " 5   population          20640 non-null  float64\n",
            " 6   households          20640 non-null  float64\n",
            " 7   median_income       20640 non-null  float64\n",
            " 8   median_house_value  20640 non-null  float64\n",
            " 9   ocean_proximity     20640 non-null  object \n",
            "dtypes: float64(9), object(1)\n",
            "memory usage: 1.6+ MB\n"
          ]
        }
      ],
      "source": [
        "housing.info()"
      ]
    },
    {
      "cell_type": "code",
      "execution_count": null,
      "metadata": {
        "id": "35a661d5",
        "outputId": "997728c4-f4be-45d2-9f2e-cc156cb1bf29"
      },
      "outputs": [
        {
          "data": {
            "text/plain": [
              "ocean_proximity\n",
              "<1H OCEAN     9136\n",
              "INLAND        6551\n",
              "NEAR OCEAN    2658\n",
              "NEAR BAY      2290\n",
              "ISLAND           5\n",
              "Name: count, dtype: int64"
            ]
          },
          "execution_count": 136,
          "metadata": {},
          "output_type": "execute_result"
        }
      ],
      "source": [
        "housing[\"ocean_proximity\"].value_counts()"
      ]
    },
    {
      "cell_type": "code",
      "execution_count": null,
      "metadata": {
        "id": "214755a7",
        "outputId": "42fe9b52-7792-4534-f7bc-628e5270efa6"
      },
      "outputs": [
        {
          "data": {
            "text/html": [
              "<div>\n",
              "<style scoped>\n",
              "    .dataframe tbody tr th:only-of-type {\n",
              "        vertical-align: middle;\n",
              "    }\n",
              "\n",
              "    .dataframe tbody tr th {\n",
              "        vertical-align: top;\n",
              "    }\n",
              "\n",
              "    .dataframe thead th {\n",
              "        text-align: right;\n",
              "    }\n",
              "</style>\n",
              "<table border=\"1\" class=\"dataframe\">\n",
              "  <thead>\n",
              "    <tr style=\"text-align: right;\">\n",
              "      <th></th>\n",
              "      <th>longitude</th>\n",
              "      <th>latitude</th>\n",
              "      <th>housing_median_age</th>\n",
              "      <th>total_rooms</th>\n",
              "      <th>total_bedrooms</th>\n",
              "      <th>population</th>\n",
              "      <th>households</th>\n",
              "      <th>median_income</th>\n",
              "      <th>median_house_value</th>\n",
              "    </tr>\n",
              "  </thead>\n",
              "  <tbody>\n",
              "    <tr>\n",
              "      <th>count</th>\n",
              "      <td>20640.000000</td>\n",
              "      <td>20640.000000</td>\n",
              "      <td>20640.000000</td>\n",
              "      <td>20640.000000</td>\n",
              "      <td>20433.000000</td>\n",
              "      <td>20640.000000</td>\n",
              "      <td>20640.000000</td>\n",
              "      <td>20640.000000</td>\n",
              "      <td>20640.000000</td>\n",
              "    </tr>\n",
              "    <tr>\n",
              "      <th>mean</th>\n",
              "      <td>-119.569704</td>\n",
              "      <td>35.631861</td>\n",
              "      <td>28.639486</td>\n",
              "      <td>2635.763081</td>\n",
              "      <td>537.870553</td>\n",
              "      <td>1425.476744</td>\n",
              "      <td>499.539680</td>\n",
              "      <td>3.870671</td>\n",
              "      <td>206855.816909</td>\n",
              "    </tr>\n",
              "    <tr>\n",
              "      <th>std</th>\n",
              "      <td>2.003532</td>\n",
              "      <td>2.135952</td>\n",
              "      <td>12.585558</td>\n",
              "      <td>2181.615252</td>\n",
              "      <td>421.385070</td>\n",
              "      <td>1132.462122</td>\n",
              "      <td>382.329753</td>\n",
              "      <td>1.899822</td>\n",
              "      <td>115395.615874</td>\n",
              "    </tr>\n",
              "    <tr>\n",
              "      <th>min</th>\n",
              "      <td>-124.350000</td>\n",
              "      <td>32.540000</td>\n",
              "      <td>1.000000</td>\n",
              "      <td>2.000000</td>\n",
              "      <td>1.000000</td>\n",
              "      <td>3.000000</td>\n",
              "      <td>1.000000</td>\n",
              "      <td>0.499900</td>\n",
              "      <td>14999.000000</td>\n",
              "    </tr>\n",
              "    <tr>\n",
              "      <th>25%</th>\n",
              "      <td>-121.800000</td>\n",
              "      <td>33.930000</td>\n",
              "      <td>18.000000</td>\n",
              "      <td>1447.750000</td>\n",
              "      <td>296.000000</td>\n",
              "      <td>787.000000</td>\n",
              "      <td>280.000000</td>\n",
              "      <td>2.563400</td>\n",
              "      <td>119600.000000</td>\n",
              "    </tr>\n",
              "    <tr>\n",
              "      <th>50%</th>\n",
              "      <td>-118.490000</td>\n",
              "      <td>34.260000</td>\n",
              "      <td>29.000000</td>\n",
              "      <td>2127.000000</td>\n",
              "      <td>435.000000</td>\n",
              "      <td>1166.000000</td>\n",
              "      <td>409.000000</td>\n",
              "      <td>3.534800</td>\n",
              "      <td>179700.000000</td>\n",
              "    </tr>\n",
              "    <tr>\n",
              "      <th>75%</th>\n",
              "      <td>-118.010000</td>\n",
              "      <td>37.710000</td>\n",
              "      <td>37.000000</td>\n",
              "      <td>3148.000000</td>\n",
              "      <td>647.000000</td>\n",
              "      <td>1725.000000</td>\n",
              "      <td>605.000000</td>\n",
              "      <td>4.743250</td>\n",
              "      <td>264725.000000</td>\n",
              "    </tr>\n",
              "    <tr>\n",
              "      <th>max</th>\n",
              "      <td>-114.310000</td>\n",
              "      <td>41.950000</td>\n",
              "      <td>52.000000</td>\n",
              "      <td>39320.000000</td>\n",
              "      <td>6445.000000</td>\n",
              "      <td>35682.000000</td>\n",
              "      <td>6082.000000</td>\n",
              "      <td>15.000100</td>\n",
              "      <td>500001.000000</td>\n",
              "    </tr>\n",
              "  </tbody>\n",
              "</table>\n",
              "</div>"
            ],
            "text/plain": [
              "          longitude      latitude  housing_median_age   total_rooms  \\\n",
              "count  20640.000000  20640.000000        20640.000000  20640.000000   \n",
              "mean    -119.569704     35.631861           28.639486   2635.763081   \n",
              "std        2.003532      2.135952           12.585558   2181.615252   \n",
              "min     -124.350000     32.540000            1.000000      2.000000   \n",
              "25%     -121.800000     33.930000           18.000000   1447.750000   \n",
              "50%     -118.490000     34.260000           29.000000   2127.000000   \n",
              "75%     -118.010000     37.710000           37.000000   3148.000000   \n",
              "max     -114.310000     41.950000           52.000000  39320.000000   \n",
              "\n",
              "       total_bedrooms    population    households  median_income  \\\n",
              "count    20433.000000  20640.000000  20640.000000   20640.000000   \n",
              "mean       537.870553   1425.476744    499.539680       3.870671   \n",
              "std        421.385070   1132.462122    382.329753       1.899822   \n",
              "min          1.000000      3.000000      1.000000       0.499900   \n",
              "25%        296.000000    787.000000    280.000000       2.563400   \n",
              "50%        435.000000   1166.000000    409.000000       3.534800   \n",
              "75%        647.000000   1725.000000    605.000000       4.743250   \n",
              "max       6445.000000  35682.000000   6082.000000      15.000100   \n",
              "\n",
              "       median_house_value  \n",
              "count        20640.000000  \n",
              "mean        206855.816909  \n",
              "std         115395.615874  \n",
              "min          14999.000000  \n",
              "25%         119600.000000  \n",
              "50%         179700.000000  \n",
              "75%         264725.000000  \n",
              "max         500001.000000  "
            ]
          },
          "execution_count": 137,
          "metadata": {},
          "output_type": "execute_result"
        }
      ],
      "source": [
        "housing.describe()"
      ]
    },
    {
      "cell_type": "code",
      "execution_count": null,
      "metadata": {
        "id": "ac4ffa6b",
        "outputId": "c9fdc8fc-7c28-4e84-bf00-e11eaf28d318"
      },
      "outputs": [
        {
          "data": {
            "image/png": "[encoded data removed]",
            "text/plain": [
              "<Figure size 2000x1500 with 9 Axes>"
            ]
          },
          "metadata": {},
          "output_type": "display_data"
        }
      ],
      "source": [
        "%matplotlib inline\n",
        "import matplotlib.pyplot as plt\n",
        "housing.hist(bins=50, figsize=(20,15))\n",
        "plt.show()"
      ]
    },
    {
      "cell_type": "markdown",
      "metadata": {
        "id": "ced36e48"
      },
      "source": [
        "### 데이터 이해를 위한 탐색과 시각화"
      ]
    },
    {
      "cell_type": "code",
      "execution_count": null,
      "metadata": {
        "id": "31d70994",
        "outputId": "8ceb1f56-556e-488d-b754-d973ea512cc1"
      },
      "outputs": [
        {
          "data": {
            "text/plain": [
              "[Text(0.5, 0, '경도'), Text(0, 0.5, '위도')]"
            ]
          },
          "execution_count": 139,
          "metadata": {},
          "output_type": "execute_result"
        },
        {
          "data": {
            "image/png": "[encoded data removed]",
            "text/plain": [
              "<Figure size 640x480 with 1 Axes>"
            ]
          },
          "metadata": {},
          "output_type": "display_data"
        }
      ],
      "source": [
        "ax = housing.plot(kind=\"scatter\", x=\"longitude\", y=\"latitude\")\n",
        "ax.set(xlabel='경도', ylabel='위도')"
      ]
    },
    {
      "cell_type": "code",
      "execution_count": null,
      "metadata": {
        "id": "910a12dc",
        "outputId": "086966b2-42ae-4295-e9e8-f01e30ccc25a"
      },
      "outputs": [
        {
          "data": {
            "text/plain": [
              "[Text(0.5, 0, '경도'), Text(0, 0.5, '위도')]"
            ]
          },
          "execution_count": 140,
          "metadata": {},
          "output_type": "execute_result"
        },
        {
          "data": {
            "image/png": "[encoded data removed]",
            "text/plain": [
              "<Figure size 640x480 with 1 Axes>"
            ]
          },
          "metadata": {},
          "output_type": "display_data"
        }
      ],
      "source": [
        "ax = housing.plot(kind=\"scatter\", x=\"longitude\", y=\"latitude\", alpha=0.1)\n",
        "ax.set(xlabel='경도', ylabel='위도')"
      ]
    },
    {
      "cell_type": "code",
      "execution_count": null,
      "metadata": {
        "id": "72a08b1a",
        "outputId": "4336e481-c7d5-4121-95d7-c0697ebd0a16"
      },
      "outputs": [
        {
          "data": {
            "text/plain": [
              "<matplotlib.legend.Legend at 0x127e2ad7e80>"
            ]
          },
          "execution_count": 141,
          "metadata": {},
          "output_type": "execute_result"
        },
        {
          "data": {
            "image/png": "[encoded data removed]",
            "text/plain": [
              "<Figure size 1000x700 with 2 Axes>"
            ]
          },
          "metadata": {},
          "output_type": "display_data"
        }
      ],
      "source": [
        "ax = housing.plot(kind=\"scatter\", x=\"longitude\", y=\"latitude\", alpha=0.4,\n",
        "    s=housing[\"population\"]/100, label=\"인구\", figsize=(10,7),\n",
        "    c=\"median_house_value\", cmap=plt.get_cmap(\"jet\"), colorbar=True,\n",
        "    sharex=False)\n",
        "ax.set(xlabel='경도', ylabel='위도')\n",
        "plt.legend()"
      ]
    },
    {
      "cell_type": "markdown",
      "metadata": {
        "id": "9ccc1451"
      },
      "source": [
        "### 머신러닝 알고리즘을 위한 데이터 준비"
      ]
    },
    {
      "cell_type": "code",
      "execution_count": null,
      "metadata": {
        "id": "ae7b9516",
        "outputId": "fa81ab63-358c-4490-f045-d0baf53b1f39"
      },
      "outputs": [
        {
          "data": {
            "text/html": [
              "<div>\n",
              "<style scoped>\n",
              "    .dataframe tbody tr th:only-of-type {\n",
              "        vertical-align: middle;\n",
              "    }\n",
              "\n",
              "    .dataframe tbody tr th {\n",
              "        vertical-align: top;\n",
              "    }\n",
              "\n",
              "    .dataframe thead th {\n",
              "        text-align: right;\n",
              "    }\n",
              "</style>\n",
              "<table border=\"1\" class=\"dataframe\">\n",
              "  <thead>\n",
              "    <tr style=\"text-align: right;\">\n",
              "      <th></th>\n",
              "      <th>longitude</th>\n",
              "      <th>latitude</th>\n",
              "      <th>housing_median_age</th>\n",
              "      <th>total_rooms</th>\n",
              "      <th>total_bedrooms</th>\n",
              "      <th>population</th>\n",
              "      <th>households</th>\n",
              "      <th>median_income</th>\n",
              "      <th>median_house_value</th>\n",
              "      <th>ocean_proximity</th>\n",
              "    </tr>\n",
              "  </thead>\n",
              "  <tbody>\n",
              "    <tr>\n",
              "      <th>290</th>\n",
              "      <td>-122.16</td>\n",
              "      <td>37.77</td>\n",
              "      <td>47.0</td>\n",
              "      <td>1256.0</td>\n",
              "      <td>NaN</td>\n",
              "      <td>570.0</td>\n",
              "      <td>218.0</td>\n",
              "      <td>4.3750</td>\n",
              "      <td>161900.0</td>\n",
              "      <td>NEAR BAY</td>\n",
              "    </tr>\n",
              "    <tr>\n",
              "      <th>341</th>\n",
              "      <td>-122.17</td>\n",
              "      <td>37.75</td>\n",
              "      <td>38.0</td>\n",
              "      <td>992.0</td>\n",
              "      <td>NaN</td>\n",
              "      <td>732.0</td>\n",
              "      <td>259.0</td>\n",
              "      <td>1.6196</td>\n",
              "      <td>85100.0</td>\n",
              "      <td>NEAR BAY</td>\n",
              "    </tr>\n",
              "    <tr>\n",
              "      <th>538</th>\n",
              "      <td>-122.28</td>\n",
              "      <td>37.78</td>\n",
              "      <td>29.0</td>\n",
              "      <td>5154.0</td>\n",
              "      <td>NaN</td>\n",
              "      <td>3741.0</td>\n",
              "      <td>1273.0</td>\n",
              "      <td>2.5762</td>\n",
              "      <td>173400.0</td>\n",
              "      <td>NEAR BAY</td>\n",
              "    </tr>\n",
              "    <tr>\n",
              "      <th>563</th>\n",
              "      <td>-122.24</td>\n",
              "      <td>37.75</td>\n",
              "      <td>45.0</td>\n",
              "      <td>891.0</td>\n",
              "      <td>NaN</td>\n",
              "      <td>384.0</td>\n",
              "      <td>146.0</td>\n",
              "      <td>4.9489</td>\n",
              "      <td>247100.0</td>\n",
              "      <td>NEAR BAY</td>\n",
              "    </tr>\n",
              "    <tr>\n",
              "      <th>696</th>\n",
              "      <td>-122.10</td>\n",
              "      <td>37.69</td>\n",
              "      <td>41.0</td>\n",
              "      <td>746.0</td>\n",
              "      <td>NaN</td>\n",
              "      <td>387.0</td>\n",
              "      <td>161.0</td>\n",
              "      <td>3.9063</td>\n",
              "      <td>178400.0</td>\n",
              "      <td>NEAR BAY</td>\n",
              "    </tr>\n",
              "  </tbody>\n",
              "</table>\n",
              "</div>"
            ],
            "text/plain": [
              "     longitude  latitude  housing_median_age  total_rooms  total_bedrooms  \\\n",
              "290    -122.16     37.77                47.0       1256.0             NaN   \n",
              "341    -122.17     37.75                38.0        992.0             NaN   \n",
              "538    -122.28     37.78                29.0       5154.0             NaN   \n",
              "563    -122.24     37.75                45.0        891.0             NaN   \n",
              "696    -122.10     37.69                41.0        746.0             NaN   \n",
              "\n",
              "     population  households  median_income  median_house_value ocean_proximity  \n",
              "290       570.0       218.0         4.3750            161900.0        NEAR BAY  \n",
              "341       732.0       259.0         1.6196             85100.0        NEAR BAY  \n",
              "538      3741.0      1273.0         2.5762            173400.0        NEAR BAY  \n",
              "563       384.0       146.0         4.9489            247100.0        NEAR BAY  \n",
              "696       387.0       161.0         3.9063            178400.0        NEAR BAY  "
            ]
          },
          "execution_count": 142,
          "metadata": {},
          "output_type": "execute_result"
        }
      ],
      "source": [
        "sample_incomplete_rows = housing[housing.isnull().any(axis=1)].head()\n",
        "sample_incomplete_rows"
      ]
    },
    {
      "cell_type": "code",
      "execution_count": null,
      "metadata": {
        "id": "f5c8a56a",
        "outputId": "19010d1e-8cdc-42f6-bf34-829c88511266"
      },
      "outputs": [
        {
          "data": {
            "text/html": [
              "<div>\n",
              "<style scoped>\n",
              "    .dataframe tbody tr th:only-of-type {\n",
              "        vertical-align: middle;\n",
              "    }\n",
              "\n",
              "    .dataframe tbody tr th {\n",
              "        vertical-align: top;\n",
              "    }\n",
              "\n",
              "    .dataframe thead th {\n",
              "        text-align: right;\n",
              "    }\n",
              "</style>\n",
              "<table border=\"1\" class=\"dataframe\">\n",
              "  <thead>\n",
              "    <tr style=\"text-align: right;\">\n",
              "      <th></th>\n",
              "      <th>longitude</th>\n",
              "      <th>latitude</th>\n",
              "      <th>housing_median_age</th>\n",
              "      <th>total_rooms</th>\n",
              "      <th>total_bedrooms</th>\n",
              "      <th>population</th>\n",
              "      <th>households</th>\n",
              "      <th>median_income</th>\n",
              "      <th>median_house_value</th>\n",
              "      <th>ocean_proximity</th>\n",
              "    </tr>\n",
              "  </thead>\n",
              "  <tbody>\n",
              "  </tbody>\n",
              "</table>\n",
              "</div>"
            ],
            "text/plain": [
              "Empty DataFrame\n",
              "Columns: [longitude, latitude, housing_median_age, total_rooms, total_bedrooms, population, households, median_income, median_house_value, ocean_proximity]\n",
              "Index: []"
            ]
          },
          "execution_count": 143,
          "metadata": {},
          "output_type": "execute_result"
        }
      ],
      "source": [
        "sample_incomplete_rows.dropna(subset=[\"total_bedrooms\"])    # 옵션 1"
      ]
    },
    {
      "cell_type": "code",
      "execution_count": null,
      "metadata": {
        "id": "7ad25f29",
        "outputId": "37ada3b4-837a-498c-f316-e0357107d936"
      },
      "outputs": [
        {
          "data": {
            "text/html": [
              "<div>\n",
              "<style scoped>\n",
              "    .dataframe tbody tr th:only-of-type {\n",
              "        vertical-align: middle;\n",
              "    }\n",
              "\n",
              "    .dataframe tbody tr th {\n",
              "        vertical-align: top;\n",
              "    }\n",
              "\n",
              "    .dataframe thead th {\n",
              "        text-align: right;\n",
              "    }\n",
              "</style>\n",
              "<table border=\"1\" class=\"dataframe\">\n",
              "  <thead>\n",
              "    <tr style=\"text-align: right;\">\n",
              "      <th></th>\n",
              "      <th>longitude</th>\n",
              "      <th>latitude</th>\n",
              "      <th>housing_median_age</th>\n",
              "      <th>total_rooms</th>\n",
              "      <th>population</th>\n",
              "      <th>households</th>\n",
              "      <th>median_income</th>\n",
              "      <th>median_house_value</th>\n",
              "      <th>ocean_proximity</th>\n",
              "    </tr>\n",
              "  </thead>\n",
              "  <tbody>\n",
              "    <tr>\n",
              "      <th>290</th>\n",
              "      <td>-122.16</td>\n",
              "      <td>37.77</td>\n",
              "      <td>47.0</td>\n",
              "      <td>1256.0</td>\n",
              "      <td>570.0</td>\n",
              "      <td>218.0</td>\n",
              "      <td>4.3750</td>\n",
              "      <td>161900.0</td>\n",
              "      <td>NEAR BAY</td>\n",
              "    </tr>\n",
              "    <tr>\n",
              "      <th>341</th>\n",
              "      <td>-122.17</td>\n",
              "      <td>37.75</td>\n",
              "      <td>38.0</td>\n",
              "      <td>992.0</td>\n",
              "      <td>732.0</td>\n",
              "      <td>259.0</td>\n",
              "      <td>1.6196</td>\n",
              "      <td>85100.0</td>\n",
              "      <td>NEAR BAY</td>\n",
              "    </tr>\n",
              "    <tr>\n",
              "      <th>538</th>\n",
              "      <td>-122.28</td>\n",
              "      <td>37.78</td>\n",
              "      <td>29.0</td>\n",
              "      <td>5154.0</td>\n",
              "      <td>3741.0</td>\n",
              "      <td>1273.0</td>\n",
              "      <td>2.5762</td>\n",
              "      <td>173400.0</td>\n",
              "      <td>NEAR BAY</td>\n",
              "    </tr>\n",
              "    <tr>\n",
              "      <th>563</th>\n",
              "      <td>-122.24</td>\n",
              "      <td>37.75</td>\n",
              "      <td>45.0</td>\n",
              "      <td>891.0</td>\n",
              "      <td>384.0</td>\n",
              "      <td>146.0</td>\n",
              "      <td>4.9489</td>\n",
              "      <td>247100.0</td>\n",
              "      <td>NEAR BAY</td>\n",
              "    </tr>\n",
              "    <tr>\n",
              "      <th>696</th>\n",
              "      <td>-122.10</td>\n",
              "      <td>37.69</td>\n",
              "      <td>41.0</td>\n",
              "      <td>746.0</td>\n",
              "      <td>387.0</td>\n",
              "      <td>161.0</td>\n",
              "      <td>3.9063</td>\n",
              "      <td>178400.0</td>\n",
              "      <td>NEAR BAY</td>\n",
              "    </tr>\n",
              "  </tbody>\n",
              "</table>\n",
              "</div>"
            ],
            "text/plain": [
              "     longitude  latitude  housing_median_age  total_rooms  population  \\\n",
              "290    -122.16     37.77                47.0       1256.0       570.0   \n",
              "341    -122.17     37.75                38.0        992.0       732.0   \n",
              "538    -122.28     37.78                29.0       5154.0      3741.0   \n",
              "563    -122.24     37.75                45.0        891.0       384.0   \n",
              "696    -122.10     37.69                41.0        746.0       387.0   \n",
              "\n",
              "     households  median_income  median_house_value ocean_proximity  \n",
              "290       218.0         4.3750            161900.0        NEAR BAY  \n",
              "341       259.0         1.6196             85100.0        NEAR BAY  \n",
              "538      1273.0         2.5762            173400.0        NEAR BAY  \n",
              "563       146.0         4.9489            247100.0        NEAR BAY  \n",
              "696       161.0         3.9063            178400.0        NEAR BAY  "
            ]
          },
          "execution_count": 144,
          "metadata": {},
          "output_type": "execute_result"
        }
      ],
      "source": [
        "sample_incomplete_rows.drop(\"total_bedrooms\", axis=1)       # 옵션 2"
      ]
    },
    {
      "cell_type": "code",
      "execution_count": null,
      "metadata": {
        "id": "e778f8ca",
        "outputId": "c04d9c8c-329d-470f-8531-9bc09625c322"
      },
      "outputs": [
        {
          "data": {
            "text/html": [
              "<div>\n",
              "<style scoped>\n",
              "    .dataframe tbody tr th:only-of-type {\n",
              "        vertical-align: middle;\n",
              "    }\n",
              "\n",
              "    .dataframe tbody tr th {\n",
              "        vertical-align: top;\n",
              "    }\n",
              "\n",
              "    .dataframe thead th {\n",
              "        text-align: right;\n",
              "    }\n",
              "</style>\n",
              "<table border=\"1\" class=\"dataframe\">\n",
              "  <thead>\n",
              "    <tr style=\"text-align: right;\">\n",
              "      <th></th>\n",
              "      <th>longitude</th>\n",
              "      <th>latitude</th>\n",
              "      <th>housing_median_age</th>\n",
              "      <th>total_rooms</th>\n",
              "      <th>total_bedrooms</th>\n",
              "      <th>population</th>\n",
              "      <th>households</th>\n",
              "      <th>median_income</th>\n",
              "      <th>median_house_value</th>\n",
              "      <th>ocean_proximity</th>\n",
              "    </tr>\n",
              "  </thead>\n",
              "  <tbody>\n",
              "    <tr>\n",
              "      <th>290</th>\n",
              "      <td>-122.16</td>\n",
              "      <td>37.77</td>\n",
              "      <td>47.0</td>\n",
              "      <td>1256.0</td>\n",
              "      <td>435.0</td>\n",
              "      <td>570.0</td>\n",
              "      <td>218.0</td>\n",
              "      <td>4.3750</td>\n",
              "      <td>161900.0</td>\n",
              "      <td>NEAR BAY</td>\n",
              "    </tr>\n",
              "    <tr>\n",
              "      <th>341</th>\n",
              "      <td>-122.17</td>\n",
              "      <td>37.75</td>\n",
              "      <td>38.0</td>\n",
              "      <td>992.0</td>\n",
              "      <td>435.0</td>\n",
              "      <td>732.0</td>\n",
              "      <td>259.0</td>\n",
              "      <td>1.6196</td>\n",
              "      <td>85100.0</td>\n",
              "      <td>NEAR BAY</td>\n",
              "    </tr>\n",
              "    <tr>\n",
              "      <th>538</th>\n",
              "      <td>-122.28</td>\n",
              "      <td>37.78</td>\n",
              "      <td>29.0</td>\n",
              "      <td>5154.0</td>\n",
              "      <td>435.0</td>\n",
              "      <td>3741.0</td>\n",
              "      <td>1273.0</td>\n",
              "      <td>2.5762</td>\n",
              "      <td>173400.0</td>\n",
              "      <td>NEAR BAY</td>\n",
              "    </tr>\n",
              "    <tr>\n",
              "      <th>563</th>\n",
              "      <td>-122.24</td>\n",
              "      <td>37.75</td>\n",
              "      <td>45.0</td>\n",
              "      <td>891.0</td>\n",
              "      <td>435.0</td>\n",
              "      <td>384.0</td>\n",
              "      <td>146.0</td>\n",
              "      <td>4.9489</td>\n",
              "      <td>247100.0</td>\n",
              "      <td>NEAR BAY</td>\n",
              "    </tr>\n",
              "    <tr>\n",
              "      <th>696</th>\n",
              "      <td>-122.10</td>\n",
              "      <td>37.69</td>\n",
              "      <td>41.0</td>\n",
              "      <td>746.0</td>\n",
              "      <td>435.0</td>\n",
              "      <td>387.0</td>\n",
              "      <td>161.0</td>\n",
              "      <td>3.9063</td>\n",
              "      <td>178400.0</td>\n",
              "      <td>NEAR BAY</td>\n",
              "    </tr>\n",
              "  </tbody>\n",
              "</table>\n",
              "</div>"
            ],
            "text/plain": [
              "     longitude  latitude  housing_median_age  total_rooms  total_bedrooms  \\\n",
              "290    -122.16     37.77                47.0       1256.0           435.0   \n",
              "341    -122.17     37.75                38.0        992.0           435.0   \n",
              "538    -122.28     37.78                29.0       5154.0           435.0   \n",
              "563    -122.24     37.75                45.0        891.0           435.0   \n",
              "696    -122.10     37.69                41.0        746.0           435.0   \n",
              "\n",
              "     population  households  median_income  median_house_value ocean_proximity  \n",
              "290       570.0       218.0         4.3750            161900.0        NEAR BAY  \n",
              "341       732.0       259.0         1.6196             85100.0        NEAR BAY  \n",
              "538      3741.0      1273.0         2.5762            173400.0        NEAR BAY  \n",
              "563       384.0       146.0         4.9489            247100.0        NEAR BAY  \n",
              "696       387.0       161.0         3.9063            178400.0        NEAR BAY  "
            ]
          },
          "execution_count": 145,
          "metadata": {},
          "output_type": "execute_result"
        }
      ],
      "source": [
        "median = housing[\"total_bedrooms\"].median()\n",
        "sample_incomplete_rows[\"total_bedrooms\"].fillna(median, inplace=True) # 옵션 3\n",
        "sample_incomplete_rows"
      ]
    },
    {
      "cell_type": "code",
      "execution_count": null,
      "metadata": {
        "id": "8532a113"
      },
      "outputs": [],
      "source": [
        "#from sklearn.preprocessing import Imputer\n",
        "from sklearn.impute import SimpleImputer\n",
        "\n",
        "imputer = SimpleImputer(strategy=\"median\")"
      ]
    },
    {
      "cell_type": "code",
      "execution_count": null,
      "metadata": {
        "id": "97c0c7d3"
      },
      "outputs": [],
      "source": [
        "housing_num = housing.drop('ocean_proximity', axis=1)\n",
        "# 다른 방법: housing_num = housing.select_dtypes(include=[np.number])"
      ]
    },
    {
      "cell_type": "code",
      "execution_count": null,
      "metadata": {
        "id": "ac73cec3",
        "outputId": "ed1d06b6-5e4d-4164-c6a3-2645d2f97271"
      },
      "outputs": [
        {
          "data": {
            "text/html": [
              "<style>#sk-container-id-1 {color: black;}#sk-container-id-1 pre{padding: 0;}#sk-container-id-1 div.sk-toggleable {background-color: white;}#sk-container-id-1 label.sk-toggleable__label {cursor: pointer;display: block;width: 100%;margin-bottom: 0;padding: 0.3em;box-sizing: border-box;text-align: center;}#sk-container-id-1 label.sk-toggleable__label-arrow:before {content: \"▸\";float: left;margin-right: 0.25em;color: #696969;}#sk-container-id-1 label.sk-toggleable__label-arrow:hover:before {color: black;}#sk-container-id-1 div.sk-estimator:hover label.sk-toggleable__label-arrow:before {color: black;}#sk-container-id-1 div.sk-toggleable__content {max-height: 0;max-width: 0;overflow: hidden;text-align: left;background-color: #f0f8ff;}#sk-container-id-1 div.sk-toggleable__content pre {margin: 0.2em;color: black;border-radius: 0.25em;background-color: #f0f8ff;}#sk-container-id-1 input.sk-toggleable__control:checked~div.sk-toggleable__content {max-height: 200px;max-width: 100%;overflow: auto;}#sk-container-id-1 input.sk-toggleable__control:checked~label.sk-toggleable__label-arrow:before {content: \"▾\";}#sk-container-id-1 div.sk-estimator input.sk-toggleable__control:checked~label.sk-toggleable__label {background-color: #d4ebff;}#sk-container-id-1 div.sk-label input.sk-toggleable__control:checked~label.sk-toggleable__label {background-color: #d4ebff;}#sk-container-id-1 input.sk-hidden--visually {border: 0;clip: rect(1px 1px 1px 1px);clip: rect(1px, 1px, 1px, 1px);height: 1px;margin: -1px;overflow: hidden;padding: 0;position: absolute;width: 1px;}#sk-container-id-1 div.sk-estimator {font-family: monospace;background-color: #f0f8ff;border: 1px dotted black;border-radius: 0.25em;box-sizing: border-box;margin-bottom: 0.5em;}#sk-container-id-1 div.sk-estimator:hover {background-color: #d4ebff;}#sk-container-id-1 div.sk-parallel-item::after {content: \"\";width: 100%;border-bottom: 1px solid gray;flex-grow: 1;}#sk-container-id-1 div.sk-label:hover label.sk-toggleable__label {background-color: #d4ebff;}#sk-container-id-1 div.sk-serial::before {content: \"\";position: absolute;border-left: 1px solid gray;box-sizing: border-box;top: 0;bottom: 0;left: 50%;z-index: 0;}#sk-container-id-1 div.sk-serial {display: flex;flex-direction: column;align-items: center;background-color: white;padding-right: 0.2em;padding-left: 0.2em;position: relative;}#sk-container-id-1 div.sk-item {position: relative;z-index: 1;}#sk-container-id-1 div.sk-parallel {display: flex;align-items: stretch;justify-content: center;background-color: white;position: relative;}#sk-container-id-1 div.sk-item::before, #sk-container-id-1 div.sk-parallel-item::before {content: \"\";position: absolute;border-left: 1px solid gray;box-sizing: border-box;top: 0;bottom: 0;left: 50%;z-index: -1;}#sk-container-id-1 div.sk-parallel-item {display: flex;flex-direction: column;z-index: 1;position: relative;background-color: white;}#sk-container-id-1 div.sk-parallel-item:first-child::after {align-self: flex-end;width: 50%;}#sk-container-id-1 div.sk-parallel-item:last-child::after {align-self: flex-start;width: 50%;}#sk-container-id-1 div.sk-parallel-item:only-child::after {width: 0;}#sk-container-id-1 div.sk-dashed-wrapped {border: 1px dashed gray;margin: 0 0.4em 0.5em 0.4em;box-sizing: border-box;padding-bottom: 0.4em;background-color: white;}#sk-container-id-1 div.sk-label label {font-family: monospace;font-weight: bold;display: inline-block;line-height: 1.2em;}#sk-container-id-1 div.sk-label-container {text-align: center;}#sk-container-id-1 div.sk-container {/* jupyter's `normalize.less` sets `[hidden] { display: none; }` but bootstrap.min.css set `[hidden] { display: none !important; }` so we also need the `!important` here to be able to override the default hidden behavior on the sphinx rendered scikit-learn.org. See: https://github.com/scikit-learn/scikit-learn/issues/21755 */display: inline-block !important;position: relative;}#sk-container-id-1 div.sk-text-repr-fallback {display: none;}</style><div id=\"sk-container-id-1\" class=\"sk-top-container\"><div class=\"sk-text-repr-fallback\"><pre>SimpleImputer(strategy=&#x27;median&#x27;)</pre><b>In a Jupyter environment, please rerun this cell to show the HTML representation or trust the notebook. <br />On GitHub, the HTML representation is unable to render, please try loading this page with nbviewer.org.</b></div><div class=\"sk-container\" hidden><div class=\"sk-item\"><div class=\"sk-estimator sk-toggleable\"><input class=\"sk-toggleable__control sk-hidden--visually\" id=\"sk-estimator-id-1\" type=\"checkbox\" checked><label for=\"sk-estimator-id-1\" class=\"sk-toggleable__label sk-toggleable__label-arrow\">SimpleImputer</label><div class=\"sk-toggleable__content\"><pre>SimpleImputer(strategy=&#x27;median&#x27;)</pre></div></div></div></div></div>"
            ],
            "text/plain": [
              "SimpleImputer(strategy='median')"
            ]
          },
          "execution_count": 148,
          "metadata": {},
          "output_type": "execute_result"
        }
      ],
      "source": [
        "imputer.fit(housing_num)"
      ]
    },
    {
      "cell_type": "code",
      "execution_count": null,
      "metadata": {
        "id": "e6975ed5",
        "outputId": "9bffd025-3a94-423c-85d6-9f05d1b5fa19"
      },
      "outputs": [
        {
          "data": {
            "text/plain": [
              "['__annotations__',\n",
              " '__class__',\n",
              " '__delattr__',\n",
              " '__dict__',\n",
              " '__dir__',\n",
              " '__doc__',\n",
              " '__eq__',\n",
              " '__format__',\n",
              " '__ge__',\n",
              " '__getattribute__',\n",
              " '__getstate__',\n",
              " '__gt__',\n",
              " '__hash__',\n",
              " '__init__',\n",
              " '__init_subclass__',\n",
              " '__le__',\n",
              " '__lt__',\n",
              " '__module__',\n",
              " '__ne__',\n",
              " '__new__',\n",
              " '__reduce__',\n",
              " '__reduce_ex__',\n",
              " '__repr__',\n",
              " '__setattr__',\n",
              " '__setstate__',\n",
              " '__sizeof__',\n",
              " '__sklearn_clone__',\n",
              " '__str__',\n",
              " '__subclasshook__',\n",
              " '__weakref__',\n",
              " '_build_request_for_signature',\n",
              " '_check_feature_names',\n",
              " '_check_n_features',\n",
              " '_concatenate_indicator',\n",
              " '_concatenate_indicator_feature_names_out',\n",
              " '_dense_fit',\n",
              " '_fit_dtype',\n",
              " '_fit_indicator',\n",
              " '_get_default_requests',\n",
              " '_get_metadata_request',\n",
              " '_get_param_names',\n",
              " '_get_tags',\n",
              " '_more_tags',\n",
              " '_parameter_constraints',\n",
              " '_repr_html_',\n",
              " '_repr_html_inner',\n",
              " '_repr_mimebundle_',\n",
              " '_sklearn_auto_wrap_output_keys',\n",
              " '_sparse_fit',\n",
              " '_transform_indicator',\n",
              " '_validate_data',\n",
              " '_validate_input',\n",
              " '_validate_params',\n",
              " 'add_indicator',\n",
              " 'copy',\n",
              " 'feature_names_in_',\n",
              " 'fill_value',\n",
              " 'fit',\n",
              " 'fit_transform',\n",
              " 'get_feature_names_out',\n",
              " 'get_metadata_routing',\n",
              " 'get_params',\n",
              " 'indicator_',\n",
              " 'inverse_transform',\n",
              " 'keep_empty_features',\n",
              " 'missing_values',\n",
              " 'n_features_in_',\n",
              " 'set_output',\n",
              " 'set_params',\n",
              " 'statistics_',\n",
              " 'strategy',\n",
              " 'transform']"
            ]
          },
          "execution_count": 149,
          "metadata": {},
          "output_type": "execute_result"
        }
      ],
      "source": [
        "dir(imputer)"
      ]
    },
    {
      "cell_type": "code",
      "execution_count": null,
      "metadata": {
        "id": "f86f0a99",
        "outputId": "8bedc54a-a80a-4bd6-c1d0-1a4bd0d936b0"
      },
      "outputs": [
        {
          "data": {
            "text/plain": [
              "array([-1.1849e+02,  3.4260e+01,  2.9000e+01,  2.1270e+03,  4.3500e+02,\n",
              "        1.1660e+03,  4.0900e+02,  3.5348e+00,  1.7970e+05])"
            ]
          },
          "execution_count": 150,
          "metadata": {},
          "output_type": "execute_result"
        }
      ],
      "source": [
        "imputer.statistics_"
      ]
    },
    {
      "cell_type": "code",
      "execution_count": null,
      "metadata": {
        "id": "35e1090e",
        "outputId": "55441c26-f74b-4b46-a6bb-ca6bb04dc549"
      },
      "outputs": [
        {
          "data": {
            "text/plain": [
              "array([-1.1849e+02,  3.4260e+01,  2.9000e+01,  2.1270e+03,  4.3500e+02,\n",
              "        1.1660e+03,  4.0900e+02,  3.5348e+00,  1.7970e+05])"
            ]
          },
          "execution_count": 151,
          "metadata": {},
          "output_type": "execute_result"
        }
      ],
      "source": [
        "housing_num.median().values"
      ]
    },
    {
      "cell_type": "markdown",
      "metadata": {
        "id": "27d3ba82"
      },
      "source": [
        "### 훈련 세트 변환:"
      ]
    },
    {
      "cell_type": "code",
      "execution_count": null,
      "metadata": {
        "id": "6d25ce04"
      },
      "outputs": [],
      "source": [
        "X = imputer.transform(housing_num)"
      ]
    },
    {
      "cell_type": "code",
      "execution_count": null,
      "metadata": {
        "id": "7c6641d7"
      },
      "outputs": [],
      "source": [
        "housing_tr = pd.DataFrame(X, columns=housing_num.columns,\n",
        "                          index = list(housing.index.values))"
      ]
    },
    {
      "cell_type": "code",
      "execution_count": null,
      "metadata": {
        "id": "2aaf1e28",
        "outputId": "e3415464-ed75-4a30-d00d-bf62815c7d85"
      },
      "outputs": [
        {
          "data": {
            "text/html": [
              "<div>\n",
              "<style scoped>\n",
              "    .dataframe tbody tr th:only-of-type {\n",
              "        vertical-align: middle;\n",
              "    }\n",
              "\n",
              "    .dataframe tbody tr th {\n",
              "        vertical-align: top;\n",
              "    }\n",
              "\n",
              "    .dataframe thead th {\n",
              "        text-align: right;\n",
              "    }\n",
              "</style>\n",
              "<table border=\"1\" class=\"dataframe\">\n",
              "  <thead>\n",
              "    <tr style=\"text-align: right;\">\n",
              "      <th></th>\n",
              "      <th>longitude</th>\n",
              "      <th>latitude</th>\n",
              "      <th>housing_median_age</th>\n",
              "      <th>total_rooms</th>\n",
              "      <th>total_bedrooms</th>\n",
              "      <th>population</th>\n",
              "      <th>households</th>\n",
              "      <th>median_income</th>\n",
              "      <th>median_house_value</th>\n",
              "    </tr>\n",
              "  </thead>\n",
              "  <tbody>\n",
              "    <tr>\n",
              "      <th>290</th>\n",
              "      <td>-122.16</td>\n",
              "      <td>37.77</td>\n",
              "      <td>47.0</td>\n",
              "      <td>1256.0</td>\n",
              "      <td>435.0</td>\n",
              "      <td>570.0</td>\n",
              "      <td>218.0</td>\n",
              "      <td>4.3750</td>\n",
              "      <td>161900.0</td>\n",
              "    </tr>\n",
              "    <tr>\n",
              "      <th>341</th>\n",
              "      <td>-122.17</td>\n",
              "      <td>37.75</td>\n",
              "      <td>38.0</td>\n",
              "      <td>992.0</td>\n",
              "      <td>435.0</td>\n",
              "      <td>732.0</td>\n",
              "      <td>259.0</td>\n",
              "      <td>1.6196</td>\n",
              "      <td>85100.0</td>\n",
              "    </tr>\n",
              "    <tr>\n",
              "      <th>538</th>\n",
              "      <td>-122.28</td>\n",
              "      <td>37.78</td>\n",
              "      <td>29.0</td>\n",
              "      <td>5154.0</td>\n",
              "      <td>435.0</td>\n",
              "      <td>3741.0</td>\n",
              "      <td>1273.0</td>\n",
              "      <td>2.5762</td>\n",
              "      <td>173400.0</td>\n",
              "    </tr>\n",
              "    <tr>\n",
              "      <th>563</th>\n",
              "      <td>-122.24</td>\n",
              "      <td>37.75</td>\n",
              "      <td>45.0</td>\n",
              "      <td>891.0</td>\n",
              "      <td>435.0</td>\n",
              "      <td>384.0</td>\n",
              "      <td>146.0</td>\n",
              "      <td>4.9489</td>\n",
              "      <td>247100.0</td>\n",
              "    </tr>\n",
              "    <tr>\n",
              "      <th>696</th>\n",
              "      <td>-122.10</td>\n",
              "      <td>37.69</td>\n",
              "      <td>41.0</td>\n",
              "      <td>746.0</td>\n",
              "      <td>435.0</td>\n",
              "      <td>387.0</td>\n",
              "      <td>161.0</td>\n",
              "      <td>3.9063</td>\n",
              "      <td>178400.0</td>\n",
              "    </tr>\n",
              "  </tbody>\n",
              "</table>\n",
              "</div>"
            ],
            "text/plain": [
              "     longitude  latitude  housing_median_age  total_rooms  total_bedrooms  \\\n",
              "290    -122.16     37.77                47.0       1256.0           435.0   \n",
              "341    -122.17     37.75                38.0        992.0           435.0   \n",
              "538    -122.28     37.78                29.0       5154.0           435.0   \n",
              "563    -122.24     37.75                45.0        891.0           435.0   \n",
              "696    -122.10     37.69                41.0        746.0           435.0   \n",
              "\n",
              "     population  households  median_income  median_house_value  \n",
              "290       570.0       218.0         4.3750            161900.0  \n",
              "341       732.0       259.0         1.6196             85100.0  \n",
              "538      3741.0      1273.0         2.5762            173400.0  \n",
              "563       384.0       146.0         4.9489            247100.0  \n",
              "696       387.0       161.0         3.9063            178400.0  "
            ]
          },
          "execution_count": 154,
          "metadata": {},
          "output_type": "execute_result"
        }
      ],
      "source": [
        "housing_tr.loc[sample_incomplete_rows.index.values]"
      ]
    },
    {
      "cell_type": "code",
      "execution_count": null,
      "metadata": {
        "id": "6b197fda",
        "outputId": "05269eab-29a5-4a57-aeca-d231ed1aeef6"
      },
      "outputs": [
        {
          "data": {
            "text/html": [
              "<div>\n",
              "<style scoped>\n",
              "    .dataframe tbody tr th:only-of-type {\n",
              "        vertical-align: middle;\n",
              "    }\n",
              "\n",
              "    .dataframe tbody tr th {\n",
              "        vertical-align: top;\n",
              "    }\n",
              "\n",
              "    .dataframe thead th {\n",
              "        text-align: right;\n",
              "    }\n",
              "</style>\n",
              "<table border=\"1\" class=\"dataframe\">\n",
              "  <thead>\n",
              "    <tr style=\"text-align: right;\">\n",
              "      <th></th>\n",
              "      <th>longitude</th>\n",
              "      <th>latitude</th>\n",
              "      <th>housing_median_age</th>\n",
              "      <th>total_rooms</th>\n",
              "      <th>total_bedrooms</th>\n",
              "      <th>population</th>\n",
              "      <th>households</th>\n",
              "      <th>median_income</th>\n",
              "      <th>median_house_value</th>\n",
              "    </tr>\n",
              "  </thead>\n",
              "  <tbody>\n",
              "    <tr>\n",
              "      <th>0</th>\n",
              "      <td>-122.23</td>\n",
              "      <td>37.88</td>\n",
              "      <td>41.0</td>\n",
              "      <td>880.0</td>\n",
              "      <td>129.0</td>\n",
              "      <td>322.0</td>\n",
              "      <td>126.0</td>\n",
              "      <td>8.3252</td>\n",
              "      <td>452600.0</td>\n",
              "    </tr>\n",
              "    <tr>\n",
              "      <th>1</th>\n",
              "      <td>-122.22</td>\n",
              "      <td>37.86</td>\n",
              "      <td>21.0</td>\n",
              "      <td>7099.0</td>\n",
              "      <td>1106.0</td>\n",
              "      <td>2401.0</td>\n",
              "      <td>1138.0</td>\n",
              "      <td>8.3014</td>\n",
              "      <td>358500.0</td>\n",
              "    </tr>\n",
              "    <tr>\n",
              "      <th>2</th>\n",
              "      <td>-122.24</td>\n",
              "      <td>37.85</td>\n",
              "      <td>52.0</td>\n",
              "      <td>1467.0</td>\n",
              "      <td>190.0</td>\n",
              "      <td>496.0</td>\n",
              "      <td>177.0</td>\n",
              "      <td>7.2574</td>\n",
              "      <td>352100.0</td>\n",
              "    </tr>\n",
              "    <tr>\n",
              "      <th>3</th>\n",
              "      <td>-122.25</td>\n",
              "      <td>37.85</td>\n",
              "      <td>52.0</td>\n",
              "      <td>1274.0</td>\n",
              "      <td>235.0</td>\n",
              "      <td>558.0</td>\n",
              "      <td>219.0</td>\n",
              "      <td>5.6431</td>\n",
              "      <td>341300.0</td>\n",
              "    </tr>\n",
              "    <tr>\n",
              "      <th>4</th>\n",
              "      <td>-122.25</td>\n",
              "      <td>37.85</td>\n",
              "      <td>52.0</td>\n",
              "      <td>1627.0</td>\n",
              "      <td>280.0</td>\n",
              "      <td>565.0</td>\n",
              "      <td>259.0</td>\n",
              "      <td>3.8462</td>\n",
              "      <td>342200.0</td>\n",
              "    </tr>\n",
              "  </tbody>\n",
              "</table>\n",
              "</div>"
            ],
            "text/plain": [
              "   longitude  latitude  housing_median_age  total_rooms  total_bedrooms  \\\n",
              "0    -122.23     37.88                41.0        880.0           129.0   \n",
              "1    -122.22     37.86                21.0       7099.0          1106.0   \n",
              "2    -122.24     37.85                52.0       1467.0           190.0   \n",
              "3    -122.25     37.85                52.0       1274.0           235.0   \n",
              "4    -122.25     37.85                52.0       1627.0           280.0   \n",
              "\n",
              "   population  households  median_income  median_house_value  \n",
              "0       322.0       126.0         8.3252            452600.0  \n",
              "1      2401.0      1138.0         8.3014            358500.0  \n",
              "2       496.0       177.0         7.2574            352100.0  \n",
              "3       558.0       219.0         5.6431            341300.0  \n",
              "4       565.0       259.0         3.8462            342200.0  "
            ]
          },
          "execution_count": 155,
          "metadata": {},
          "output_type": "execute_result"
        }
      ],
      "source": [
        "housing_tr = pd.DataFrame(X, columns=housing_num.columns)\n",
        "housing_tr.head()"
      ]
    },
    {
      "cell_type": "markdown",
      "metadata": {
        "id": "702f153a"
      },
      "source": [
        "### 범주형 입력 특성"
      ]
    },
    {
      "cell_type": "markdown",
      "metadata": {
        "id": "94735c3e"
      },
      "source": [
        " 범주형 입력 특성인 `ocean_proximity`을 전처리합니다:"
      ]
    },
    {
      "cell_type": "code",
      "execution_count": null,
      "metadata": {
        "id": "b15024ff",
        "outputId": "120d181c-d18f-41b9-c77a-94564d8a8a78"
      },
      "outputs": [
        {
          "data": {
            "text/plain": [
              "0    NEAR BAY\n",
              "1    NEAR BAY\n",
              "2    NEAR BAY\n",
              "3    NEAR BAY\n",
              "4    NEAR BAY\n",
              "5    NEAR BAY\n",
              "6    NEAR BAY\n",
              "7    NEAR BAY\n",
              "8    NEAR BAY\n",
              "9    NEAR BAY\n",
              "Name: ocean_proximity, dtype: object"
            ]
          },
          "execution_count": 156,
          "metadata": {},
          "output_type": "execute_result"
        }
      ],
      "source": [
        "housing_cat = housing['ocean_proximity']\n",
        "housing_cat.head(10)"
      ]
    },
    {
      "cell_type": "code",
      "execution_count": null,
      "metadata": {
        "id": "480a8279",
        "outputId": "0ac4fc5d-519e-4a07-c0bd-8029f60b665f"
      },
      "outputs": [
        {
          "data": {
            "text/plain": [
              "array([0, 0, 0, 0, 0, 0, 0, 0, 0, 0], dtype=int64)"
            ]
          },
          "execution_count": 157,
          "metadata": {},
          "output_type": "execute_result"
        }
      ],
      "source": [
        "housing_cat_encoded, housing_categories = housing_cat.factorize()\n",
        "housing_cat_encoded[:10]"
      ]
    },
    {
      "cell_type": "code",
      "execution_count": null,
      "metadata": {
        "id": "a717a7f1",
        "outputId": "8366bbeb-52f3-4a13-9afb-484b6ea44ea7"
      },
      "outputs": [
        {
          "data": {
            "text/plain": [
              "Index(['NEAR BAY', '<1H OCEAN', 'INLAND', 'NEAR OCEAN', 'ISLAND'], dtype='object')"
            ]
          },
          "execution_count": 158,
          "metadata": {},
          "output_type": "execute_result"
        }
      ],
      "source": [
        "housing_categories"
      ]
    },
    {
      "cell_type": "code",
      "execution_count": null,
      "metadata": {
        "id": "6918516c",
        "outputId": "7b0d3cdd-6602-42bb-f6ee-ee576c9eebbf"
      },
      "outputs": [
        {
          "data": {
            "text/plain": [
              "<20640x5 sparse matrix of type '<class 'numpy.float64'>'\n",
              "\twith 20640 stored elements in Compressed Sparse Row format>"
            ]
          },
          "execution_count": 159,
          "metadata": {},
          "output_type": "execute_result"
        }
      ],
      "source": [
        "from sklearn.preprocessing import OneHotEncoder\n",
        "\n",
        "cat_encoder = OneHotEncoder(categories='auto')\n",
        "housing_cat_reshaped = housing_cat.values.reshape(-1, 1)\n",
        "housing_cat_1hot = cat_encoder.fit_transform(housing_cat_reshaped)\n",
        "housing_cat_1hot"
      ]
    },
    {
      "cell_type": "code",
      "execution_count": null,
      "metadata": {
        "id": "26eb47f2",
        "outputId": "7276ad43-081f-4ff5-ba85-d57402405e96"
      },
      "outputs": [
        {
          "data": {
            "text/plain": [
              "array([[0., 0., 0., 1., 0.],\n",
              "       [0., 0., 0., 1., 0.],\n",
              "       [0., 0., 0., 1., 0.],\n",
              "       ...,\n",
              "       [0., 1., 0., 0., 0.],\n",
              "       [0., 1., 0., 0., 0.],\n",
              "       [0., 1., 0., 0., 0.]])"
            ]
          },
          "execution_count": 160,
          "metadata": {},
          "output_type": "execute_result"
        }
      ],
      "source": [
        "housing_cat_1hot.toarray()"
      ]
    },
    {
      "cell_type": "code",
      "execution_count": null,
      "metadata": {
        "id": "86a95235",
        "outputId": "64bc8e75-d8c2-4491-d7e0-b842ad538cb2"
      },
      "outputs": [
        {
          "name": "stderr",
          "output_type": "stream",
          "text": [
            "C:\\DEV\\miniconda3\\envs\\tf38_cpu\\lib\\site-packages\\sklearn\\preprocessing\\_encoders.py:972: FutureWarning: `sparse` was renamed to `sparse_output` in version 1.2 and will be removed in 1.4. `sparse_output` is ignored unless you leave `sparse` to its default value.\n",
            "  warnings.warn(\n"
          ]
        },
        {
          "data": {
            "text/plain": [
              "array([[0., 0., 0., 1., 0.],\n",
              "       [0., 0., 0., 1., 0.],\n",
              "       [0., 0., 0., 1., 0.],\n",
              "       ...,\n",
              "       [0., 1., 0., 0., 0.],\n",
              "       [0., 1., 0., 0., 0.],\n",
              "       [0., 1., 0., 0., 0.]])"
            ]
          },
          "execution_count": 161,
          "metadata": {},
          "output_type": "execute_result"
        }
      ],
      "source": [
        "# cat_encoder = CategoricalEncoder(encoding=\"onehot-dense\")\n",
        "cat_encoder = OneHotEncoder(categories='auto', sparse=False)\n",
        "housing_cat_1hot = cat_encoder.fit_transform(housing_cat_reshaped)\n",
        "housing_cat_1hot"
      ]
    },
    {
      "cell_type": "code",
      "execution_count": null,
      "metadata": {
        "id": "fa8e314e",
        "outputId": "443813eb-7fd1-4f6e-a05d-61b5a24db177"
      },
      "outputs": [
        {
          "data": {
            "text/plain": [
              "[array(['<1H OCEAN', 'INLAND', 'ISLAND', 'NEAR BAY', 'NEAR OCEAN'],\n",
              "       dtype=object)]"
            ]
          },
          "execution_count": 162,
          "metadata": {},
          "output_type": "execute_result"
        }
      ],
      "source": [
        "cat_encoder.categories_"
      ]
    },
    {
      "cell_type": "markdown",
      "metadata": {
        "id": "152cef79"
      },
      "source": [
        "### Test Set 생성"
      ]
    },
    {
      "cell_type": "code",
      "execution_count": null,
      "metadata": {
        "id": "6d4a548b"
      },
      "outputs": [],
      "source": [
        "import numpy as np\n",
        "# 일관된 출력을 위해 유사난수 초기화\n",
        "np.random.seed(42)"
      ]
    },
    {
      "cell_type": "code",
      "execution_count": null,
      "metadata": {
        "id": "76493bfe"
      },
      "outputs": [],
      "source": [
        "# 예시를 위해서 만든 것입니다. 사이킷런에는 train_test_split() 함수가 있습니다.\n",
        "def split_train_test(data, test_ratio):\n",
        "    shuffled_indices = np.random.permutation(len(data))\n",
        "    test_set_size = int(len(data) * test_ratio)\n",
        "    test_indices = shuffled_indices[:test_set_size]\n",
        "    train_indices = shuffled_indices[test_set_size:]\n",
        "    return data.iloc[train_indices], data.iloc[test_indices]"
      ]
    },
    {
      "cell_type": "code",
      "execution_count": null,
      "metadata": {
        "id": "fe24e0e1",
        "outputId": "6f0573ee-a2cf-48d6-f81f-99a871fb5822"
      },
      "outputs": [
        {
          "name": "stdout",
          "output_type": "stream",
          "text": [
            "16512 train + 4128 test\n"
          ]
        }
      ],
      "source": [
        "train_set, test_set = split_train_test(housing, 0.2)\n",
        "print(len(train_set), \"train +\", len(test_set), \"test\")"
      ]
    },
    {
      "cell_type": "code",
      "execution_count": null,
      "metadata": {
        "id": "df423e3e"
      },
      "outputs": [],
      "source": [
        "from zlib import crc32\n",
        "\n",
        "def test_set_check(identifier, test_ratio):\n",
        "    return crc32(np.int64(identifier)) & 0xffffffff < test_ratio * 2**32\n",
        "\n",
        "def split_train_test_by_id(data, test_ratio, id_column):\n",
        "    ids = data[id_column]\n",
        "    in_test_set = ids.apply(lambda id_: test_set_check(id_, test_ratio))\n",
        "    return data.loc[~in_test_set], data.loc[in_test_set]"
      ]
    },
    {
      "cell_type": "code",
      "execution_count": null,
      "metadata": {
        "id": "0b2a36ed"
      },
      "outputs": [],
      "source": [
        "housing_with_id = housing.reset_index()   # `index` 열이 추가된 데이터프레임이 반환됩니다.\n",
        "train_set, test_set = split_train_test_by_id(housing_with_id, 0.2, \"index\")"
      ]
    },
    {
      "cell_type": "code",
      "execution_count": null,
      "metadata": {
        "id": "496aeb97"
      },
      "outputs": [],
      "source": [
        "housing_with_id[\"id\"] = housing[\"longitude\"] * 1000 + housing[\"latitude\"]\n",
        "train_set, test_set = split_train_test_by_id(housing_with_id, 0.2, \"id\")"
      ]
    },
    {
      "cell_type": "code",
      "execution_count": null,
      "metadata": {
        "id": "8ce2d1e2",
        "outputId": "0925c36e-d1f4-41f8-a232-cf4b2e9f6ec6"
      },
      "outputs": [
        {
          "data": {
            "text/html": [
              "<div>\n",
              "<style scoped>\n",
              "    .dataframe tbody tr th:only-of-type {\n",
              "        vertical-align: middle;\n",
              "    }\n",
              "\n",
              "    .dataframe tbody tr th {\n",
              "        vertical-align: top;\n",
              "    }\n",
              "\n",
              "    .dataframe thead th {\n",
              "        text-align: right;\n",
              "    }\n",
              "</style>\n",
              "<table border=\"1\" class=\"dataframe\">\n",
              "  <thead>\n",
              "    <tr style=\"text-align: right;\">\n",
              "      <th></th>\n",
              "      <th>index</th>\n",
              "      <th>longitude</th>\n",
              "      <th>latitude</th>\n",
              "      <th>housing_median_age</th>\n",
              "      <th>total_rooms</th>\n",
              "      <th>total_bedrooms</th>\n",
              "      <th>population</th>\n",
              "      <th>households</th>\n",
              "      <th>median_income</th>\n",
              "      <th>median_house_value</th>\n",
              "      <th>ocean_proximity</th>\n",
              "      <th>id</th>\n",
              "    </tr>\n",
              "  </thead>\n",
              "  <tbody>\n",
              "    <tr>\n",
              "      <th>59</th>\n",
              "      <td>59</td>\n",
              "      <td>-122.29</td>\n",
              "      <td>37.82</td>\n",
              "      <td>2.0</td>\n",
              "      <td>158.0</td>\n",
              "      <td>43.0</td>\n",
              "      <td>94.0</td>\n",
              "      <td>57.0</td>\n",
              "      <td>2.5625</td>\n",
              "      <td>60000.0</td>\n",
              "      <td>NEAR BAY</td>\n",
              "      <td>-122252.18</td>\n",
              "    </tr>\n",
              "    <tr>\n",
              "      <th>60</th>\n",
              "      <td>60</td>\n",
              "      <td>-122.29</td>\n",
              "      <td>37.83</td>\n",
              "      <td>52.0</td>\n",
              "      <td>1121.0</td>\n",
              "      <td>211.0</td>\n",
              "      <td>554.0</td>\n",
              "      <td>187.0</td>\n",
              "      <td>3.3929</td>\n",
              "      <td>75700.0</td>\n",
              "      <td>NEAR BAY</td>\n",
              "      <td>-122252.17</td>\n",
              "    </tr>\n",
              "    <tr>\n",
              "      <th>61</th>\n",
              "      <td>61</td>\n",
              "      <td>-122.29</td>\n",
              "      <td>37.82</td>\n",
              "      <td>49.0</td>\n",
              "      <td>135.0</td>\n",
              "      <td>29.0</td>\n",
              "      <td>86.0</td>\n",
              "      <td>23.0</td>\n",
              "      <td>6.1183</td>\n",
              "      <td>75000.0</td>\n",
              "      <td>NEAR BAY</td>\n",
              "      <td>-122252.18</td>\n",
              "    </tr>\n",
              "    <tr>\n",
              "      <th>62</th>\n",
              "      <td>62</td>\n",
              "      <td>-122.29</td>\n",
              "      <td>37.81</td>\n",
              "      <td>50.0</td>\n",
              "      <td>760.0</td>\n",
              "      <td>190.0</td>\n",
              "      <td>377.0</td>\n",
              "      <td>122.0</td>\n",
              "      <td>0.9011</td>\n",
              "      <td>86100.0</td>\n",
              "      <td>NEAR BAY</td>\n",
              "      <td>-122252.19</td>\n",
              "    </tr>\n",
              "    <tr>\n",
              "      <th>67</th>\n",
              "      <td>67</td>\n",
              "      <td>-122.29</td>\n",
              "      <td>37.80</td>\n",
              "      <td>52.0</td>\n",
              "      <td>1027.0</td>\n",
              "      <td>244.0</td>\n",
              "      <td>492.0</td>\n",
              "      <td>147.0</td>\n",
              "      <td>2.6094</td>\n",
              "      <td>81300.0</td>\n",
              "      <td>NEAR BAY</td>\n",
              "      <td>-122252.20</td>\n",
              "    </tr>\n",
              "  </tbody>\n",
              "</table>\n",
              "</div>"
            ],
            "text/plain": [
              "    index  longitude  latitude  housing_median_age  total_rooms  \\\n",
              "59     59    -122.29     37.82                 2.0        158.0   \n",
              "60     60    -122.29     37.83                52.0       1121.0   \n",
              "61     61    -122.29     37.82                49.0        135.0   \n",
              "62     62    -122.29     37.81                50.0        760.0   \n",
              "67     67    -122.29     37.80                52.0       1027.0   \n",
              "\n",
              "    total_bedrooms  population  households  median_income  median_house_value  \\\n",
              "59            43.0        94.0        57.0         2.5625             60000.0   \n",
              "60           211.0       554.0       187.0         3.3929             75700.0   \n",
              "61            29.0        86.0        23.0         6.1183             75000.0   \n",
              "62           190.0       377.0       122.0         0.9011             86100.0   \n",
              "67           244.0       492.0       147.0         2.6094             81300.0   \n",
              "\n",
              "   ocean_proximity         id  \n",
              "59        NEAR BAY -122252.18  \n",
              "60        NEAR BAY -122252.17  \n",
              "61        NEAR BAY -122252.18  \n",
              "62        NEAR BAY -122252.19  \n",
              "67        NEAR BAY -122252.20  "
            ]
          },
          "execution_count": 169,
          "metadata": {},
          "output_type": "execute_result"
        }
      ],
      "source": [
        "test_set.head()"
      ]
    },
    {
      "cell_type": "code",
      "execution_count": null,
      "metadata": {
        "id": "2b0fd492"
      },
      "outputs": [],
      "source": [
        "from sklearn.model_selection import train_test_split\n",
        "\n",
        "train_set, test_set = train_test_split(housing, test_size=0.2, random_state=42)"
      ]
    },
    {
      "cell_type": "code",
      "execution_count": null,
      "metadata": {
        "id": "1dec1c70",
        "outputId": "c68121e6-cfb3-452c-eae2-05cd388a7cbe"
      },
      "outputs": [
        {
          "data": {
            "text/html": [
              "<div>\n",
              "<style scoped>\n",
              "    .dataframe tbody tr th:only-of-type {\n",
              "        vertical-align: middle;\n",
              "    }\n",
              "\n",
              "    .dataframe tbody tr th {\n",
              "        vertical-align: top;\n",
              "    }\n",
              "\n",
              "    .dataframe thead th {\n",
              "        text-align: right;\n",
              "    }\n",
              "</style>\n",
              "<table border=\"1\" class=\"dataframe\">\n",
              "  <thead>\n",
              "    <tr style=\"text-align: right;\">\n",
              "      <th></th>\n",
              "      <th>longitude</th>\n",
              "      <th>latitude</th>\n",
              "      <th>housing_median_age</th>\n",
              "      <th>total_rooms</th>\n",
              "      <th>total_bedrooms</th>\n",
              "      <th>population</th>\n",
              "      <th>households</th>\n",
              "      <th>median_income</th>\n",
              "      <th>median_house_value</th>\n",
              "      <th>ocean_proximity</th>\n",
              "    </tr>\n",
              "  </thead>\n",
              "  <tbody>\n",
              "    <tr>\n",
              "      <th>20046</th>\n",
              "      <td>-119.01</td>\n",
              "      <td>36.06</td>\n",
              "      <td>25.0</td>\n",
              "      <td>1505.0</td>\n",
              "      <td>NaN</td>\n",
              "      <td>1392.0</td>\n",
              "      <td>359.0</td>\n",
              "      <td>1.6812</td>\n",
              "      <td>47700.0</td>\n",
              "      <td>INLAND</td>\n",
              "    </tr>\n",
              "    <tr>\n",
              "      <th>3024</th>\n",
              "      <td>-119.46</td>\n",
              "      <td>35.14</td>\n",
              "      <td>30.0</td>\n",
              "      <td>2943.0</td>\n",
              "      <td>NaN</td>\n",
              "      <td>1565.0</td>\n",
              "      <td>584.0</td>\n",
              "      <td>2.5313</td>\n",
              "      <td>45800.0</td>\n",
              "      <td>INLAND</td>\n",
              "    </tr>\n",
              "    <tr>\n",
              "      <th>15663</th>\n",
              "      <td>-122.44</td>\n",
              "      <td>37.80</td>\n",
              "      <td>52.0</td>\n",
              "      <td>3830.0</td>\n",
              "      <td>NaN</td>\n",
              "      <td>1310.0</td>\n",
              "      <td>963.0</td>\n",
              "      <td>3.4801</td>\n",
              "      <td>500001.0</td>\n",
              "      <td>NEAR BAY</td>\n",
              "    </tr>\n",
              "    <tr>\n",
              "      <th>20484</th>\n",
              "      <td>-118.72</td>\n",
              "      <td>34.28</td>\n",
              "      <td>17.0</td>\n",
              "      <td>3051.0</td>\n",
              "      <td>NaN</td>\n",
              "      <td>1705.0</td>\n",
              "      <td>495.0</td>\n",
              "      <td>5.7376</td>\n",
              "      <td>218600.0</td>\n",
              "      <td>&lt;1H OCEAN</td>\n",
              "    </tr>\n",
              "    <tr>\n",
              "      <th>9814</th>\n",
              "      <td>-121.93</td>\n",
              "      <td>36.62</td>\n",
              "      <td>34.0</td>\n",
              "      <td>2351.0</td>\n",
              "      <td>NaN</td>\n",
              "      <td>1063.0</td>\n",
              "      <td>428.0</td>\n",
              "      <td>3.7250</td>\n",
              "      <td>278000.0</td>\n",
              "      <td>NEAR OCEAN</td>\n",
              "    </tr>\n",
              "  </tbody>\n",
              "</table>\n",
              "</div>"
            ],
            "text/plain": [
              "       longitude  latitude  housing_median_age  total_rooms  total_bedrooms  \\\n",
              "20046    -119.01     36.06                25.0       1505.0             NaN   \n",
              "3024     -119.46     35.14                30.0       2943.0             NaN   \n",
              "15663    -122.44     37.80                52.0       3830.0             NaN   \n",
              "20484    -118.72     34.28                17.0       3051.0             NaN   \n",
              "9814     -121.93     36.62                34.0       2351.0             NaN   \n",
              "\n",
              "       population  households  median_income  median_house_value  \\\n",
              "20046      1392.0       359.0         1.6812             47700.0   \n",
              "3024       1565.0       584.0         2.5313             45800.0   \n",
              "15663      1310.0       963.0         3.4801            500001.0   \n",
              "20484      1705.0       495.0         5.7376            218600.0   \n",
              "9814       1063.0       428.0         3.7250            278000.0   \n",
              "\n",
              "      ocean_proximity  \n",
              "20046          INLAND  \n",
              "3024           INLAND  \n",
              "15663        NEAR BAY  \n",
              "20484       <1H OCEAN  \n",
              "9814       NEAR OCEAN  "
            ]
          },
          "execution_count": 171,
          "metadata": {},
          "output_type": "execute_result"
        }
      ],
      "source": [
        "test_set.head()"
      ]
    },
    {
      "cell_type": "code",
      "execution_count": null,
      "metadata": {
        "id": "7f096a8c",
        "outputId": "bd82e513-213b-40f4-b4ba-a8af786e2822"
      },
      "outputs": [
        {
          "data": {
            "text/plain": [
              "<Axes: >"
            ]
          },
          "execution_count": 172,
          "metadata": {},
          "output_type": "execute_result"
        },
        {
          "data": {
            "image/png": "[encoded data removed]",
            "text/plain": [
              "<Figure size 640x480 with 1 Axes>"
            ]
          },
          "metadata": {},
          "output_type": "display_data"
        }
      ],
      "source": [
        "housing[\"median_income\"].hist()"
      ]
    },
    {
      "cell_type": "code",
      "execution_count": null,
      "metadata": {
        "id": "5e508229"
      },
      "outputs": [],
      "source": [
        "# 소득 카테고리 개수를 제한하기 위해 1.5로 나눕니다.\n",
        "housing[\"income_cat\"] = np.ceil(housing[\"median_income\"] / 1.5)\n",
        "# 5 이상은 5로 레이블합니다.\n",
        "housing[\"income_cat\"].where(housing[\"income_cat\"] < 5, 5.0, inplace=True)"
      ]
    },
    {
      "cell_type": "code",
      "execution_count": null,
      "metadata": {
        "id": "f2c3b18e",
        "outputId": "4116b402-6089-465d-d476-e955024698c8"
      },
      "outputs": [
        {
          "data": {
            "text/plain": [
              "income_cat\n",
              "3.0    7236\n",
              "2.0    6581\n",
              "4.0    3639\n",
              "5.0    2362\n",
              "1.0     822\n",
              "Name: count, dtype: int64"
            ]
          },
          "execution_count": 174,
          "metadata": {},
          "output_type": "execute_result"
        }
      ],
      "source": [
        "housing[\"income_cat\"].value_counts()"
      ]
    },
    {
      "cell_type": "code",
      "execution_count": null,
      "metadata": {
        "id": "8ca08ff7",
        "outputId": "a5fe6964-4efe-4fc2-dbb5-e7c4b9792436"
      },
      "outputs": [
        {
          "data": {
            "text/plain": [
              "<Axes: >"
            ]
          },
          "execution_count": 175,
          "metadata": {},
          "output_type": "execute_result"
        },
        {
          "data": {
            "image/png": "[encoded data removed]",
            "text/plain": [
              "<Figure size 640x480 with 1 Axes>"
            ]
          },
          "metadata": {},
          "output_type": "display_data"
        }
      ],
      "source": [
        "housing[\"income_cat\"].hist()"
      ]
    },
    {
      "cell_type": "code",
      "execution_count": null,
      "metadata": {
        "id": "9aeddd91"
      },
      "outputs": [],
      "source": [
        "from sklearn.model_selection import StratifiedShuffleSplit\n",
        "\n",
        "split = StratifiedShuffleSplit(n_splits=1, test_size=0.2, random_state=42)\n",
        "for train_index, test_index in split.split(housing, housing[\"income_cat\"]):\n",
        "    strat_train_set = housing.loc[train_index]\n",
        "    strat_test_set = housing.loc[test_index]"
      ]
    },
    {
      "cell_type": "code",
      "execution_count": null,
      "metadata": {
        "id": "f8033556",
        "outputId": "cefa2190-2139-48a9-8081-6e9e9f9ec3b4"
      },
      "outputs": [
        {
          "data": {
            "text/plain": [
              "income_cat\n",
              "3.0    0.350533\n",
              "2.0    0.318798\n",
              "4.0    0.176357\n",
              "5.0    0.114341\n",
              "1.0    0.039971\n",
              "Name: count, dtype: float64"
            ]
          },
          "execution_count": 177,
          "metadata": {},
          "output_type": "execute_result"
        }
      ],
      "source": [
        "strat_test_set[\"income_cat\"].value_counts() / len(strat_test_set)"
      ]
    },
    {
      "cell_type": "code",
      "execution_count": null,
      "metadata": {
        "id": "ebe41ded",
        "outputId": "d818eaa7-7174-44e2-e404-3613e43c7aa0"
      },
      "outputs": [
        {
          "data": {
            "text/plain": [
              "income_cat\n",
              "3.0    0.350581\n",
              "2.0    0.318847\n",
              "4.0    0.176308\n",
              "5.0    0.114438\n",
              "1.0    0.039826\n",
              "Name: count, dtype: float64"
            ]
          },
          "execution_count": 178,
          "metadata": {},
          "output_type": "execute_result"
        }
      ],
      "source": [
        "housing[\"income_cat\"].value_counts() / len(housing)"
      ]
    },
    {
      "cell_type": "code",
      "execution_count": null,
      "metadata": {
        "id": "7ac5cd8d"
      },
      "outputs": [],
      "source": [
        "def income_cat_proportions(data):\n",
        "    return data[\"income_cat\"].value_counts() / len(data)\n",
        "\n",
        "train_set, test_set = train_test_split(housing, test_size=0.2, random_state=42)\n",
        "\n",
        "compare_props = pd.DataFrame({\n",
        "    \"Overall\": income_cat_proportions(housing),\n",
        "    \"Stratified\": income_cat_proportions(strat_test_set),\n",
        "    \"Random\": income_cat_proportions(test_set),\n",
        "}).sort_index()\n",
        "compare_props[\"Rand. %error\"] = 100 * compare_props[\"Random\"] / compare_props[\"Overall\"] - 100\n",
        "compare_props[\"Strat. %error\"] = 100 * compare_props[\"Stratified\"] / compare_props[\"Overall\"] - 100"
      ]
    },
    {
      "cell_type": "code",
      "execution_count": null,
      "metadata": {
        "id": "b922c248",
        "outputId": "a858625c-5691-4018-e680-9870adb4970b"
      },
      "outputs": [
        {
          "data": {
            "text/html": [
              "<div>\n",
              "<style scoped>\n",
              "    .dataframe tbody tr th:only-of-type {\n",
              "        vertical-align: middle;\n",
              "    }\n",
              "\n",
              "    .dataframe tbody tr th {\n",
              "        vertical-align: top;\n",
              "    }\n",
              "\n",
              "    .dataframe thead th {\n",
              "        text-align: right;\n",
              "    }\n",
              "</style>\n",
              "<table border=\"1\" class=\"dataframe\">\n",
              "  <thead>\n",
              "    <tr style=\"text-align: right;\">\n",
              "      <th></th>\n",
              "      <th>Overall</th>\n",
              "      <th>Stratified</th>\n",
              "      <th>Random</th>\n",
              "      <th>Rand. %error</th>\n",
              "      <th>Strat. %error</th>\n",
              "    </tr>\n",
              "    <tr>\n",
              "      <th>income_cat</th>\n",
              "      <th></th>\n",
              "      <th></th>\n",
              "      <th></th>\n",
              "      <th></th>\n",
              "      <th></th>\n",
              "    </tr>\n",
              "  </thead>\n",
              "  <tbody>\n",
              "    <tr>\n",
              "      <th>1.0</th>\n",
              "      <td>0.039826</td>\n",
              "      <td>0.039971</td>\n",
              "      <td>0.040213</td>\n",
              "      <td>0.973236</td>\n",
              "      <td>0.364964</td>\n",
              "    </tr>\n",
              "    <tr>\n",
              "      <th>2.0</th>\n",
              "      <td>0.318847</td>\n",
              "      <td>0.318798</td>\n",
              "      <td>0.324370</td>\n",
              "      <td>1.732260</td>\n",
              "      <td>-0.015195</td>\n",
              "    </tr>\n",
              "    <tr>\n",
              "      <th>3.0</th>\n",
              "      <td>0.350581</td>\n",
              "      <td>0.350533</td>\n",
              "      <td>0.358527</td>\n",
              "      <td>2.266446</td>\n",
              "      <td>-0.013820</td>\n",
              "    </tr>\n",
              "    <tr>\n",
              "      <th>4.0</th>\n",
              "      <td>0.176308</td>\n",
              "      <td>0.176357</td>\n",
              "      <td>0.167393</td>\n",
              "      <td>-5.056334</td>\n",
              "      <td>0.027480</td>\n",
              "    </tr>\n",
              "    <tr>\n",
              "      <th>5.0</th>\n",
              "      <td>0.114438</td>\n",
              "      <td>0.114341</td>\n",
              "      <td>0.109496</td>\n",
              "      <td>-4.318374</td>\n",
              "      <td>-0.084674</td>\n",
              "    </tr>\n",
              "  </tbody>\n",
              "</table>\n",
              "</div>"
            ],
            "text/plain": [
              "             Overall  Stratified    Random  Rand. %error  Strat. %error\n",
              "income_cat                                                             \n",
              "1.0         0.039826    0.039971  0.040213      0.973236       0.364964\n",
              "2.0         0.318847    0.318798  0.324370      1.732260      -0.015195\n",
              "3.0         0.350581    0.350533  0.358527      2.266446      -0.013820\n",
              "4.0         0.176308    0.176357  0.167393     -5.056334       0.027480\n",
              "5.0         0.114438    0.114341  0.109496     -4.318374      -0.084674"
            ]
          },
          "execution_count": 180,
          "metadata": {},
          "output_type": "execute_result"
        }
      ],
      "source": [
        "compare_props"
      ]
    },
    {
      "cell_type": "code",
      "execution_count": null,
      "metadata": {
        "id": "2845fb25"
      },
      "outputs": [],
      "source": [
        "for set_ in (strat_train_set, strat_test_set):\n",
        "    set_.drop(\"income_cat\", axis=1, inplace=True)"
      ]
    },
    {
      "cell_type": "code",
      "execution_count": null,
      "metadata": {
        "id": "f0c29066"
      },
      "outputs": [],
      "source": [
        "housing = strat_train_set.copy()"
      ]
    },
    {
      "cell_type": "markdown",
      "metadata": {
        "id": "57e2d269"
      },
      "source": [
        "### 모델 선택과 훈련"
      ]
    },
    {
      "cell_type": "code",
      "execution_count": null,
      "metadata": {
        "id": "27799755"
      },
      "outputs": [],
      "source": [
        "from sklearn.base import BaseEstimator, TransformerMixin\n",
        "\n",
        "# 컬럼 인덱스\n",
        "rooms_ix, bedrooms_ix, population_ix, household_ix = 3, 4, 5, 6\n",
        "\n",
        "class CombinedAttributesAdder(BaseEstimator, TransformerMixin):\n",
        "    def __init__(self, add_bedrooms_per_room = True): # no *args or **kargs\n",
        "        self.add_bedrooms_per_room = add_bedrooms_per_room\n",
        "    def fit(self, X, y=None):\n",
        "        return self  # nothing else to do\n",
        "    def transform(self, X, y=None):\n",
        "        rooms_per_household = X[:, rooms_ix] / X[:, household_ix]\n",
        "        population_per_household = X[:, population_ix] / X[:, household_ix]\n",
        "        if self.add_bedrooms_per_room:\n",
        "            bedrooms_per_room = X[:, bedrooms_ix] / X[:, rooms_ix]\n",
        "            return np.c_[X, rooms_per_household, population_per_household,\n",
        "                         bedrooms_per_room]\n",
        "        else:\n",
        "            return np.c_[X, rooms_per_household, population_per_household]\n",
        "\n",
        "attr_adder = CombinedAttributesAdder(add_bedrooms_per_room=False)\n",
        "housing_extra_attribs = attr_adder.transform(housing.values)"
      ]
    },
    {
      "cell_type": "markdown",
      "metadata": {
        "id": "04e911c6"
      },
      "source": [
        "### Transformation Pipelines"
      ]
    },
    {
      "cell_type": "code",
      "execution_count": null,
      "metadata": {
        "id": "5ffe1813"
      },
      "outputs": [],
      "source": [
        "from sklearn.pipeline import Pipeline\n",
        "from sklearn.preprocessing import StandardScaler\n",
        "\n",
        "num_pipeline = Pipeline([\n",
        "        ('imputer', SimpleImputer(strategy=\"median\")),\n",
        "        ('attribs_adder', CombinedAttributesAdder()),\n",
        "        ('std_scaler', StandardScaler()),\n",
        "    ])\n",
        "\n",
        "housing_num_tr = num_pipeline.fit_transform(housing_num)"
      ]
    },
    {
      "cell_type": "code",
      "execution_count": null,
      "metadata": {
        "id": "058b3da2",
        "outputId": "de9aed83-ea35-4e7d-bfa0-d05da2a218f7"
      },
      "outputs": [
        {
          "data": {
            "text/plain": [
              "array([[-1.32783522,  1.05254828,  0.98214266, ...,  0.62855945,\n",
              "        -0.04959654, -1.02998783],\n",
              "       [-1.32284391,  1.04318455, -0.60701891, ...,  0.32704136,\n",
              "        -0.09251223, -0.8888972 ],\n",
              "       [-1.33282653,  1.03850269,  1.85618152, ...,  1.15562047,\n",
              "        -0.02584253, -1.29168566],\n",
              "       ...,\n",
              "       [-0.8237132 ,  1.77823747, -0.92485123, ..., -0.09031802,\n",
              "        -0.0717345 ,  0.02113407],\n",
              "       [-0.87362627,  1.77823747, -0.84539315, ..., -0.04021111,\n",
              "        -0.09122515,  0.09346655],\n",
              "       [-0.83369581,  1.75014627, -1.00430931, ..., -0.07044252,\n",
              "        -0.04368215,  0.11327519]])"
            ]
          },
          "execution_count": 185,
          "metadata": {},
          "output_type": "execute_result"
        }
      ],
      "source": [
        "housing_num_tr"
      ]
    },
    {
      "cell_type": "code",
      "execution_count": null,
      "metadata": {
        "id": "b709c069"
      },
      "outputs": [],
      "source": [
        "from sklearn.base import BaseEstimator, TransformerMixin\n",
        "\n",
        "# 사이킷런이 DataFrame을 바로 사용하지 못하므로\n",
        "# 수치형이나 범주형 컬럼을 선택하는 클래스를 만듭니다.\n",
        "class DataFrameSelector(BaseEstimator, TransformerMixin):\n",
        "    def __init__(self, attribute_names):\n",
        "        self.attribute_names = attribute_names\n",
        "    def fit(self, X, y=None):\n",
        "        return self\n",
        "    def transform(self, X):\n",
        "        return X[self.attribute_names].values"
      ]
    },
    {
      "cell_type": "code",
      "execution_count": null,
      "metadata": {
        "id": "4d038eb8"
      },
      "outputs": [],
      "source": [
        "from sklearn.base import BaseEstimator, TransformerMixin\n",
        "from sklearn.utils import check_array\n",
        "from sklearn.preprocessing import LabelEncoder\n",
        "from scipy import sparse\n",
        "\n",
        "class CategoricalEncoder(BaseEstimator, TransformerMixin):\n",
        "    def __init__(self, encoding='onehot', categories='auto', dtype=np.float64,\n",
        "                 handle_unknown='error'):\n",
        "        self.encoding = encoding\n",
        "        self.categories = categories\n",
        "        self.dtype = dtype\n",
        "        self.handle_unknown = handle_unknown\n",
        "\n",
        "    def fit(self, X, y=None):\n",
        "        if self.encoding not in ['onehot', 'onehot-dense', 'ordinal']:\n",
        "            template = (\"encoding should be either 'onehot', 'onehot-dense' \"\n",
        "                        \"or 'ordinal', got %s\")\n",
        "            raise ValueError(template % self.handle_unknown)\n",
        "\n",
        "        if self.handle_unknown not in ['error', 'ignore']:\n",
        "            template = (\"handle_unknown should be either 'error' or \"\n",
        "                        \"'ignore', got %s\")\n",
        "            raise ValueError(template % self.handle_unknown)\n",
        "\n",
        "        if self.encoding == 'ordinal' and self.handle_unknown == 'ignore':\n",
        "            raise ValueError(\"handle_unknown='ignore' is not supported for\"\n",
        "                             \" encoding='ordinal'\")\n",
        "\n",
        "        X = check_array(X, dtype=object, accept_sparse='csc', copy=True)\n",
        "        n_samples, n_features = X.shape\n",
        "\n",
        "        self._label_encoders_ = [LabelEncoder() for _ in range(n_features)]\n",
        "\n",
        "        for i in range(n_features):\n",
        "            le = self._label_encoders_[i]\n",
        "            Xi = X[:, i]\n",
        "            if self.categories == 'auto':\n",
        "                le.fit(Xi)\n",
        "            else:\n",
        "                valid_mask = np.in1d(Xi, self.categories[i])\n",
        "                if not np.all(valid_mask):\n",
        "                    if self.handle_unknown == 'error':\n",
        "                        diff = np.unique(Xi[~valid_mask])\n",
        "                        msg = (\"Found unknown categories {0} in column {1}\"\n",
        "                               \" during fit\".format(diff, i))\n",
        "                        raise ValueError(msg)\n",
        "                le.classes_ = np.array(np.sort(self.categories[i]))\n",
        "\n",
        "        self.categories_ = [le.classes_ for le in self._label_encoders_]\n",
        "\n",
        "        return self\n",
        "\n",
        "    def transform(self, X):\n",
        "        X = check_array(X, accept_sparse='csc', dtype=object, copy=True)\n",
        "        n_samples, n_features = X.shape\n",
        "        X_int = np.zeros_like(X, dtype=int)\n",
        "        X_mask = np.ones_like(X, dtype=bool)\n",
        "\n",
        "        for i in range(n_features):\n",
        "            valid_mask = np.in1d(X[:, i], self.categories_[i])\n",
        "\n",
        "            if not np.all(valid_mask):\n",
        "                if self.handle_unknown == 'error':\n",
        "                    diff = np.unique(X[~valid_mask, i])\n",
        "                    msg = (\"Found unknown categories {0} in column {1}\"\n",
        "                           \" during transform\".format(diff, i))\n",
        "                    raise ValueError(msg)\n",
        "            else:\n",
        "                X_mask[:, i] = valid_mask\n",
        "                X[:, i][~valid_mask] = self.categories_[i][0]\n",
        "\n",
        "            X_int[:, i] = self._label_encoders_[i].transform(X[:, i])\n",
        "\n",
        "        if self.encoding == 'ordinal':\n",
        "            return X_int.astype(self.dtype, copy=False)\n",
        "\n",
        "        mask = X_mask.ravel()\n",
        "        n_values = [cats.shape[0] for cats in self.categories_]\n",
        "        n_values = np.array([0] + n_values)\n",
        "        indices = np.cumsum(n_values)\n",
        "\n",
        "        column_indices = (X_int + indices[:-1]).ravel()[mask]\n",
        "        row_indices = np.repeat(np.arange(n_samples, dtype=np.int32),\n",
        "                                n_features)[mask]\n",
        "        data = np.ones(n_samples * n_features)[mask]\n",
        "\n",
        "        out = sparse.csc_matrix((data, (row_indices, column_indices)),\n",
        "                                shape=(n_samples, indices[-1]),\n",
        "                                dtype=self.dtype).tocsr()\n",
        "        if self.encoding == 'onehot-dense':\n",
        "            return out.toarray()\n",
        "        else:\n",
        "            return out"
      ]
    },
    {
      "cell_type": "code",
      "execution_count": null,
      "metadata": {
        "id": "bbeb7c81"
      },
      "outputs": [],
      "source": [
        "num_attribs = list(housing_num)\n",
        "cat_attribs = [\"ocean_proximity\"]\n",
        "\n",
        "num_pipeline = Pipeline([\n",
        "        ('selector', DataFrameSelector(num_attribs)),\n",
        "        ('imputer', SimpleImputer(strategy=\"median\")),\n",
        "        ('attribs_adder', CombinedAttributesAdder()),\n",
        "        ('std_scaler', StandardScaler()),\n",
        "    ])\n",
        "\n",
        "cat_pipeline = Pipeline([\n",
        "        ('selector', DataFrameSelector(cat_attribs)),\n",
        "        ('cat_encoder', CategoricalEncoder(encoding=\"onehot-dense\")),\n",
        "    ])"
      ]
    },
    {
      "cell_type": "code",
      "execution_count": null,
      "metadata": {
        "id": "4c13a256"
      },
      "outputs": [],
      "source": [
        "from sklearn.pipeline import FeatureUnion\n",
        "\n",
        "full_pipeline = FeatureUnion(transformer_list=[\n",
        "        (\"num_pipeline\", num_pipeline),\n",
        "        (\"cat_pipeline\", cat_pipeline),\n",
        "    ])"
      ]
    },
    {
      "cell_type": "code",
      "execution_count": null,
      "metadata": {
        "id": "62bd3c5d",
        "outputId": "40567e0d-1c1c-44b9-b162-46dcf6bd0bd0"
      },
      "outputs": [
        {
          "data": {
            "text/plain": [
              "array([[-0.94135046,  1.34743822,  0.02756357, ...,  0.        ,\n",
              "         0.        ,  0.        ],\n",
              "       [ 1.17178212, -1.19243966, -1.72201763, ...,  0.        ,\n",
              "         0.        ,  1.        ],\n",
              "       [ 0.26758118, -0.1259716 ,  1.22045984, ...,  0.        ,\n",
              "         0.        ,  0.        ],\n",
              "       ...,\n",
              "       [-1.5707942 ,  1.31001828,  1.53856552, ...,  0.        ,\n",
              "         0.        ,  0.        ],\n",
              "       [-1.56080303,  1.2492109 , -1.1653327 , ...,  0.        ,\n",
              "         0.        ,  0.        ],\n",
              "       [-1.28105026,  2.02567448, -0.13148926, ...,  0.        ,\n",
              "         0.        ,  0.        ]])"
            ]
          },
          "execution_count": 190,
          "metadata": {},
          "output_type": "execute_result"
        }
      ],
      "source": [
        "housing_prepared = full_pipeline.fit_transform(housing)\n",
        "housing_prepared"
      ]
    },
    {
      "cell_type": "code",
      "execution_count": null,
      "metadata": {
        "id": "a9a9fd95",
        "outputId": "3390a28f-f550-4b43-eb81-4eb96fce9d6b"
      },
      "outputs": [
        {
          "data": {
            "text/plain": [
              "(16512, 17)"
            ]
          },
          "execution_count": 191,
          "metadata": {},
          "output_type": "execute_result"
        }
      ],
      "source": [
        "housing_prepared.shape"
      ]
    },
    {
      "cell_type": "markdown",
      "metadata": {
        "id": "bce0cbc4"
      },
      "source": [
        "### 모델 선택과 훈련"
      ]
    },
    {
      "cell_type": "code",
      "execution_count": null,
      "metadata": {
        "id": "2bc090eb"
      },
      "outputs": [],
      "source": [
        "housing_labels = strat_train_set[\"median_house_value\"].copy()"
      ]
    },
    {
      "cell_type": "code",
      "execution_count": null,
      "metadata": {
        "id": "d90be7d8",
        "outputId": "44e23f76-6eb4-42dd-de95-7cc48fd8a030"
      },
      "outputs": [
        {
          "data": {
            "text/html": [
              "<style>#sk-container-id-2 {color: black;}#sk-container-id-2 pre{padding: 0;}#sk-container-id-2 div.sk-toggleable {background-color: white;}#sk-container-id-2 label.sk-toggleable__label {cursor: pointer;display: block;width: 100%;margin-bottom: 0;padding: 0.3em;box-sizing: border-box;text-align: center;}#sk-container-id-2 label.sk-toggleable__label-arrow:before {content: \"▸\";float: left;margin-right: 0.25em;color: #696969;}#sk-container-id-2 label.sk-toggleable__label-arrow:hover:before {color: black;}#sk-container-id-2 div.sk-estimator:hover label.sk-toggleable__label-arrow:before {color: black;}#sk-container-id-2 div.sk-toggleable__content {max-height: 0;max-width: 0;overflow: hidden;text-align: left;background-color: #f0f8ff;}#sk-container-id-2 div.sk-toggleable__content pre {margin: 0.2em;color: black;border-radius: 0.25em;background-color: #f0f8ff;}#sk-container-id-2 input.sk-toggleable__control:checked~div.sk-toggleable__content {max-height: 200px;max-width: 100%;overflow: auto;}#sk-container-id-2 input.sk-toggleable__control:checked~label.sk-toggleable__label-arrow:before {content: \"▾\";}#sk-container-id-2 div.sk-estimator input.sk-toggleable__control:checked~label.sk-toggleable__label {background-color: #d4ebff;}#sk-container-id-2 div.sk-label input.sk-toggleable__control:checked~label.sk-toggleable__label {background-color: #d4ebff;}#sk-container-id-2 input.sk-hidden--visually {border: 0;clip: rect(1px 1px 1px 1px);clip: rect(1px, 1px, 1px, 1px);height: 1px;margin: -1px;overflow: hidden;padding: 0;position: absolute;width: 1px;}#sk-container-id-2 div.sk-estimator {font-family: monospace;background-color: #f0f8ff;border: 1px dotted black;border-radius: 0.25em;box-sizing: border-box;margin-bottom: 0.5em;}#sk-container-id-2 div.sk-estimator:hover {background-color: #d4ebff;}#sk-container-id-2 div.sk-parallel-item::after {content: \"\";width: 100%;border-bottom: 1px solid gray;flex-grow: 1;}#sk-container-id-2 div.sk-label:hover label.sk-toggleable__label {background-color: #d4ebff;}#sk-container-id-2 div.sk-serial::before {content: \"\";position: absolute;border-left: 1px solid gray;box-sizing: border-box;top: 0;bottom: 0;left: 50%;z-index: 0;}#sk-container-id-2 div.sk-serial {display: flex;flex-direction: column;align-items: center;background-color: white;padding-right: 0.2em;padding-left: 0.2em;position: relative;}#sk-container-id-2 div.sk-item {position: relative;z-index: 1;}#sk-container-id-2 div.sk-parallel {display: flex;align-items: stretch;justify-content: center;background-color: white;position: relative;}#sk-container-id-2 div.sk-item::before, #sk-container-id-2 div.sk-parallel-item::before {content: \"\";position: absolute;border-left: 1px solid gray;box-sizing: border-box;top: 0;bottom: 0;left: 50%;z-index: -1;}#sk-container-id-2 div.sk-parallel-item {display: flex;flex-direction: column;z-index: 1;position: relative;background-color: white;}#sk-container-id-2 div.sk-parallel-item:first-child::after {align-self: flex-end;width: 50%;}#sk-container-id-2 div.sk-parallel-item:last-child::after {align-self: flex-start;width: 50%;}#sk-container-id-2 div.sk-parallel-item:only-child::after {width: 0;}#sk-container-id-2 div.sk-dashed-wrapped {border: 1px dashed gray;margin: 0 0.4em 0.5em 0.4em;box-sizing: border-box;padding-bottom: 0.4em;background-color: white;}#sk-container-id-2 div.sk-label label {font-family: monospace;font-weight: bold;display: inline-block;line-height: 1.2em;}#sk-container-id-2 div.sk-label-container {text-align: center;}#sk-container-id-2 div.sk-container {/* jupyter's `normalize.less` sets `[hidden] { display: none; }` but bootstrap.min.css set `[hidden] { display: none !important; }` so we also need the `!important` here to be able to override the default hidden behavior on the sphinx rendered scikit-learn.org. See: https://github.com/scikit-learn/scikit-learn/issues/21755 */display: inline-block !important;position: relative;}#sk-container-id-2 div.sk-text-repr-fallback {display: none;}</style><div id=\"sk-container-id-2\" class=\"sk-top-container\"><div class=\"sk-text-repr-fallback\"><pre>LinearRegression()</pre><b>In a Jupyter environment, please rerun this cell to show the HTML representation or trust the notebook. <br />On GitHub, the HTML representation is unable to render, please try loading this page with nbviewer.org.</b></div><div class=\"sk-container\" hidden><div class=\"sk-item\"><div class=\"sk-estimator sk-toggleable\"><input class=\"sk-toggleable__control sk-hidden--visually\" id=\"sk-estimator-id-2\" type=\"checkbox\" checked><label for=\"sk-estimator-id-2\" class=\"sk-toggleable__label sk-toggleable__label-arrow\">LinearRegression</label><div class=\"sk-toggleable__content\"><pre>LinearRegression()</pre></div></div></div></div></div>"
            ],
            "text/plain": [
              "LinearRegression()"
            ]
          },
          "execution_count": 193,
          "metadata": {},
          "output_type": "execute_result"
        }
      ],
      "source": [
        "from sklearn.linear_model import LinearRegression\n",
        "\n",
        "lin_reg = LinearRegression()\n",
        "lin_reg.fit(housing_prepared, housing_labels)"
      ]
    },
    {
      "cell_type": "markdown",
      "metadata": {
        "id": "e9d2f2bd"
      },
      "source": [
        "## Pandas"
      ]
    },
    {
      "cell_type": "markdown",
      "metadata": {
        "id": "433615a7"
      },
      "source": [
        "### Series"
      ]
    },
    {
      "cell_type": "code",
      "execution_count": null,
      "metadata": {
        "id": "a73cc98c",
        "outputId": "3af68911-6667-402b-ae2d-9b559b49c7bf"
      },
      "outputs": [
        {
          "data": {
            "text/plain": [
              "Series([], dtype: object)"
            ]
          },
          "execution_count": 197,
          "metadata": {},
          "output_type": "execute_result"
        }
      ],
      "source": [
        "pd.Series()"
      ]
    },
    {
      "cell_type": "code",
      "execution_count": null,
      "metadata": {
        "id": "20e2bcf2",
        "outputId": "c1e14f70-901e-4cbf-85d9-d3745ebd9185"
      },
      "outputs": [
        {
          "data": {
            "text/plain": [
              "0    100\n",
              "1    200\n",
              "2    300\n",
              "dtype: int64"
            ]
          },
          "execution_count": 198,
          "metadata": {},
          "output_type": "execute_result"
        }
      ],
      "source": [
        "pd.Series([100, 200, 300])"
      ]
    },
    {
      "cell_type": "code",
      "execution_count": null,
      "metadata": {
        "id": "e34d32e7",
        "outputId": "d9e791a6-bec0-419e-8ca6-8f41a4878f86"
      },
      "outputs": [
        {
          "data": {
            "text/plain": [
              "0    100\n",
              "1    200\n",
              "2    300\n",
              "dtype: int32"
            ]
          },
          "execution_count": 199,
          "metadata": {},
          "output_type": "execute_result"
        }
      ],
      "source": [
        "pd.Series(np.array([100, 200, 300]))"
      ]
    },
    {
      "cell_type": "code",
      "execution_count": null,
      "metadata": {
        "id": "0927b8f8",
        "outputId": "cc46274e-0813-4dab-a490-df0503b8ab39"
      },
      "outputs": [
        {
          "data": {
            "text/plain": [
              "A    100\n",
              "B    200\n",
              "C    300\n",
              "dtype: int64"
            ]
          },
          "execution_count": 200,
          "metadata": {},
          "output_type": "execute_result"
        }
      ],
      "source": [
        "pd.Series(\n",
        "    [100, 200, 300],\n",
        "    index = [\"A\", \"B\", \"C\"]\n",
        ")"
      ]
    },
    {
      "cell_type": "code",
      "execution_count": null,
      "metadata": {
        "id": "4eec13c7",
        "outputId": "6bdb5d80-36fd-4346-81f8-8d0a3ebe14d7"
      },
      "outputs": [
        {
          "data": {
            "text/plain": [
              "A    100\n",
              "B    200\n",
              "C    300\n",
              "dtype: int64"
            ]
          },
          "execution_count": 201,
          "metadata": {},
          "output_type": "execute_result"
        }
      ],
      "source": [
        "pd.Series({\"A\": 100, \"B\": 200, \"C\": 300})"
      ]
    },
    {
      "cell_type": "code",
      "execution_count": null,
      "metadata": {
        "id": "7bff902f",
        "outputId": "94b4c5ba-1ae2-40b3-8b62-056fb7c912a8"
      },
      "outputs": [
        {
          "data": {
            "text/plain": [
              "1968    10\n",
              "1969     7\n",
              "1970     1\n",
              "1971    22\n",
              "Name: George Songs, dtype: int64"
            ]
          },
          "execution_count": 202,
          "metadata": {},
          "output_type": "execute_result"
        }
      ],
      "source": [
        "george_dupe = pd.Series([10, 7, 1, 22],index=['1968', '1969', '1970', '1971'],name='George Songs')\n",
        "george_dupe"
      ]
    },
    {
      "cell_type": "code",
      "execution_count": null,
      "metadata": {
        "id": "66ee49d5",
        "outputId": "a0347822-5751-4858-a70f-a1d09e111f71"
      },
      "outputs": [
        {
          "data": {
            "text/plain": [
              "Index(['1968', '1969', '1970', '1971'], dtype='object')"
            ]
          },
          "execution_count": 203,
          "metadata": {},
          "output_type": "execute_result"
        }
      ],
      "source": [
        "george_dupe.index"
      ]
    },
    {
      "cell_type": "code",
      "execution_count": null,
      "metadata": {
        "id": "c7e90b90",
        "outputId": "e852560d-959f-4edc-aa7c-bda5d2afa7fd"
      },
      "outputs": [
        {
          "data": {
            "text/plain": [
              "array([10,  7,  1, 22], dtype=int64)"
            ]
          },
          "execution_count": 204,
          "metadata": {},
          "output_type": "execute_result"
        }
      ],
      "source": [
        "george_dupe.values"
      ]
    },
    {
      "cell_type": "code",
      "execution_count": null,
      "metadata": {
        "id": "965a29c7",
        "outputId": "4ce1ccbc-5433-499e-d837-27b3c792ddf9"
      },
      "outputs": [
        {
          "data": {
            "text/plain": [
              "<bound method IndexOpsMixin.value_counts of 1968    10\n",
              "1969     7\n",
              "1970     1\n",
              "1971    22\n",
              "Name: George Songs, dtype: int64>"
            ]
          },
          "execution_count": 205,
          "metadata": {},
          "output_type": "execute_result"
        }
      ],
      "source": [
        "george_dupe.value_counts"
      ]
    },
    {
      "cell_type": "code",
      "execution_count": null,
      "metadata": {
        "id": "78aa6c9f",
        "outputId": "e9b361ca-8127-43e4-a1ca-41823de2216f"
      },
      "outputs": [
        {
          "data": {
            "text/plain": [
              "10"
            ]
          },
          "execution_count": 206,
          "metadata": {},
          "output_type": "execute_result"
        }
      ],
      "source": [
        "george_dupe['1968']"
      ]
    },
    {
      "cell_type": "code",
      "execution_count": null,
      "metadata": {
        "id": "21da1d65",
        "outputId": "1894d195-5699-434c-c201-6b6c2b16ada2"
      },
      "outputs": [
        {
          "data": {
            "text/plain": [
              "1968     True\n",
              "1969     True\n",
              "1970    False\n",
              "1971     True\n",
              "Name: George Songs, dtype: bool"
            ]
          },
          "execution_count": 207,
          "metadata": {},
          "output_type": "execute_result"
        }
      ],
      "source": [
        "george_dupe != 1"
      ]
    },
    {
      "cell_type": "code",
      "execution_count": null,
      "metadata": {
        "id": "db07d2e8",
        "outputId": "650c3a2a-2dac-4a5d-989a-38db5b314555"
      },
      "outputs": [
        {
          "data": {
            "text/plain": [
              "1968    10\n",
              "1969     7\n",
              "1971    22\n",
              "Name: George Songs, dtype: int64"
            ]
          },
          "execution_count": 208,
          "metadata": {},
          "output_type": "execute_result"
        }
      ],
      "source": [
        "george_dupe.loc[george_dupe != 1]"
      ]
    },
    {
      "cell_type": "code",
      "execution_count": null,
      "metadata": {
        "id": "ad78729f",
        "outputId": "213899ef-1788-4436-9638-a732898e6719"
      },
      "outputs": [
        {
          "data": {
            "text/plain": [
              "6"
            ]
          },
          "execution_count": 209,
          "metadata": {},
          "output_type": "execute_result"
        }
      ],
      "source": [
        "george_dupe['1969'] = 6\n",
        "george_dupe['1969']"
      ]
    },
    {
      "cell_type": "code",
      "execution_count": null,
      "metadata": {
        "id": "e131d2ce",
        "outputId": "9483d98a-5e25-4a48-82a9-97d3f15658e0"
      },
      "outputs": [
        {
          "data": {
            "text/plain": [
              "1968    10\n",
              "1969     6\n",
              "1970     1\n",
              "Name: George Songs, dtype: int64"
            ]
          },
          "execution_count": 210,
          "metadata": {},
          "output_type": "execute_result"
        }
      ],
      "source": [
        "del george_dupe['1971']\n",
        "george_dupe"
      ]
    },
    {
      "cell_type": "code",
      "execution_count": null,
      "metadata": {
        "id": "d3d019fc",
        "outputId": "aafb1611-a16d-4cd9-fa46-1703ca5e1a5f"
      },
      "outputs": [
        {
          "data": {
            "text/html": [
              "<div>\n",
              "<style scoped>\n",
              "    .dataframe tbody tr th:only-of-type {\n",
              "        vertical-align: middle;\n",
              "    }\n",
              "\n",
              "    .dataframe tbody tr th {\n",
              "        vertical-align: top;\n",
              "    }\n",
              "\n",
              "    .dataframe thead th {\n",
              "        text-align: right;\n",
              "    }\n",
              "</style>\n",
              "<table border=\"1\" class=\"dataframe\">\n",
              "  <thead>\n",
              "    <tr style=\"text-align: right;\">\n",
              "      <th></th>\n",
              "      <th>math</th>\n",
              "      <th>english</th>\n",
              "      <th>history</th>\n",
              "    </tr>\n",
              "  </thead>\n",
              "  <tbody>\n",
              "    <tr>\n",
              "      <th>A</th>\n",
              "      <td>95</td>\n",
              "      <td>92</td>\n",
              "      <td>88</td>\n",
              "    </tr>\n",
              "    <tr>\n",
              "      <th>B</th>\n",
              "      <td>84</td>\n",
              "      <td>67</td>\n",
              "      <td>88</td>\n",
              "    </tr>\n",
              "    <tr>\n",
              "      <th>C</th>\n",
              "      <td>91</td>\n",
              "      <td>99</td>\n",
              "      <td>68</td>\n",
              "    </tr>\n",
              "    <tr>\n",
              "      <th>D</th>\n",
              "      <td>87</td>\n",
              "      <td>79</td>\n",
              "      <td>81</td>\n",
              "    </tr>\n",
              "    <tr>\n",
              "      <th>E</th>\n",
              "      <td>77</td>\n",
              "      <td>92</td>\n",
              "      <td>85</td>\n",
              "    </tr>\n",
              "  </tbody>\n",
              "</table>\n",
              "</div>"
            ],
            "text/plain": [
              "   math  english  history\n",
              "A    95       92       88\n",
              "B    84       67       88\n",
              "C    91       99       68\n",
              "D    87       79       81\n",
              "E    77       92       85"
            ]
          },
          "execution_count": 211,
          "metadata": {},
          "output_type": "execute_result"
        }
      ],
      "source": [
        "import pandas as pd\n",
        "\n",
        "df = pd.DataFrame([[95, 92, 88], [84, 67, 88], [91, 99, 68], [87, 79, 81], [77, 92, 85]],\n",
        "     index=['A', 'B', 'C', 'D', 'E'],\n",
        "     columns=['math', 'english', 'history'],\n",
        "   )\n",
        "df"
      ]
    },
    {
      "cell_type": "code",
      "execution_count": null,
      "metadata": {
        "id": "36fec7f4",
        "outputId": "1ea599ab-4444-486d-f06a-69cf21bdcd51"
      },
      "outputs": [
        {
          "name": "stdout",
          "output_type": "stream",
          "text": [
            "A    92\n",
            "B    67\n",
            "C    99\n",
            "Name: english, dtype: int64\n",
            "   english  history\n",
            "A       92       88\n",
            "B       67       88\n",
            "C       99       68\n",
            "99\n",
            "   math  english\n",
            "B    84       67\n",
            "C    91       99\n",
            "77\n"
          ]
        }
      ],
      "source": [
        "print(df.loc[['A', 'B', 'C'], 'english'])\n",
        "\n",
        "print(df.loc[['A', 'B', 'C'], ['english', 'history']])\n",
        "\n",
        "print(df.at['C', 'english'])\n",
        "\n",
        "print(df.iloc[1:3, 0:2])\n",
        "\n",
        "print(df.iat[4, 0])"
      ]
    },
    {
      "cell_type": "code",
      "execution_count": null,
      "metadata": {
        "id": "f97fc918",
        "outputId": "ed6ad197-6838-4b2f-b2e1-809b8236d385"
      },
      "outputs": [
        {
          "data": {
            "text/plain": [
              "1968    10\n",
              "1969     7\n",
              "1970     1\n",
              "1971    22\n",
              "Name: George Songs, dtype: int64"
            ]
          },
          "execution_count": 213,
          "metadata": {},
          "output_type": "execute_result"
        }
      ],
      "source": [
        "george_dupe = pd.Series([10, 7, 1, 22],index=['1968', '1969', '1970', '1971'],name='George Songs')\n",
        "george_dupe"
      ]
    },
    {
      "cell_type": "code",
      "execution_count": null,
      "metadata": {
        "id": "5972cde7",
        "outputId": "bf038fef-78bf-4074-d991-2882a3593b87"
      },
      "outputs": [
        {
          "name": "stdout",
          "output_type": "stream",
          "text": [
            "10\n",
            "10\n",
            "1968    10\n",
            "1969     7\n",
            "1970     1\n",
            "Name: George Songs, dtype: int64\n",
            "1968    10\n",
            "1969     7\n",
            "1970     1\n",
            "Name: George Songs, dtype: int64\n"
          ]
        }
      ],
      "source": [
        "print(george_dupe.iloc[0])\n",
        "\n",
        "print(george_dupe.loc[\"1968\"])\n",
        "\n",
        "print(george_dupe.iloc[0:3])\n",
        "\n",
        "print(george_dupe.loc[\"1968\":\"1970\"])"
      ]
    },
    {
      "cell_type": "code",
      "execution_count": null,
      "metadata": {
        "id": "8ad06f48",
        "outputId": "08e449d1-3e3c-45f1-d6dd-61058a4c5247"
      },
      "outputs": [
        {
          "data": {
            "text/plain": [
              "1"
            ]
          },
          "execution_count": 215,
          "metadata": {},
          "output_type": "execute_result"
        }
      ],
      "source": [
        "george_dupe.at['1970']"
      ]
    },
    {
      "cell_type": "code",
      "execution_count": null,
      "metadata": {
        "id": "cc42c003",
        "outputId": "69988d43-5ab9-4fdf-8736-038ab5bbe643"
      },
      "outputs": [
        {
          "data": {
            "text/plain": [
              "1"
            ]
          },
          "execution_count": 216,
          "metadata": {},
          "output_type": "execute_result"
        }
      ],
      "source": [
        "george_dupe.loc['1970']"
      ]
    },
    {
      "cell_type": "code",
      "execution_count": null,
      "metadata": {
        "id": "0c2b734e",
        "outputId": "ce0045cc-1cd3-4a40-dd73-ba2c88d6ec84"
      },
      "outputs": [
        {
          "data": {
            "text/plain": [
              "1968    10\n",
              "1969     7\n",
              "Name: George Songs, dtype: int64"
            ]
          },
          "execution_count": 217,
          "metadata": {},
          "output_type": "execute_result"
        }
      ],
      "source": [
        "george_dupe.iloc[0:2]"
      ]
    },
    {
      "cell_type": "code",
      "execution_count": null,
      "metadata": {
        "id": "26732ac0",
        "outputId": "3e021711-b44e-4561-82b0-20d100aea4af"
      },
      "outputs": [
        {
          "name": "stdout",
          "output_type": "stream",
          "text": [
            "['민서' '동현' '수빈']\n",
            "3    민서\n",
            "4    동현\n",
            "5    수빈\n",
            "dtype: object\n"
          ]
        }
      ],
      "source": [
        "names = ['민준', '서연', '현우', '민서', '동현', '수빈']\n",
        "sdata = pd.Series(names)\n",
        "S1 = sdata[3:6]\n",
        "print(S1.values)\n",
        "print(S1)"
      ]
    },
    {
      "cell_type": "code",
      "execution_count": null,
      "metadata": {
        "id": "7f8d54f4",
        "outputId": "6ed5791c-c88e-4b95-843b-32ce6d7be406"
      },
      "outputs": [
        {
          "ename": "KeyError",
          "evalue": "1",
          "output_type": "error",
          "traceback": [
            "\u001b[1;31m---------------------------------------------------------------------------\u001b[0m",
            "\u001b[1;31mValueError\u001b[0m                                Traceback (most recent call last)",
            "File \u001b[1;32m~\\AppData\\Roaming\\Python\\Python38\\site-packages\\pandas\\core\\indexes\\range.py:345\u001b[0m, in \u001b[0;36mRangeIndex.get_loc\u001b[1;34m(self, key)\u001b[0m\n\u001b[0;32m    344\u001b[0m \u001b[38;5;28;01mtry\u001b[39;00m:\n\u001b[1;32m--> 345\u001b[0m     \u001b[38;5;28;01mreturn\u001b[39;00m \u001b[38;5;28;43mself\u001b[39;49m\u001b[38;5;241;43m.\u001b[39;49m\u001b[43m_range\u001b[49m\u001b[38;5;241;43m.\u001b[39;49m\u001b[43mindex\u001b[49m\u001b[43m(\u001b[49m\u001b[43mnew_key\u001b[49m\u001b[43m)\u001b[49m\n\u001b[0;32m    346\u001b[0m \u001b[38;5;28;01mexcept\u001b[39;00m \u001b[38;5;167;01mValueError\u001b[39;00m \u001b[38;5;28;01mas\u001b[39;00m err:\n",
            "\u001b[1;31mValueError\u001b[0m: 1 is not in range",
            "\nThe above exception was the direct cause of the following exception:\n",
            "\u001b[1;31mKeyError\u001b[0m                                  Traceback (most recent call last)",
            "Cell \u001b[1;32mIn[219], line 2\u001b[0m\n\u001b[0;32m      1\u001b[0m \u001b[38;5;66;03m# 오답\u001b[39;00m\n\u001b[1;32m----> 2\u001b[0m \u001b[38;5;28mprint\u001b[39m(\u001b[43mS1\u001b[49m\u001b[43m[\u001b[49m\u001b[38;5;241;43m1\u001b[39;49m\u001b[43m]\u001b[49m)\n",
            "File \u001b[1;32m~\\AppData\\Roaming\\Python\\Python38\\site-packages\\pandas\\core\\series.py:1007\u001b[0m, in \u001b[0;36mSeries.__getitem__\u001b[1;34m(self, key)\u001b[0m\n\u001b[0;32m   1004\u001b[0m     \u001b[38;5;28;01mreturn\u001b[39;00m \u001b[38;5;28mself\u001b[39m\u001b[38;5;241m.\u001b[39m_values[key]\n\u001b[0;32m   1006\u001b[0m \u001b[38;5;28;01melif\u001b[39;00m key_is_scalar:\n\u001b[1;32m-> 1007\u001b[0m     \u001b[38;5;28;01mreturn\u001b[39;00m \u001b[38;5;28;43mself\u001b[39;49m\u001b[38;5;241;43m.\u001b[39;49m\u001b[43m_get_value\u001b[49m\u001b[43m(\u001b[49m\u001b[43mkey\u001b[49m\u001b[43m)\u001b[49m\n\u001b[0;32m   1009\u001b[0m \u001b[38;5;28;01mif\u001b[39;00m is_hashable(key):\n\u001b[0;32m   1010\u001b[0m     \u001b[38;5;66;03m# Otherwise index.get_value will raise InvalidIndexError\u001b[39;00m\n\u001b[0;32m   1011\u001b[0m     \u001b[38;5;28;01mtry\u001b[39;00m:\n\u001b[0;32m   1012\u001b[0m         \u001b[38;5;66;03m# For labels that don't resolve as scalars like tuples and frozensets\u001b[39;00m\n",
            "File \u001b[1;32m~\\AppData\\Roaming\\Python\\Python38\\site-packages\\pandas\\core\\series.py:1116\u001b[0m, in \u001b[0;36mSeries._get_value\u001b[1;34m(self, label, takeable)\u001b[0m\n\u001b[0;32m   1113\u001b[0m     \u001b[38;5;28;01mreturn\u001b[39;00m \u001b[38;5;28mself\u001b[39m\u001b[38;5;241m.\u001b[39m_values[label]\n\u001b[0;32m   1115\u001b[0m \u001b[38;5;66;03m# Similar to Index.get_value, but we do not fall back to positional\u001b[39;00m\n\u001b[1;32m-> 1116\u001b[0m loc \u001b[38;5;241m=\u001b[39m \u001b[38;5;28;43mself\u001b[39;49m\u001b[38;5;241;43m.\u001b[39;49m\u001b[43mindex\u001b[49m\u001b[38;5;241;43m.\u001b[39;49m\u001b[43mget_loc\u001b[49m\u001b[43m(\u001b[49m\u001b[43mlabel\u001b[49m\u001b[43m)\u001b[49m\n\u001b[0;32m   1118\u001b[0m \u001b[38;5;28;01mif\u001b[39;00m is_integer(loc):\n\u001b[0;32m   1119\u001b[0m     \u001b[38;5;28;01mreturn\u001b[39;00m \u001b[38;5;28mself\u001b[39m\u001b[38;5;241m.\u001b[39m_values[loc]\n",
            "File \u001b[1;32m~\\AppData\\Roaming\\Python\\Python38\\site-packages\\pandas\\core\\indexes\\range.py:347\u001b[0m, in \u001b[0;36mRangeIndex.get_loc\u001b[1;34m(self, key)\u001b[0m\n\u001b[0;32m    345\u001b[0m         \u001b[38;5;28;01mreturn\u001b[39;00m \u001b[38;5;28mself\u001b[39m\u001b[38;5;241m.\u001b[39m_range\u001b[38;5;241m.\u001b[39mindex(new_key)\n\u001b[0;32m    346\u001b[0m     \u001b[38;5;28;01mexcept\u001b[39;00m \u001b[38;5;167;01mValueError\u001b[39;00m \u001b[38;5;28;01mas\u001b[39;00m err:\n\u001b[1;32m--> 347\u001b[0m         \u001b[38;5;28;01mraise\u001b[39;00m \u001b[38;5;167;01mKeyError\u001b[39;00m(key) \u001b[38;5;28;01mfrom\u001b[39;00m \u001b[38;5;21;01merr\u001b[39;00m\n\u001b[0;32m    348\u001b[0m \u001b[38;5;28;01mif\u001b[39;00m \u001b[38;5;28misinstance\u001b[39m(key, Hashable):\n\u001b[0;32m    349\u001b[0m     \u001b[38;5;28;01mraise\u001b[39;00m \u001b[38;5;167;01mKeyError\u001b[39;00m(key)\n",
            "\u001b[1;31mKeyError\u001b[0m: 1"
          ]
        }
      ],
      "source": [
        "# 오답\n",
        "print(S1[1])"
      ]
    },
    {
      "cell_type": "code",
      "execution_count": null,
      "metadata": {
        "id": "d70c830f",
        "outputId": "eee84381-1728-4fb7-ebaf-925087279bde"
      },
      "outputs": [
        {
          "name": "stdout",
          "output_type": "stream",
          "text": [
            "동현\n"
          ]
        }
      ],
      "source": [
        "# 정답\n",
        "print(S1[4])"
      ]
    },
    {
      "cell_type": "code",
      "execution_count": null,
      "metadata": {
        "id": "0dc7cfc1",
        "outputId": "89d3bba5-ad77-4faa-ea98-4814f64ff7ff"
      },
      "outputs": [
        {
          "name": "stdout",
          "output_type": "stream",
          "text": [
            "4    동현\n",
            "dtype: object\n"
          ]
        }
      ],
      "source": [
        "#일반적인 인덱스 사용 시\n",
        "b = S1[1:2]\n",
        "print(b)"
      ]
    },
    {
      "cell_type": "code",
      "execution_count": null,
      "metadata": {
        "id": "c6b7139c",
        "outputId": "c839a079-1253-47a5-e0e3-30872df5b3d4"
      },
      "outputs": [
        {
          "data": {
            "text/plain": [
              "1968     True\n",
              "1969    False\n",
              "1970    False\n",
              "1971     True\n",
              "Name: George Songs, dtype: bool"
            ]
          },
          "execution_count": 222,
          "metadata": {},
          "output_type": "execute_result"
        }
      ],
      "source": [
        "mask = george_dupe > 7\n",
        "mask"
      ]
    },
    {
      "cell_type": "code",
      "execution_count": null,
      "metadata": {
        "id": "dfd04d75",
        "outputId": "6fc58aa5-17df-4b0a-a038-b464a4155b9b"
      },
      "outputs": [
        {
          "name": "stdout",
          "output_type": "stream",
          "text": [
            "3.0\n",
            "nan\n",
            "11.0\n",
            "9.0\n"
          ]
        }
      ],
      "source": [
        "songs_66 = pd.Series([3, None , 11, 9], index=['George', 'Ringo', 'John', 'Paul'], name='Counts')\n",
        "\n",
        "for value in songs_66:\n",
        "    print(value)"
      ]
    },
    {
      "cell_type": "code",
      "execution_count": null,
      "metadata": {
        "id": "27d16582",
        "outputId": "6d89aeca-4105-436c-9174-3970e4418298"
      },
      "outputs": [
        {
          "name": "stdout",
          "output_type": "stream",
          "text": [
            "3.0\n",
            "nan\n",
            "11.0\n",
            "9.0\n"
          ]
        }
      ],
      "source": [
        "import pandas as pd\n",
        "import numpy as np\n",
        "\n",
        "# 두 개의 Series 생성\n",
        "songs_66 = pd.Series([3, None, 11, 9], index=['George', 'Ringo', 'John', 'Paul'], name='Counts')\n",
        "songs_66 = songs_66.replace({None: np.nan})  # None 값을 NaN으로 변경\n",
        "\n",
        "# 반복문을 통해 songs_66의 각 값을 출력\n",
        "for value in songs_66:\n",
        "    print(value)"
      ]
    },
    {
      "cell_type": "code",
      "execution_count": null,
      "metadata": {
        "id": "74b77660",
        "outputId": "dbb1d472-d018-484d-a970-6dbddf09e778"
      },
      "outputs": [
        {
          "name": "stdout",
          "output_type": "stream",
          "text": [
            "3.0\n",
            "11.0\n",
            "9.0\n"
          ]
        }
      ],
      "source": [
        "import pandas as pd\n",
        "\n",
        "# 두 개의 Series 생성\n",
        "songs_66 = pd.Series([3, None, 11, 9], index=['George', 'Ringo', 'John', 'Paul'], name='Counts')\n",
        "\n",
        "# 반복문을 통해 songs_66의 각 값을 출력\n",
        "for value in songs_66.dropna():\n",
        "    print(value)"
      ]
    },
    {
      "cell_type": "code",
      "execution_count": null,
      "metadata": {
        "id": "b2216864",
        "outputId": "f507627c-c053-401b-881f-1a5e1c80f3d7"
      },
      "outputs": [
        {
          "name": "stdout",
          "output_type": "stream",
          "text": [
            "George    10.0\n",
            "John      29.0\n",
            "Paul      31.0\n",
            "Ringo      NaN\n",
            "Name: Counts, dtype: float64\n"
          ]
        }
      ],
      "source": [
        "import pandas as pd\n",
        "\n",
        "# 두 개의 Series 생성\n",
        "songs_66 = pd.Series([3, None, 11, 9], index=['George', 'Ringo', 'John', 'Paul'], name='Counts')\n",
        "songs_69 = pd.Series([18, 22, 7, 5], index=['John', 'Paul', 'George', 'Ringo'], name='Counts')\n",
        "\n",
        "# 두 Series를 더한 결과\n",
        "result = songs_66 + songs_69\n",
        "print(result)"
      ]
    },
    {
      "cell_type": "code",
      "execution_count": null,
      "metadata": {
        "id": "4373ee9c",
        "outputId": "e5e25681-672b-4cfb-fd28-3c113ca6d5be"
      },
      "outputs": [
        {
          "data": {
            "text/plain": [
              "George     3.0\n",
              "Ringo      NaN\n",
              "John      11.0\n",
              "Paul       9.0\n",
              "Name: Counts, dtype: float64"
            ]
          },
          "execution_count": 227,
          "metadata": {},
          "output_type": "execute_result"
        }
      ],
      "source": [
        "songs_66 = pd.Series([3, None, 11, 9], index=['George', 'Ringo', 'John', 'Paul'], name='Counts')\n",
        "\n",
        "songs_66"
      ]
    },
    {
      "cell_type": "code",
      "execution_count": null,
      "metadata": {
        "id": "c0372e03",
        "outputId": "d12635f6-e32a-4d9c-ee8b-b985059e5479"
      },
      "outputs": [
        {
          "data": {
            "text/plain": [
              "Index(['George', 'Ringo', 'John', 'Paul'], dtype='object')"
            ]
          },
          "execution_count": 228,
          "metadata": {},
          "output_type": "execute_result"
        }
      ],
      "source": [
        "songs_66.index"
      ]
    },
    {
      "cell_type": "code",
      "execution_count": null,
      "metadata": {
        "id": "26628f36",
        "outputId": "1b7f1747-f5c1-40ca-f07e-fb70c33fd831"
      },
      "outputs": [
        {
          "data": {
            "text/html": [
              "<div>\n",
              "<style scoped>\n",
              "    .dataframe tbody tr th:only-of-type {\n",
              "        vertical-align: middle;\n",
              "    }\n",
              "\n",
              "    .dataframe tbody tr th {\n",
              "        vertical-align: top;\n",
              "    }\n",
              "\n",
              "    .dataframe thead th {\n",
              "        text-align: right;\n",
              "    }\n",
              "</style>\n",
              "<table border=\"1\" class=\"dataframe\">\n",
              "  <thead>\n",
              "    <tr style=\"text-align: right;\">\n",
              "      <th></th>\n",
              "      <th>index</th>\n",
              "      <th>Counts</th>\n",
              "    </tr>\n",
              "  </thead>\n",
              "  <tbody>\n",
              "    <tr>\n",
              "      <th>0</th>\n",
              "      <td>George</td>\n",
              "      <td>3.0</td>\n",
              "    </tr>\n",
              "    <tr>\n",
              "      <th>1</th>\n",
              "      <td>Ringo</td>\n",
              "      <td>NaN</td>\n",
              "    </tr>\n",
              "    <tr>\n",
              "      <th>2</th>\n",
              "      <td>John</td>\n",
              "      <td>11.0</td>\n",
              "    </tr>\n",
              "    <tr>\n",
              "      <th>3</th>\n",
              "      <td>Paul</td>\n",
              "      <td>9.0</td>\n",
              "    </tr>\n",
              "  </tbody>\n",
              "</table>\n",
              "</div>"
            ],
            "text/plain": [
              "    index  Counts\n",
              "0  George     3.0\n",
              "1   Ringo     NaN\n",
              "2    John    11.0\n",
              "3    Paul     9.0"
            ]
          },
          "execution_count": 229,
          "metadata": {},
          "output_type": "execute_result"
        }
      ],
      "source": [
        "songs_66.reset_index()"
      ]
    },
    {
      "cell_type": "code",
      "execution_count": null,
      "metadata": {
        "id": "8639a235",
        "outputId": "584b1216-4f50-4c1b-a618-7ead3943f91b"
      },
      "outputs": [
        {
          "name": "stdout",
          "output_type": "stream",
          "text": [
            "    index  Counts\n",
            "0  George     3.0\n",
            "1   Ringo     NaN\n",
            "2    John    11.0\n",
            "3    Paul     9.0\n"
          ]
        }
      ],
      "source": [
        "import pandas as pd\n",
        "\n",
        "songs_66 = pd.Series([3, None, 11, 9], index=['George', 'Ringo', 'John', 'Paul'], name='Counts')\n",
        "reset_songs_66 = songs_66.reset_index()\n",
        "\n",
        "print(reset_songs_66)"
      ]
    },
    {
      "cell_type": "code",
      "execution_count": null,
      "metadata": {
        "id": "e70530bf",
        "outputId": "dbe3b0a3-d887-4743-d89d-d853f323f9a2"
      },
      "outputs": [
        {
          "data": {
            "text/plain": [
              "George     3.0\n",
              "Ringo      NaN\n",
              "John      11.0\n",
              "Paul       9.0\n",
              "Name: Counts, dtype: float64"
            ]
          },
          "execution_count": 231,
          "metadata": {},
          "output_type": "execute_result"
        }
      ],
      "source": [
        "songs_66 = pd.Series([3, None , 11, 9], index=['George', 'Ringo', 'John', 'Paul'], name='Counts')\n",
        "\n",
        "songs_66"
      ]
    },
    {
      "cell_type": "code",
      "execution_count": null,
      "metadata": {
        "id": "c25558af",
        "outputId": "3b3d9819-78d4-406f-dd7b-409c1e68c07a"
      },
      "outputs": [
        {
          "data": {
            "text/plain": [
              "23.0"
            ]
          },
          "execution_count": 232,
          "metadata": {},
          "output_type": "execute_result"
        }
      ],
      "source": [
        "songs_66.sum(0)"
      ]
    },
    {
      "cell_type": "code",
      "execution_count": null,
      "metadata": {
        "id": "6cb00692",
        "outputId": "b163a867-45c8-456e-e790-5ff91e61b2b0"
      },
      "outputs": [
        {
          "data": {
            "text/plain": [
              "7.666666666666667"
            ]
          },
          "execution_count": 233,
          "metadata": {},
          "output_type": "execute_result"
        }
      ],
      "source": [
        "songs_66.mean()"
      ]
    },
    {
      "cell_type": "code",
      "execution_count": null,
      "metadata": {
        "id": "fecca306",
        "outputId": "5eeba620-94ca-4cac-80ed-98ac80bf10a8"
      },
      "outputs": [
        {
          "data": {
            "text/plain": [
              "9.0"
            ]
          },
          "execution_count": 234,
          "metadata": {},
          "output_type": "execute_result"
        }
      ],
      "source": [
        "songs_66.median()"
      ]
    },
    {
      "cell_type": "code",
      "execution_count": null,
      "metadata": {
        "id": "2dee32c1",
        "outputId": "c38e915d-1cb1-45f7-bebf-710bf9f78316"
      },
      "outputs": [
        {
          "data": {
            "text/plain": [
              "9.0"
            ]
          },
          "execution_count": 235,
          "metadata": {},
          "output_type": "execute_result"
        }
      ],
      "source": [
        "songs_66.quantile()"
      ]
    },
    {
      "cell_type": "code",
      "execution_count": null,
      "metadata": {
        "id": "23bbe380",
        "outputId": "12ef8172-c159-4e88-ad4f-817fbd1c6144"
      },
      "outputs": [
        {
          "data": {
            "text/plain": [
              "4.2"
            ]
          },
          "execution_count": 236,
          "metadata": {},
          "output_type": "execute_result"
        }
      ],
      "source": [
        "songs_66.quantile(.1)"
      ]
    },
    {
      "cell_type": "code",
      "execution_count": null,
      "metadata": {
        "id": "b2f5ee02",
        "outputId": "4bc18186-d5d3-42f5-9d69-654e9e40be7e"
      },
      "outputs": [
        {
          "data": {
            "text/plain": [
              "10.6"
            ]
          },
          "execution_count": 237,
          "metadata": {},
          "output_type": "execute_result"
        }
      ],
      "source": [
        "songs_66.quantile(.9)"
      ]
    },
    {
      "cell_type": "code",
      "execution_count": null,
      "metadata": {
        "id": "143cc22d",
        "outputId": "426d691b-64d5-4eb9-b865-a5f08b1f77e5"
      },
      "outputs": [
        {
          "data": {
            "text/plain": [
              "count     3.000000\n",
              "mean      7.666667\n",
              "std       4.163332\n",
              "min       3.000000\n",
              "25%       6.000000\n",
              "50%       9.000000\n",
              "75%      10.000000\n",
              "max      11.000000\n",
              "Name: Counts, dtype: float64"
            ]
          },
          "execution_count": 238,
          "metadata": {},
          "output_type": "execute_result"
        }
      ],
      "source": [
        "songs_66.describe()"
      ]
    },
    {
      "cell_type": "code",
      "execution_count": null,
      "metadata": {
        "id": "f4fce88e",
        "outputId": "80e927fd-7dd0-4555-96d8-90bf1cd1dfaa"
      },
      "outputs": [
        {
          "data": {
            "text/plain": [
              "3.0"
            ]
          },
          "execution_count": 239,
          "metadata": {},
          "output_type": "execute_result"
        }
      ],
      "source": [
        "songs_66.min()"
      ]
    },
    {
      "cell_type": "code",
      "execution_count": null,
      "metadata": {
        "id": "c3de2edb",
        "outputId": "719af1d1-dcee-4f14-c81f-ea6555fa85da"
      },
      "outputs": [
        {
          "data": {
            "text/plain": [
              "'George'"
            ]
          },
          "execution_count": 240,
          "metadata": {},
          "output_type": "execute_result"
        }
      ],
      "source": [
        "songs_66.idxmin()"
      ]
    },
    {
      "cell_type": "code",
      "execution_count": null,
      "metadata": {
        "id": "6e90f2c3",
        "outputId": "9b88f52b-46d2-4418-bcdb-4f33ed3a5b8b"
      },
      "outputs": [
        {
          "data": {
            "text/plain": [
              "11.0"
            ]
          },
          "execution_count": 241,
          "metadata": {},
          "output_type": "execute_result"
        }
      ],
      "source": [
        "songs_66.max()"
      ]
    },
    {
      "cell_type": "code",
      "execution_count": null,
      "metadata": {
        "id": "1ed2a75d",
        "outputId": "1afb85c0-9b9a-4319-fdeb-b0d51eabefc0"
      },
      "outputs": [
        {
          "data": {
            "text/plain": [
              "'John'"
            ]
          },
          "execution_count": 242,
          "metadata": {},
          "output_type": "execute_result"
        }
      ],
      "source": [
        "songs_66.idxmax()"
      ]
    },
    {
      "cell_type": "code",
      "execution_count": null,
      "metadata": {
        "id": "4a8a9560",
        "outputId": "b36f76c6-d937-499a-806d-9fcb0952d6a5"
      },
      "outputs": [
        {
          "data": {
            "text/plain": [
              "17.333333333333336"
            ]
          },
          "execution_count": 243,
          "metadata": {},
          "output_type": "execute_result"
        }
      ],
      "source": [
        "songs_66.var()"
      ]
    },
    {
      "cell_type": "code",
      "execution_count": null,
      "metadata": {
        "id": "a22383c7",
        "outputId": "b2f20978-5b46-4f80-88d8-4c4ea01d6980"
      },
      "outputs": [
        {
          "data": {
            "text/plain": [
              "4.163331998932266"
            ]
          },
          "execution_count": 244,
          "metadata": {},
          "output_type": "execute_result"
        }
      ],
      "source": [
        "songs_66.std()"
      ]
    },
    {
      "cell_type": "markdown",
      "metadata": {
        "id": "00299a1e"
      },
      "source": [
        "### DataFrame"
      ]
    },
    {
      "cell_type": "code",
      "execution_count": null,
      "metadata": {
        "id": "d58c16b5",
        "outputId": "7672939e-cda3-45e3-a792-737d3708ceac"
      },
      "outputs": [
        {
          "data": {
            "text/html": [
              "<div>\n",
              "<style scoped>\n",
              "    .dataframe tbody tr th:only-of-type {\n",
              "        vertical-align: middle;\n",
              "    }\n",
              "\n",
              "    .dataframe tbody tr th {\n",
              "        vertical-align: top;\n",
              "    }\n",
              "\n",
              "    .dataframe thead th {\n",
              "        text-align: right;\n",
              "    }\n",
              "</style>\n",
              "<table border=\"1\" class=\"dataframe\">\n",
              "  <thead>\n",
              "    <tr style=\"text-align: right;\">\n",
              "      <th></th>\n",
              "    </tr>\n",
              "  </thead>\n",
              "  <tbody>\n",
              "  </tbody>\n",
              "</table>\n",
              "</div>"
            ],
            "text/plain": [
              "Empty DataFrame\n",
              "Columns: []\n",
              "Index: []"
            ]
          },
          "execution_count": 245,
          "metadata": {},
          "output_type": "execute_result"
        }
      ],
      "source": [
        "import pandas as pd\n",
        "\n",
        "pd.DataFrame()"
      ]
    },
    {
      "cell_type": "code",
      "execution_count": null,
      "metadata": {
        "id": "80fc9d47",
        "outputId": "1cab0e1c-9b35-407b-a43e-cdf2673e5d90"
      },
      "outputs": [
        {
          "data": {
            "text/html": [
              "<div>\n",
              "<style scoped>\n",
              "    .dataframe tbody tr th:only-of-type {\n",
              "        vertical-align: middle;\n",
              "    }\n",
              "\n",
              "    .dataframe tbody tr th {\n",
              "        vertical-align: top;\n",
              "    }\n",
              "\n",
              "    .dataframe thead th {\n",
              "        text-align: right;\n",
              "    }\n",
              "</style>\n",
              "<table border=\"1\" class=\"dataframe\">\n",
              "  <thead>\n",
              "    <tr style=\"text-align: right;\">\n",
              "      <th></th>\n",
              "      <th>Name</th>\n",
              "      <th>Age</th>\n",
              "      <th>Driver</th>\n",
              "    </tr>\n",
              "  </thead>\n",
              "  <tbody>\n",
              "    <tr>\n",
              "      <th>0</th>\n",
              "      <td>Jacky Jackson</td>\n",
              "      <td>38</td>\n",
              "      <td>True</td>\n",
              "    </tr>\n",
              "    <tr>\n",
              "      <th>1</th>\n",
              "      <td>Steven Stevenson</td>\n",
              "      <td>25</td>\n",
              "      <td>False</td>\n",
              "    </tr>\n",
              "  </tbody>\n",
              "</table>\n",
              "</div>"
            ],
            "text/plain": [
              "               Name  Age  Driver\n",
              "0     Jacky Jackson   38    True\n",
              "1  Steven Stevenson   25   False"
            ]
          },
          "execution_count": 246,
          "metadata": {},
          "output_type": "execute_result"
        }
      ],
      "source": [
        "# 라이브러리를 임포트합니다.\n",
        "import pandas as pd\n",
        "\n",
        "# 데이터프레임을 만듭니다.\n",
        "dataframe = pd.DataFrame()\n",
        "\n",
        "# 열을 추가합니다.\n",
        "dataframe['Name'] = ['Jacky Jackson', 'Steven Stevenson']\n",
        "dataframe['Age'] = [38, 25]\n",
        "dataframe['Driver'] = [True, False]\n",
        "\n",
        "# 데이터프레임을 확인합니다.\n",
        "dataframe"
      ]
    },
    {
      "cell_type": "code",
      "execution_count": null,
      "metadata": {
        "id": "e457e961",
        "outputId": "0ecdfc14-d6c6-42a7-bb8b-be6fd53cf37b"
      },
      "outputs": [
        {
          "data": {
            "text/html": [
              "<div>\n",
              "<style scoped>\n",
              "    .dataframe tbody tr th:only-of-type {\n",
              "        vertical-align: middle;\n",
              "    }\n",
              "\n",
              "    .dataframe tbody tr th {\n",
              "        vertical-align: top;\n",
              "    }\n",
              "\n",
              "    .dataframe thead th {\n",
              "        text-align: right;\n",
              "    }\n",
              "</style>\n",
              "<table border=\"1\" class=\"dataframe\">\n",
              "  <thead>\n",
              "    <tr style=\"text-align: right;\">\n",
              "      <th></th>\n",
              "      <th>0</th>\n",
              "      <th>1</th>\n",
              "      <th>2</th>\n",
              "    </tr>\n",
              "  </thead>\n",
              "  <tbody>\n",
              "    <tr>\n",
              "      <th>0</th>\n",
              "      <td>1</td>\n",
              "      <td>2</td>\n",
              "      <td>3</td>\n",
              "    </tr>\n",
              "  </tbody>\n",
              "</table>\n",
              "</div>"
            ],
            "text/plain": [
              "   0  1  2\n",
              "0  1  2  3"
            ]
          },
          "execution_count": 247,
          "metadata": {},
          "output_type": "execute_result"
        }
      ],
      "source": [
        "pd.DataFrame([[1, 2, 3]])"
      ]
    },
    {
      "cell_type": "code",
      "execution_count": null,
      "metadata": {
        "id": "96b0f544",
        "outputId": "42dada24-5d90-40b9-cccd-d8052a8d1598"
      },
      "outputs": [
        {
          "data": {
            "text/html": [
              "<div>\n",
              "<style scoped>\n",
              "    .dataframe tbody tr th:only-of-type {\n",
              "        vertical-align: middle;\n",
              "    }\n",
              "\n",
              "    .dataframe tbody tr th {\n",
              "        vertical-align: top;\n",
              "    }\n",
              "\n",
              "    .dataframe thead th {\n",
              "        text-align: right;\n",
              "    }\n",
              "</style>\n",
              "<table border=\"1\" class=\"dataframe\">\n",
              "  <thead>\n",
              "    <tr style=\"text-align: right;\">\n",
              "      <th></th>\n",
              "      <th>0</th>\n",
              "      <th>1</th>\n",
              "    </tr>\n",
              "  </thead>\n",
              "  <tbody>\n",
              "    <tr>\n",
              "      <th>0</th>\n",
              "      <td>1</td>\n",
              "      <td>2</td>\n",
              "    </tr>\n",
              "    <tr>\n",
              "      <th>1</th>\n",
              "      <td>3</td>\n",
              "      <td>4</td>\n",
              "    </tr>\n",
              "  </tbody>\n",
              "</table>\n",
              "</div>"
            ],
            "text/plain": [
              "   0  1\n",
              "0  1  2\n",
              "1  3  4"
            ]
          },
          "execution_count": 248,
          "metadata": {},
          "output_type": "execute_result"
        }
      ],
      "source": [
        "pd.DataFrame([[1, 2], [3, 4]])"
      ]
    },
    {
      "cell_type": "code",
      "execution_count": null,
      "metadata": {
        "id": "c53124fc",
        "outputId": "d58f4953-c864-4974-daf6-8c525388606b"
      },
      "outputs": [
        {
          "data": {
            "text/html": [
              "<div>\n",
              "<style scoped>\n",
              "    .dataframe tbody tr th:only-of-type {\n",
              "        vertical-align: middle;\n",
              "    }\n",
              "\n",
              "    .dataframe tbody tr th {\n",
              "        vertical-align: top;\n",
              "    }\n",
              "\n",
              "    .dataframe thead th {\n",
              "        text-align: right;\n",
              "    }\n",
              "</style>\n",
              "<table border=\"1\" class=\"dataframe\">\n",
              "  <thead>\n",
              "    <tr style=\"text-align: right;\">\n",
              "      <th></th>\n",
              "      <th>Name</th>\n",
              "      <th>Age</th>\n",
              "      <th>Driver</th>\n",
              "    </tr>\n",
              "  </thead>\n",
              "  <tbody>\n",
              "    <tr>\n",
              "      <th>0</th>\n",
              "      <td>Jacky Jackson</td>\n",
              "      <td>38</td>\n",
              "      <td>True</td>\n",
              "    </tr>\n",
              "    <tr>\n",
              "      <th>1</th>\n",
              "      <td>Steven Stevenson</td>\n",
              "      <td>25</td>\n",
              "      <td>False</td>\n",
              "    </tr>\n",
              "  </tbody>\n",
              "</table>\n",
              "</div>"
            ],
            "text/plain": [
              "               Name  Age  Driver\n",
              "0     Jacky Jackson   38    True\n",
              "1  Steven Stevenson   25   False"
            ]
          },
          "execution_count": 249,
          "metadata": {},
          "output_type": "execute_result"
        }
      ],
      "source": [
        "import numpy as np\n",
        "import pandas as pd\n",
        "\n",
        "data = [ ['Jacky Jackson', 38, True], ['Steven Stevenson', 25, False] ]\n",
        "\n",
        "pd.DataFrame(data, columns=['Name', 'Age', 'Driver'])"
      ]
    },
    {
      "cell_type": "code",
      "execution_count": null,
      "metadata": {
        "id": "81d8b907",
        "outputId": "d2dcb63d-acd7-4e5a-805a-9df6b962c288"
      },
      "outputs": [
        {
          "data": {
            "text/html": [
              "<div>\n",
              "<style scoped>\n",
              "    .dataframe tbody tr th:only-of-type {\n",
              "        vertical-align: middle;\n",
              "    }\n",
              "\n",
              "    .dataframe tbody tr th {\n",
              "        vertical-align: top;\n",
              "    }\n",
              "\n",
              "    .dataframe thead th {\n",
              "        text-align: right;\n",
              "    }\n",
              "</style>\n",
              "<table border=\"1\" class=\"dataframe\">\n",
              "  <thead>\n",
              "    <tr style=\"text-align: right;\">\n",
              "      <th></th>\n",
              "      <th>Name</th>\n",
              "      <th>Age</th>\n",
              "      <th>Driver</th>\n",
              "    </tr>\n",
              "  </thead>\n",
              "  <tbody>\n",
              "    <tr>\n",
              "      <th>0</th>\n",
              "      <td>Jacky Jackson</td>\n",
              "      <td>38</td>\n",
              "      <td>True</td>\n",
              "    </tr>\n",
              "    <tr>\n",
              "      <th>1</th>\n",
              "      <td>Steven Stevenson</td>\n",
              "      <td>25</td>\n",
              "      <td>False</td>\n",
              "    </tr>\n",
              "  </tbody>\n",
              "</table>\n",
              "</div>"
            ],
            "text/plain": [
              "               Name Age Driver\n",
              "0     Jacky Jackson  38   True\n",
              "1  Steven Stevenson  25  False"
            ]
          },
          "execution_count": 250,
          "metadata": {},
          "output_type": "execute_result"
        }
      ],
      "source": [
        "import numpy as np\n",
        "import pandas as pd\n",
        "\n",
        "data = [ ['Jacky Jackson', 38, True], ['Steven Stevenson', 25, False] ]\n",
        "\n",
        "matrix = np.array(data)\n",
        "pd.DataFrame(matrix, columns=['Name', 'Age', 'Driver'])"
      ]
    },
    {
      "cell_type": "code",
      "execution_count": null,
      "metadata": {
        "id": "b700c0c8",
        "outputId": "13deb843-7aa2-48dd-f11c-a916f4265800"
      },
      "outputs": [
        {
          "data": {
            "text/html": [
              "<div>\n",
              "<style scoped>\n",
              "    .dataframe tbody tr th:only-of-type {\n",
              "        vertical-align: middle;\n",
              "    }\n",
              "\n",
              "    .dataframe tbody tr th {\n",
              "        vertical-align: top;\n",
              "    }\n",
              "\n",
              "    .dataframe thead th {\n",
              "        text-align: right;\n",
              "    }\n",
              "</style>\n",
              "<table border=\"1\" class=\"dataframe\">\n",
              "  <thead>\n",
              "    <tr style=\"text-align: right;\">\n",
              "      <th></th>\n",
              "      <th>Name</th>\n",
              "      <th>Age</th>\n",
              "      <th>Driver</th>\n",
              "    </tr>\n",
              "  </thead>\n",
              "  <tbody>\n",
              "    <tr>\n",
              "      <th>0</th>\n",
              "      <td>Jacky Jackson</td>\n",
              "      <td>38</td>\n",
              "      <td>True</td>\n",
              "    </tr>\n",
              "    <tr>\n",
              "      <th>1</th>\n",
              "      <td>Steven Stevenson</td>\n",
              "      <td>25</td>\n",
              "      <td>False</td>\n",
              "    </tr>\n",
              "  </tbody>\n",
              "</table>\n",
              "</div>"
            ],
            "text/plain": [
              "               Name  Age  Driver\n",
              "0     Jacky Jackson   38    True\n",
              "1  Steven Stevenson   25   False"
            ]
          },
          "execution_count": 251,
          "metadata": {},
          "output_type": "execute_result"
        }
      ],
      "source": [
        "data = {'Name': ['Jacky Jackson', 'Steven Stevenson'],\n",
        "        'Age': [38, 25],\n",
        "        'Driver': [True, False]}\n",
        "pd.DataFrame(data)"
      ]
    },
    {
      "cell_type": "code",
      "execution_count": null,
      "metadata": {
        "id": "27534577",
        "outputId": "a96713a0-7650-4b23-8526-738dea8d1da2"
      },
      "outputs": [
        {
          "data": {
            "text/html": [
              "<div>\n",
              "<style scoped>\n",
              "    .dataframe tbody tr th:only-of-type {\n",
              "        vertical-align: middle;\n",
              "    }\n",
              "\n",
              "    .dataframe tbody tr th {\n",
              "        vertical-align: top;\n",
              "    }\n",
              "\n",
              "    .dataframe thead th {\n",
              "        text-align: right;\n",
              "    }\n",
              "</style>\n",
              "<table border=\"1\" class=\"dataframe\">\n",
              "  <thead>\n",
              "    <tr style=\"text-align: right;\">\n",
              "      <th></th>\n",
              "      <th>Name</th>\n",
              "      <th>Age</th>\n",
              "      <th>Driver</th>\n",
              "    </tr>\n",
              "  </thead>\n",
              "  <tbody>\n",
              "    <tr>\n",
              "      <th>row1</th>\n",
              "      <td>Jacky Jackson</td>\n",
              "      <td>38</td>\n",
              "      <td>True</td>\n",
              "    </tr>\n",
              "    <tr>\n",
              "      <th>row2</th>\n",
              "      <td>Steven Stevenson</td>\n",
              "      <td>25</td>\n",
              "      <td>False</td>\n",
              "    </tr>\n",
              "  </tbody>\n",
              "</table>\n",
              "</div>"
            ],
            "text/plain": [
              "                  Name  Age  Driver\n",
              "row1     Jacky Jackson   38    True\n",
              "row2  Steven Stevenson   25   False"
            ]
          },
          "execution_count": 252,
          "metadata": {},
          "output_type": "execute_result"
        }
      ],
      "source": [
        "data = [ {'Name': 'Jacky Jackson', 'Age': 38, 'Driver': True},\n",
        "         {'Name': 'Steven Stevenson', 'Age': 25, 'Driver': False} ]\n",
        "pd.DataFrame(data, index=['row1', 'row2'])"
      ]
    },
    {
      "cell_type": "code",
      "execution_count": null,
      "metadata": {
        "id": "511414c5",
        "outputId": "0666f1c6-d08c-429d-92ec-dfde5004296d"
      },
      "outputs": [
        {
          "ename": "AttributeError",
          "evalue": "'DataFrame' object has no attribute 'append'",
          "output_type": "error",
          "traceback": [
            "\u001b[1;31m---------------------------------------------------------------------------\u001b[0m",
            "\u001b[1;31mAttributeError\u001b[0m                            Traceback (most recent call last)",
            "Cell \u001b[1;32mIn[253], line 10\u001b[0m\n\u001b[0;32m      7\u001b[0m new_person \u001b[38;5;241m=\u001b[39m pd\u001b[38;5;241m.\u001b[39mSeries([\u001b[38;5;124m'\u001b[39m\u001b[38;5;124mMolly Mooney\u001b[39m\u001b[38;5;124m'\u001b[39m, \u001b[38;5;241m40\u001b[39m, \u001b[38;5;28;01mTrue\u001b[39;00m], index\u001b[38;5;241m=\u001b[39m[\u001b[38;5;124m'\u001b[39m\u001b[38;5;124mName\u001b[39m\u001b[38;5;124m'\u001b[39m,\u001b[38;5;124m'\u001b[39m\u001b[38;5;124mAge\u001b[39m\u001b[38;5;124m'\u001b[39m,\u001b[38;5;124m'\u001b[39m\u001b[38;5;124mDriver\u001b[39m\u001b[38;5;124m'\u001b[39m])\n\u001b[0;32m      9\u001b[0m \u001b[38;5;66;03m# 방법 1: append() 메서드 사용\u001b[39;00m\n\u001b[1;32m---> 10\u001b[0m dataframe \u001b[38;5;241m=\u001b[39m \u001b[43mdataframe\u001b[49m\u001b[38;5;241;43m.\u001b[39;49m\u001b[43mappend\u001b[49m(new_person, ignore_index\u001b[38;5;241m=\u001b[39m\u001b[38;5;28;01mTrue\u001b[39;00m)\n\u001b[0;32m     12\u001b[0m \u001b[38;5;66;03m# 결과 확인\u001b[39;00m\n\u001b[0;32m     13\u001b[0m \u001b[38;5;28mprint\u001b[39m(dataframe)\n",
            "File \u001b[1;32m~\\AppData\\Roaming\\Python\\Python38\\site-packages\\pandas\\core\\generic.py:5989\u001b[0m, in \u001b[0;36mNDFrame.__getattr__\u001b[1;34m(self, name)\u001b[0m\n\u001b[0;32m   5982\u001b[0m \u001b[38;5;28;01mif\u001b[39;00m (\n\u001b[0;32m   5983\u001b[0m     name \u001b[38;5;129;01mnot\u001b[39;00m \u001b[38;5;129;01min\u001b[39;00m \u001b[38;5;28mself\u001b[39m\u001b[38;5;241m.\u001b[39m_internal_names_set\n\u001b[0;32m   5984\u001b[0m     \u001b[38;5;129;01mand\u001b[39;00m name \u001b[38;5;129;01mnot\u001b[39;00m \u001b[38;5;129;01min\u001b[39;00m \u001b[38;5;28mself\u001b[39m\u001b[38;5;241m.\u001b[39m_metadata\n\u001b[0;32m   5985\u001b[0m     \u001b[38;5;129;01mand\u001b[39;00m name \u001b[38;5;129;01mnot\u001b[39;00m \u001b[38;5;129;01min\u001b[39;00m \u001b[38;5;28mself\u001b[39m\u001b[38;5;241m.\u001b[39m_accessors\n\u001b[0;32m   5986\u001b[0m     \u001b[38;5;129;01mand\u001b[39;00m \u001b[38;5;28mself\u001b[39m\u001b[38;5;241m.\u001b[39m_info_axis\u001b[38;5;241m.\u001b[39m_can_hold_identifiers_and_holds_name(name)\n\u001b[0;32m   5987\u001b[0m ):\n\u001b[0;32m   5988\u001b[0m     \u001b[38;5;28;01mreturn\u001b[39;00m \u001b[38;5;28mself\u001b[39m[name]\n\u001b[1;32m-> 5989\u001b[0m \u001b[38;5;28;01mreturn\u001b[39;00m \u001b[38;5;28;43mobject\u001b[39;49m\u001b[38;5;241;43m.\u001b[39;49m\u001b[38;5;21;43m__getattribute__\u001b[39;49m\u001b[43m(\u001b[49m\u001b[38;5;28;43mself\u001b[39;49m\u001b[43m,\u001b[49m\u001b[43m \u001b[49m\u001b[43mname\u001b[49m\u001b[43m)\u001b[49m\n",
            "\u001b[1;31mAttributeError\u001b[0m: 'DataFrame' object has no attribute 'append'"
          ]
        }
      ],
      "source": [
        "import pandas as pd\n",
        "\n",
        "# 데이터프레임을 만듭니다.\n",
        "dataframe = pd.DataFrame()\n",
        "\n",
        "# 열을 만듭니다.\n",
        "new_person = pd.Series(['Molly Mooney', 40, True], index=['Name','Age','Driver'])\n",
        "\n",
        "# 방법 1: append() 메서드 사용\n",
        "dataframe = dataframe.append(new_person, ignore_index=True)\n",
        "\n",
        "# 결과 확인\n",
        "print(dataframe)"
      ]
    },
    {
      "cell_type": "code",
      "execution_count": null,
      "metadata": {
        "id": "99f1e6de",
        "outputId": "5da67727-5d59-400b-d3dc-dd86b601147b"
      },
      "outputs": [
        {
          "name": "stdout",
          "output_type": "stream",
          "text": [
            "               Name  Age  Driver\n",
            "0     Jacky Jackson   38    True\n",
            "1  Steven Stevenson   25   False\n",
            "2      Molly Mooney   40    True\n"
          ]
        }
      ],
      "source": [
        "import pandas as pd\n",
        "\n",
        "# 데이터프레임을 만듭니다.\n",
        "dataframe = pd.DataFrame()\n",
        "\n",
        "# 열을 추가합니다.\n",
        "dataframe['Name'] = ['Jacky Jackson', 'Steven Stevenson']\n",
        "dataframe['Age'] = [38, 25]\n",
        "dataframe['Driver'] = [True, False]\n",
        "\n",
        "# 새로운 행을 만듭니다.\n",
        "new_person = pd.Series(['Molly Mooney', 40, True], index=['Name', 'Age', 'Driver'])\n",
        "\n",
        "# 방법 2: loc[]을 사용하여 새로운 행 추가\n",
        "dataframe.loc[len(dataframe)] = new_person\n",
        "\n",
        "# 결과 확인\n",
        "print(dataframe)"
      ]
    },
    {
      "cell_type": "code",
      "execution_count": null,
      "metadata": {
        "id": "616633c8",
        "outputId": "4d3a2d26-8168-4c96-ecf2-1c2173daa482"
      },
      "outputs": [
        {
          "data": {
            "text/html": [
              "<div>\n",
              "<style scoped>\n",
              "    .dataframe tbody tr th:only-of-type {\n",
              "        vertical-align: middle;\n",
              "    }\n",
              "\n",
              "    .dataframe tbody tr th {\n",
              "        vertical-align: top;\n",
              "    }\n",
              "\n",
              "    .dataframe thead th {\n",
              "        text-align: right;\n",
              "    }\n",
              "</style>\n",
              "<table border=\"1\" class=\"dataframe\">\n",
              "  <thead>\n",
              "    <tr style=\"text-align: right;\">\n",
              "      <th></th>\n",
              "      <th>PassengerId</th>\n",
              "      <th>Survived</th>\n",
              "      <th>Pclass</th>\n",
              "      <th>Name</th>\n",
              "      <th>Gender</th>\n",
              "      <th>Age</th>\n",
              "      <th>SibSp</th>\n",
              "      <th>Parch</th>\n",
              "      <th>Ticket</th>\n",
              "      <th>Fare</th>\n",
              "      <th>Cabin</th>\n",
              "      <th>Embarked</th>\n",
              "    </tr>\n",
              "  </thead>\n",
              "  <tbody>\n",
              "    <tr>\n",
              "      <th>0</th>\n",
              "      <td>1</td>\n",
              "      <td>0</td>\n",
              "      <td>3</td>\n",
              "      <td>Braund, Mr. Owen Harris</td>\n",
              "      <td>male</td>\n",
              "      <td>22.0</td>\n",
              "      <td>1</td>\n",
              "      <td>0</td>\n",
              "      <td>A/5 21171</td>\n",
              "      <td>7.2500</td>\n",
              "      <td>NaN</td>\n",
              "      <td>S</td>\n",
              "    </tr>\n",
              "    <tr>\n",
              "      <th>1</th>\n",
              "      <td>2</td>\n",
              "      <td>1</td>\n",
              "      <td>1</td>\n",
              "      <td>Cumings, Mrs. John Bradley (Florence Briggs Th...</td>\n",
              "      <td>female</td>\n",
              "      <td>38.0</td>\n",
              "      <td>1</td>\n",
              "      <td>0</td>\n",
              "      <td>PC 17599</td>\n",
              "      <td>71.2833</td>\n",
              "      <td>C85</td>\n",
              "      <td>C</td>\n",
              "    </tr>\n",
              "  </tbody>\n",
              "</table>\n",
              "</div>"
            ],
            "text/plain": [
              "   PassengerId  Survived  Pclass  \\\n",
              "0            1         0       3   \n",
              "1            2         1       1   \n",
              "\n",
              "                                                Name  Gender   Age  SibSp  \\\n",
              "0                            Braund, Mr. Owen Harris    male  22.0      1   \n",
              "1  Cumings, Mrs. John Bradley (Florence Briggs Th...  female  38.0      1   \n",
              "\n",
              "   Parch     Ticket     Fare Cabin Embarked  \n",
              "0      0  A/5 21171   7.2500   NaN        S  \n",
              "1      0   PC 17599  71.2833   C85        C  "
            ]
          },
          "execution_count": 256,
          "metadata": {},
          "output_type": "execute_result"
        }
      ],
      "source": [
        "# 라이브러리를 임포트합니다.\n",
        "import pandas as pd\n",
        "\n",
        "# 데이터를 적재합니다.\n",
        "dataframe = pd.read_csv(\"datasets//titanic.csv\")\n",
        "\n",
        "# 두 개의 행을 확인합니다.\n",
        "dataframe.head(2)"
      ]
    },
    {
      "cell_type": "code",
      "execution_count": null,
      "metadata": {
        "id": "f30f202d",
        "outputId": "d34bfb8d-250d-4d1b-fe4c-866123ec7be0"
      },
      "outputs": [
        {
          "data": {
            "text/plain": [
              "(891, 12)"
            ]
          },
          "execution_count": 257,
          "metadata": {},
          "output_type": "execute_result"
        }
      ],
      "source": [
        "# 차원을 확인합니다.\n",
        "dataframe.shape"
      ]
    },
    {
      "cell_type": "code",
      "execution_count": null,
      "metadata": {
        "id": "3cb2f5c9",
        "outputId": "39a5b2c5-7b68-4c44-ba5e-18700f35dc33"
      },
      "outputs": [
        {
          "data": {
            "text/html": [
              "<div>\n",
              "<style scoped>\n",
              "    .dataframe tbody tr th:only-of-type {\n",
              "        vertical-align: middle;\n",
              "    }\n",
              "\n",
              "    .dataframe tbody tr th {\n",
              "        vertical-align: top;\n",
              "    }\n",
              "\n",
              "    .dataframe thead th {\n",
              "        text-align: right;\n",
              "    }\n",
              "</style>\n",
              "<table border=\"1\" class=\"dataframe\">\n",
              "  <thead>\n",
              "    <tr style=\"text-align: right;\">\n",
              "      <th></th>\n",
              "      <th>col1</th>\n",
              "      <th>col2</th>\n",
              "    </tr>\n",
              "  </thead>\n",
              "  <tbody>\n",
              "    <tr>\n",
              "      <th>0</th>\n",
              "      <td>1</td>\n",
              "      <td>2</td>\n",
              "    </tr>\n",
              "    <tr>\n",
              "      <th>1</th>\n",
              "      <td>3</td>\n",
              "      <td>4</td>\n",
              "    </tr>\n",
              "  </tbody>\n",
              "</table>\n",
              "</div>"
            ],
            "text/plain": [
              "   col1  col2\n",
              "0     1     2\n",
              "1     3     4"
            ]
          },
          "execution_count": 258,
          "metadata": {},
          "output_type": "execute_result"
        }
      ],
      "source": [
        "pd.DataFrame(\n",
        "    [[1, 2], [3, 4]],\n",
        "    columns = [\"col1\", \"col2\"]\n",
        ")"
      ]
    },
    {
      "cell_type": "code",
      "execution_count": null,
      "metadata": {
        "id": "acbad3dd",
        "outputId": "83cf08ff-fb33-4185-afd2-84eca3aa6a5b"
      },
      "outputs": [
        {
          "data": {
            "text/html": [
              "<div>\n",
              "<style scoped>\n",
              "    .dataframe tbody tr th:only-of-type {\n",
              "        vertical-align: middle;\n",
              "    }\n",
              "\n",
              "    .dataframe tbody tr th {\n",
              "        vertical-align: top;\n",
              "    }\n",
              "\n",
              "    .dataframe thead th {\n",
              "        text-align: right;\n",
              "    }\n",
              "</style>\n",
              "<table border=\"1\" class=\"dataframe\">\n",
              "  <thead>\n",
              "    <tr style=\"text-align: right;\">\n",
              "      <th></th>\n",
              "      <th>0</th>\n",
              "      <th>1</th>\n",
              "    </tr>\n",
              "  </thead>\n",
              "  <tbody>\n",
              "    <tr>\n",
              "      <th>100</th>\n",
              "      <td>1</td>\n",
              "      <td>2</td>\n",
              "    </tr>\n",
              "    <tr>\n",
              "      <th>200</th>\n",
              "      <td>3</td>\n",
              "      <td>4</td>\n",
              "    </tr>\n",
              "  </tbody>\n",
              "</table>\n",
              "</div>"
            ],
            "text/plain": [
              "     0  1\n",
              "100  1  2\n",
              "200  3  4"
            ]
          },
          "execution_count": 259,
          "metadata": {},
          "output_type": "execute_result"
        }
      ],
      "source": [
        "pd.DataFrame(\n",
        "    [[1, 2], [3, 4]],\n",
        "    index = [100, 200]\n",
        ")"
      ]
    },
    {
      "cell_type": "code",
      "execution_count": null,
      "metadata": {
        "id": "aee5821d",
        "outputId": "147cf0c5-3d6a-44ed-a080-8c9945c36117"
      },
      "outputs": [
        {
          "ename": "ValueError",
          "evalue": "All arrays must be of the same length",
          "output_type": "error",
          "traceback": [
            "\u001b[1;31m---------------------------------------------------------------------------\u001b[0m",
            "\u001b[1;31mValueError\u001b[0m                                Traceback (most recent call last)",
            "Cell \u001b[1;32mIn[260], line 1\u001b[0m\n\u001b[1;32m----> 1\u001b[0m \u001b[43mpd\u001b[49m\u001b[38;5;241;43m.\u001b[39;49m\u001b[43mDataFrame\u001b[49m\u001b[43m(\u001b[49m\n\u001b[0;32m      2\u001b[0m \u001b[43m    \u001b[49m\u001b[38;5;28;43mdict\u001b[39;49m\u001b[43m(\u001b[49m\u001b[43mcol1\u001b[49m\u001b[43m \u001b[49m\u001b[38;5;241;43m=\u001b[39;49m\u001b[43m \u001b[49m\u001b[43m[\u001b[49m\u001b[38;5;241;43m1\u001b[39;49m\u001b[43m,\u001b[49m\u001b[43m \u001b[49m\u001b[38;5;241;43m2\u001b[39;49m\u001b[43m]\u001b[49m\u001b[43m,\u001b[49m\n\u001b[0;32m      3\u001b[0m \u001b[43m         \u001b[49m\u001b[43mcol2\u001b[49m\u001b[43m \u001b[49m\u001b[38;5;241;43m=\u001b[39;49m\u001b[43m \u001b[49m\u001b[43m[\u001b[49m\u001b[38;5;241;43m3\u001b[39;49m\u001b[43m,\u001b[49m\u001b[43m \u001b[49m\u001b[38;5;241;43m4\u001b[39;49m\u001b[43m,\u001b[49m\u001b[43m \u001b[49m\u001b[38;5;241;43m5\u001b[39;49m\u001b[43m]\u001b[49m\u001b[43m)\u001b[49m\n\u001b[0;32m      4\u001b[0m \u001b[43m)\u001b[49m\n",
            "File \u001b[1;32m~\\AppData\\Roaming\\Python\\Python38\\site-packages\\pandas\\core\\frame.py:709\u001b[0m, in \u001b[0;36mDataFrame.__init__\u001b[1;34m(self, data, index, columns, dtype, copy)\u001b[0m\n\u001b[0;32m    703\u001b[0m     mgr \u001b[38;5;241m=\u001b[39m \u001b[38;5;28mself\u001b[39m\u001b[38;5;241m.\u001b[39m_init_mgr(\n\u001b[0;32m    704\u001b[0m         data, axes\u001b[38;5;241m=\u001b[39m{\u001b[38;5;124m\"\u001b[39m\u001b[38;5;124mindex\u001b[39m\u001b[38;5;124m\"\u001b[39m: index, \u001b[38;5;124m\"\u001b[39m\u001b[38;5;124mcolumns\u001b[39m\u001b[38;5;124m\"\u001b[39m: columns}, dtype\u001b[38;5;241m=\u001b[39mdtype, copy\u001b[38;5;241m=\u001b[39mcopy\n\u001b[0;32m    705\u001b[0m     )\n\u001b[0;32m    707\u001b[0m \u001b[38;5;28;01melif\u001b[39;00m \u001b[38;5;28misinstance\u001b[39m(data, \u001b[38;5;28mdict\u001b[39m):\n\u001b[0;32m    708\u001b[0m     \u001b[38;5;66;03m# GH#38939 de facto copy defaults to False only in non-dict cases\u001b[39;00m\n\u001b[1;32m--> 709\u001b[0m     mgr \u001b[38;5;241m=\u001b[39m \u001b[43mdict_to_mgr\u001b[49m\u001b[43m(\u001b[49m\u001b[43mdata\u001b[49m\u001b[43m,\u001b[49m\u001b[43m \u001b[49m\u001b[43mindex\u001b[49m\u001b[43m,\u001b[49m\u001b[43m \u001b[49m\u001b[43mcolumns\u001b[49m\u001b[43m,\u001b[49m\u001b[43m \u001b[49m\u001b[43mdtype\u001b[49m\u001b[38;5;241;43m=\u001b[39;49m\u001b[43mdtype\u001b[49m\u001b[43m,\u001b[49m\u001b[43m \u001b[49m\u001b[43mcopy\u001b[49m\u001b[38;5;241;43m=\u001b[39;49m\u001b[43mcopy\u001b[49m\u001b[43m,\u001b[49m\u001b[43m \u001b[49m\u001b[43mtyp\u001b[49m\u001b[38;5;241;43m=\u001b[39;49m\u001b[43mmanager\u001b[49m\u001b[43m)\u001b[49m\n\u001b[0;32m    710\u001b[0m \u001b[38;5;28;01melif\u001b[39;00m \u001b[38;5;28misinstance\u001b[39m(data, ma\u001b[38;5;241m.\u001b[39mMaskedArray):\n\u001b[0;32m    711\u001b[0m     \u001b[38;5;28;01mfrom\u001b[39;00m \u001b[38;5;21;01mnumpy\u001b[39;00m\u001b[38;5;21;01m.\u001b[39;00m\u001b[38;5;21;01mma\u001b[39;00m \u001b[38;5;28;01mimport\u001b[39;00m mrecords\n",
            "File \u001b[1;32m~\\AppData\\Roaming\\Python\\Python38\\site-packages\\pandas\\core\\internals\\construction.py:481\u001b[0m, in \u001b[0;36mdict_to_mgr\u001b[1;34m(data, index, columns, dtype, typ, copy)\u001b[0m\n\u001b[0;32m    477\u001b[0m     \u001b[38;5;28;01melse\u001b[39;00m:\n\u001b[0;32m    478\u001b[0m         \u001b[38;5;66;03m# dtype check to exclude e.g. range objects, scalars\u001b[39;00m\n\u001b[0;32m    479\u001b[0m         arrays \u001b[38;5;241m=\u001b[39m [x\u001b[38;5;241m.\u001b[39mcopy() \u001b[38;5;28;01mif\u001b[39;00m \u001b[38;5;28mhasattr\u001b[39m(x, \u001b[38;5;124m\"\u001b[39m\u001b[38;5;124mdtype\u001b[39m\u001b[38;5;124m\"\u001b[39m) \u001b[38;5;28;01melse\u001b[39;00m x \u001b[38;5;28;01mfor\u001b[39;00m x \u001b[38;5;129;01min\u001b[39;00m arrays]\n\u001b[1;32m--> 481\u001b[0m \u001b[38;5;28;01mreturn\u001b[39;00m \u001b[43marrays_to_mgr\u001b[49m\u001b[43m(\u001b[49m\u001b[43marrays\u001b[49m\u001b[43m,\u001b[49m\u001b[43m \u001b[49m\u001b[43mcolumns\u001b[49m\u001b[43m,\u001b[49m\u001b[43m \u001b[49m\u001b[43mindex\u001b[49m\u001b[43m,\u001b[49m\u001b[43m \u001b[49m\u001b[43mdtype\u001b[49m\u001b[38;5;241;43m=\u001b[39;49m\u001b[43mdtype\u001b[49m\u001b[43m,\u001b[49m\u001b[43m \u001b[49m\u001b[43mtyp\u001b[49m\u001b[38;5;241;43m=\u001b[39;49m\u001b[43mtyp\u001b[49m\u001b[43m,\u001b[49m\u001b[43m \u001b[49m\u001b[43mconsolidate\u001b[49m\u001b[38;5;241;43m=\u001b[39;49m\u001b[43mcopy\u001b[49m\u001b[43m)\u001b[49m\n",
            "File \u001b[1;32m~\\AppData\\Roaming\\Python\\Python38\\site-packages\\pandas\\core\\internals\\construction.py:115\u001b[0m, in \u001b[0;36marrays_to_mgr\u001b[1;34m(arrays, columns, index, dtype, verify_integrity, typ, consolidate)\u001b[0m\n\u001b[0;32m    112\u001b[0m \u001b[38;5;28;01mif\u001b[39;00m verify_integrity:\n\u001b[0;32m    113\u001b[0m     \u001b[38;5;66;03m# figure out the index, if necessary\u001b[39;00m\n\u001b[0;32m    114\u001b[0m     \u001b[38;5;28;01mif\u001b[39;00m index \u001b[38;5;129;01mis\u001b[39;00m \u001b[38;5;28;01mNone\u001b[39;00m:\n\u001b[1;32m--> 115\u001b[0m         index \u001b[38;5;241m=\u001b[39m \u001b[43m_extract_index\u001b[49m\u001b[43m(\u001b[49m\u001b[43marrays\u001b[49m\u001b[43m)\u001b[49m\n\u001b[0;32m    116\u001b[0m     \u001b[38;5;28;01melse\u001b[39;00m:\n\u001b[0;32m    117\u001b[0m         index \u001b[38;5;241m=\u001b[39m ensure_index(index)\n",
            "File \u001b[1;32m~\\AppData\\Roaming\\Python\\Python38\\site-packages\\pandas\\core\\internals\\construction.py:655\u001b[0m, in \u001b[0;36m_extract_index\u001b[1;34m(data)\u001b[0m\n\u001b[0;32m    653\u001b[0m lengths \u001b[38;5;241m=\u001b[39m \u001b[38;5;28mlist\u001b[39m(\u001b[38;5;28mset\u001b[39m(raw_lengths))\n\u001b[0;32m    654\u001b[0m \u001b[38;5;28;01mif\u001b[39;00m \u001b[38;5;28mlen\u001b[39m(lengths) \u001b[38;5;241m>\u001b[39m \u001b[38;5;241m1\u001b[39m:\n\u001b[1;32m--> 655\u001b[0m     \u001b[38;5;28;01mraise\u001b[39;00m \u001b[38;5;167;01mValueError\u001b[39;00m(\u001b[38;5;124m\"\u001b[39m\u001b[38;5;124mAll arrays must be of the same length\u001b[39m\u001b[38;5;124m\"\u001b[39m)\n\u001b[0;32m    657\u001b[0m \u001b[38;5;28;01mif\u001b[39;00m have_dicts:\n\u001b[0;32m    658\u001b[0m     \u001b[38;5;28;01mraise\u001b[39;00m \u001b[38;5;167;01mValueError\u001b[39;00m(\n\u001b[0;32m    659\u001b[0m         \u001b[38;5;124m\"\u001b[39m\u001b[38;5;124mMixing dicts with non-Series may lead to ambiguous ordering.\u001b[39m\u001b[38;5;124m\"\u001b[39m\n\u001b[0;32m    660\u001b[0m     )\n",
            "\u001b[1;31mValueError\u001b[0m: All arrays must be of the same length"
          ]
        }
      ],
      "source": [
        "pd.DataFrame(\n",
        "    dict(col1 = [1, 2],\n",
        "         col2 = [3, 4, 5])\n",
        ")"
      ]
    },
    {
      "cell_type": "code",
      "execution_count": null,
      "metadata": {
        "id": "fa113491",
        "outputId": "6ad18b2c-c41e-45a4-ccc0-48ef197fdcbc"
      },
      "outputs": [
        {
          "name": "stdout",
          "output_type": "stream",
          "text": [
            "[[-1.8753784   0.63920208  0.50992798  0.57838668]\n",
            " [ 0.15274596  0.95043985  1.1715207  -1.63386566]\n",
            " [-0.0487243  -0.25448875 -0.5727471  -0.45450805]]\n",
            "              a         b         c         d\n",
            "one   -1.875378  0.639202  0.509928  0.578387\n",
            "two    0.152746  0.950440  1.171521 -1.633866\n",
            "three -0.048724 -0.254489 -0.572747 -0.454508\n"
          ]
        }
      ],
      "source": [
        "import numpy as np\n",
        "import pandas as pd\n",
        "\n",
        "# 3x4 형태의 랜덤한 숫자로 채워진 2차원 배열 생성\n",
        "r = np.random.randn(3, 4)\n",
        "print(r)  # 생성된 랜덤 배열 출력\n",
        "\n",
        "# 생성된 배열을 DataFrame으로 변환\n",
        "d = pd.DataFrame(r, index=['one', 'two', 'three'], columns=['a', 'b', 'c', 'd'])\n",
        "print(d)  # DataFrame 출력"
      ]
    },
    {
      "cell_type": "code",
      "execution_count": null,
      "metadata": {
        "id": "4618f958",
        "outputId": "89f9dea8-bb80-4342-8865-c84c88773c50"
      },
      "outputs": [
        {
          "data": {
            "text/html": [
              "<div>\n",
              "<style scoped>\n",
              "    .dataframe tbody tr th:only-of-type {\n",
              "        vertical-align: middle;\n",
              "    }\n",
              "\n",
              "    .dataframe tbody tr th {\n",
              "        vertical-align: top;\n",
              "    }\n",
              "\n",
              "    .dataframe thead th {\n",
              "        text-align: right;\n",
              "    }\n",
              "</style>\n",
              "<table border=\"1\" class=\"dataframe\">\n",
              "  <thead>\n",
              "    <tr style=\"text-align: right;\">\n",
              "      <th></th>\n",
              "      <th>state</th>\n",
              "      <th>year</th>\n",
              "      <th>pop</th>\n",
              "    </tr>\n",
              "  </thead>\n",
              "  <tbody>\n",
              "    <tr>\n",
              "      <th>0</th>\n",
              "      <td>Ohio</td>\n",
              "      <td>2000</td>\n",
              "      <td>1.5</td>\n",
              "    </tr>\n",
              "    <tr>\n",
              "      <th>1</th>\n",
              "      <td>Ohio</td>\n",
              "      <td>2001</td>\n",
              "      <td>1.7</td>\n",
              "    </tr>\n",
              "    <tr>\n",
              "      <th>2</th>\n",
              "      <td>Ohio</td>\n",
              "      <td>2002</td>\n",
              "      <td>3.6</td>\n",
              "    </tr>\n",
              "    <tr>\n",
              "      <th>3</th>\n",
              "      <td>Nevada</td>\n",
              "      <td>2001</td>\n",
              "      <td>2.4</td>\n",
              "    </tr>\n",
              "    <tr>\n",
              "      <th>4</th>\n",
              "      <td>Nevada</td>\n",
              "      <td>2002</td>\n",
              "      <td>2.9</td>\n",
              "    </tr>\n",
              "  </tbody>\n",
              "</table>\n",
              "</div>"
            ],
            "text/plain": [
              "    state  year  pop\n",
              "0    Ohio  2000  1.5\n",
              "1    Ohio  2001  1.7\n",
              "2    Ohio  2002  3.6\n",
              "3  Nevada  2001  2.4\n",
              "4  Nevada  2002  2.9"
            ]
          },
          "execution_count": 262,
          "metadata": {},
          "output_type": "execute_result"
        }
      ],
      "source": [
        "import numpy as np\n",
        "import pandas as pd\n",
        "\n",
        "# 주어진 딕셔너리로 DataFrame 생성\n",
        "dic = {\n",
        "    'state': ['Ohio', 'Ohio', 'Ohio', 'Nevada', 'Nevada'],\n",
        "    'year': [2000, 2001, 2002, 2001, 2002],\n",
        "    'pop': [1.5, 1.7, 3.6, 2.4, 2.9]\n",
        "}\n",
        "d2 = pd.DataFrame(dic)\n",
        "d2"
      ]
    },
    {
      "cell_type": "code",
      "execution_count": null,
      "metadata": {
        "id": "ace911b6",
        "outputId": "efdbd0d6-8080-4dbe-b67b-5e11b045cd49"
      },
      "outputs": [
        {
          "data": {
            "text/html": [
              "<div>\n",
              "<style scoped>\n",
              "    .dataframe tbody tr th:only-of-type {\n",
              "        vertical-align: middle;\n",
              "    }\n",
              "\n",
              "    .dataframe tbody tr th {\n",
              "        vertical-align: top;\n",
              "    }\n",
              "\n",
              "    .dataframe thead th {\n",
              "        text-align: right;\n",
              "    }\n",
              "</style>\n",
              "<table border=\"1\" class=\"dataframe\">\n",
              "  <thead>\n",
              "    <tr style=\"text-align: right;\">\n",
              "      <th></th>\n",
              "      <th>year</th>\n",
              "      <th>state</th>\n",
              "      <th>pop</th>\n",
              "    </tr>\n",
              "  </thead>\n",
              "  <tbody>\n",
              "    <tr>\n",
              "      <th>0</th>\n",
              "      <td>2000</td>\n",
              "      <td>Ohio</td>\n",
              "      <td>1.5</td>\n",
              "    </tr>\n",
              "    <tr>\n",
              "      <th>1</th>\n",
              "      <td>2001</td>\n",
              "      <td>Ohio</td>\n",
              "      <td>1.7</td>\n",
              "    </tr>\n",
              "    <tr>\n",
              "      <th>2</th>\n",
              "      <td>2002</td>\n",
              "      <td>Ohio</td>\n",
              "      <td>3.6</td>\n",
              "    </tr>\n",
              "    <tr>\n",
              "      <th>3</th>\n",
              "      <td>2001</td>\n",
              "      <td>Nevada</td>\n",
              "      <td>2.4</td>\n",
              "    </tr>\n",
              "    <tr>\n",
              "      <th>4</th>\n",
              "      <td>2002</td>\n",
              "      <td>Nevada</td>\n",
              "      <td>2.9</td>\n",
              "    </tr>\n",
              "  </tbody>\n",
              "</table>\n",
              "</div>"
            ],
            "text/plain": [
              "   year   state  pop\n",
              "0  2000    Ohio  1.5\n",
              "1  2001    Ohio  1.7\n",
              "2  2002    Ohio  3.6\n",
              "3  2001  Nevada  2.4\n",
              "4  2002  Nevada  2.9"
            ]
          },
          "execution_count": 263,
          "metadata": {},
          "output_type": "execute_result"
        }
      ],
      "source": [
        "pd.DataFrame(d2, columns = ['year', 'state', 'pop'])"
      ]
    },
    {
      "cell_type": "code",
      "execution_count": null,
      "metadata": {
        "id": "517e2d0e",
        "outputId": "1b571e82-497a-4c33-ebda-54bd896264e4"
      },
      "outputs": [
        {
          "data": {
            "text/plain": [
              "RangeIndex(start=0, stop=5, step=1)"
            ]
          },
          "execution_count": 264,
          "metadata": {},
          "output_type": "execute_result"
        }
      ],
      "source": [
        "d2.index"
      ]
    },
    {
      "cell_type": "code",
      "execution_count": null,
      "metadata": {
        "id": "dcf75cd2",
        "outputId": "150a533b-92af-41d1-c98e-472136811975"
      },
      "outputs": [
        {
          "data": {
            "text/plain": [
              "Index(['state', 'year', 'pop'], dtype='object')"
            ]
          },
          "execution_count": 265,
          "metadata": {},
          "output_type": "execute_result"
        }
      ],
      "source": [
        "d2.columns"
      ]
    },
    {
      "cell_type": "code",
      "execution_count": null,
      "metadata": {
        "id": "84e99d82",
        "outputId": "9a75645d-01ce-44de-e06b-77d1dca7ee51"
      },
      "outputs": [
        {
          "data": {
            "text/plain": [
              "True"
            ]
          },
          "execution_count": 266,
          "metadata": {},
          "output_type": "execute_result"
        }
      ],
      "source": [
        "3 in d2.index"
      ]
    },
    {
      "cell_type": "code",
      "execution_count": null,
      "metadata": {
        "id": "b13ad084",
        "outputId": "02be4b87-31fc-44cf-cd7a-b065388c8d48"
      },
      "outputs": [
        {
          "data": {
            "text/plain": [
              "True"
            ]
          },
          "execution_count": 267,
          "metadata": {},
          "output_type": "execute_result"
        }
      ],
      "source": [
        "'state' in d2.columns"
      ]
    },
    {
      "cell_type": "code",
      "execution_count": null,
      "metadata": {
        "id": "2ca7ff8c",
        "outputId": "6e672780-02ae-4127-9c2f-6f7c61828a6c"
      },
      "outputs": [
        {
          "data": {
            "text/plain": [
              "one     -1.875378\n",
              "two      0.152746\n",
              "three   -0.048724\n",
              "Name: a, dtype: float64"
            ]
          },
          "execution_count": 268,
          "metadata": {},
          "output_type": "execute_result"
        }
      ],
      "source": [
        "d['a']"
      ]
    },
    {
      "cell_type": "code",
      "execution_count": null,
      "metadata": {
        "id": "ca174db8",
        "outputId": "37550a5a-987d-4949-96e7-6027bc97e256"
      },
      "outputs": [
        {
          "data": {
            "text/plain": [
              "0      Ohio\n",
              "1      Ohio\n",
              "2      Ohio\n",
              "3    Nevada\n",
              "4    Nevada\n",
              "Name: state, dtype: object"
            ]
          },
          "execution_count": 269,
          "metadata": {},
          "output_type": "execute_result"
        }
      ],
      "source": [
        "d2['state']"
      ]
    },
    {
      "cell_type": "code",
      "execution_count": null,
      "metadata": {
        "id": "23b492d2",
        "outputId": "f62916ed-24fb-444b-9dca-e2b3e9cd82a0"
      },
      "outputs": [
        {
          "data": {
            "text/html": [
              "<div>\n",
              "<style scoped>\n",
              "    .dataframe tbody tr th:only-of-type {\n",
              "        vertical-align: middle;\n",
              "    }\n",
              "\n",
              "    .dataframe tbody tr th {\n",
              "        vertical-align: top;\n",
              "    }\n",
              "\n",
              "    .dataframe thead th {\n",
              "        text-align: right;\n",
              "    }\n",
              "</style>\n",
              "<table border=\"1\" class=\"dataframe\">\n",
              "  <thead>\n",
              "    <tr style=\"text-align: right;\">\n",
              "      <th></th>\n",
              "      <th>state</th>\n",
              "      <th>year</th>\n",
              "      <th>pop</th>\n",
              "      <th>debt</th>\n",
              "    </tr>\n",
              "  </thead>\n",
              "  <tbody>\n",
              "    <tr>\n",
              "      <th>0</th>\n",
              "      <td>Ohio</td>\n",
              "      <td>2000</td>\n",
              "      <td>1.5</td>\n",
              "      <td>0</td>\n",
              "    </tr>\n",
              "    <tr>\n",
              "      <th>1</th>\n",
              "      <td>Ohio</td>\n",
              "      <td>2001</td>\n",
              "      <td>1.7</td>\n",
              "      <td>1</td>\n",
              "    </tr>\n",
              "    <tr>\n",
              "      <th>2</th>\n",
              "      <td>Ohio</td>\n",
              "      <td>2002</td>\n",
              "      <td>3.6</td>\n",
              "      <td>2</td>\n",
              "    </tr>\n",
              "    <tr>\n",
              "      <th>3</th>\n",
              "      <td>Nevada</td>\n",
              "      <td>2001</td>\n",
              "      <td>2.4</td>\n",
              "      <td>3</td>\n",
              "    </tr>\n",
              "    <tr>\n",
              "      <th>4</th>\n",
              "      <td>Nevada</td>\n",
              "      <td>2002</td>\n",
              "      <td>2.9</td>\n",
              "      <td>4</td>\n",
              "    </tr>\n",
              "  </tbody>\n",
              "</table>\n",
              "</div>"
            ],
            "text/plain": [
              "    state  year  pop  debt\n",
              "0    Ohio  2000  1.5     0\n",
              "1    Ohio  2001  1.7     1\n",
              "2    Ohio  2002  3.6     2\n",
              "3  Nevada  2001  2.4     3\n",
              "4  Nevada  2002  2.9     4"
            ]
          },
          "execution_count": 270,
          "metadata": {},
          "output_type": "execute_result"
        }
      ],
      "source": [
        "d2['debt'] = np.arange(5)\n",
        "d2"
      ]
    },
    {
      "cell_type": "code",
      "execution_count": null,
      "metadata": {
        "id": "d32f4518",
        "outputId": "af9b6183-c92c-4dd7-cc9b-81f2393b4acb"
      },
      "outputs": [
        {
          "data": {
            "text/plain": [
              "state    Nevada\n",
              "year       2001\n",
              "pop         2.4\n",
              "debt          3\n",
              "Name: 3, dtype: object"
            ]
          },
          "execution_count": 271,
          "metadata": {},
          "output_type": "execute_result"
        }
      ],
      "source": [
        "d2.loc[3]"
      ]
    },
    {
      "cell_type": "code",
      "execution_count": null,
      "metadata": {
        "id": "569dc0e1",
        "outputId": "987d8444-a5ae-4010-ebe4-778c44a11f96"
      },
      "outputs": [
        {
          "data": {
            "text/plain": [
              "state    Nevada\n",
              "year       2001\n",
              "pop         2.4\n",
              "debt          3\n",
              "Name: 3, dtype: object"
            ]
          },
          "execution_count": 272,
          "metadata": {},
          "output_type": "execute_result"
        }
      ],
      "source": [
        "d2.iloc[3]"
      ]
    },
    {
      "cell_type": "code",
      "execution_count": null,
      "metadata": {
        "id": "7139f838",
        "outputId": "c810cf0d-77ad-4b2c-93ce-cc2c93deb9d5"
      },
      "outputs": [
        {
          "data": {
            "text/html": [
              "<div>\n",
              "<style scoped>\n",
              "    .dataframe tbody tr th:only-of-type {\n",
              "        vertical-align: middle;\n",
              "    }\n",
              "\n",
              "    .dataframe tbody tr th {\n",
              "        vertical-align: top;\n",
              "    }\n",
              "\n",
              "    .dataframe thead th {\n",
              "        text-align: right;\n",
              "    }\n",
              "</style>\n",
              "<table border=\"1\" class=\"dataframe\">\n",
              "  <thead>\n",
              "    <tr style=\"text-align: right;\">\n",
              "      <th></th>\n",
              "      <th>state</th>\n",
              "      <th>year</th>\n",
              "      <th>pop</th>\n",
              "      <th>debt</th>\n",
              "    </tr>\n",
              "  </thead>\n",
              "  <tbody>\n",
              "    <tr>\n",
              "      <th>0</th>\n",
              "      <td>Ohio</td>\n",
              "      <td>2000</td>\n",
              "      <td>1.5</td>\n",
              "      <td>0</td>\n",
              "    </tr>\n",
              "    <tr>\n",
              "      <th>1</th>\n",
              "      <td>Ohio</td>\n",
              "      <td>2001</td>\n",
              "      <td>1.7</td>\n",
              "      <td>1</td>\n",
              "    </tr>\n",
              "    <tr>\n",
              "      <th>2</th>\n",
              "      <td>Ohio</td>\n",
              "      <td>2002</td>\n",
              "      <td>3.6</td>\n",
              "      <td>2</td>\n",
              "    </tr>\n",
              "    <tr>\n",
              "      <th>3</th>\n",
              "      <td>Nevada</td>\n",
              "      <td>2001</td>\n",
              "      <td>2.4</td>\n",
              "      <td>3</td>\n",
              "    </tr>\n",
              "    <tr>\n",
              "      <th>4</th>\n",
              "      <td>Nevada</td>\n",
              "      <td>2002</td>\n",
              "      <td>2.9</td>\n",
              "      <td>4</td>\n",
              "    </tr>\n",
              "  </tbody>\n",
              "</table>\n",
              "</div>"
            ],
            "text/plain": [
              "    state  year  pop  debt\n",
              "0    Ohio  2000  1.5     0\n",
              "1    Ohio  2001  1.7     1\n",
              "2    Ohio  2002  3.6     2\n",
              "3  Nevada  2001  2.4     3\n",
              "4  Nevada  2002  2.9     4"
            ]
          },
          "execution_count": 273,
          "metadata": {},
          "output_type": "execute_result"
        }
      ],
      "source": [
        "d2"
      ]
    },
    {
      "cell_type": "code",
      "execution_count": null,
      "metadata": {
        "id": "7d9d8b88",
        "outputId": "e3920eff-b39f-4e34-e2cc-e1492db758bb"
      },
      "outputs": [
        {
          "data": {
            "text/html": [
              "<div>\n",
              "<style scoped>\n",
              "    .dataframe tbody tr th:only-of-type {\n",
              "        vertical-align: middle;\n",
              "    }\n",
              "\n",
              "    .dataframe tbody tr th {\n",
              "        vertical-align: top;\n",
              "    }\n",
              "\n",
              "    .dataframe thead th {\n",
              "        text-align: right;\n",
              "    }\n",
              "</style>\n",
              "<table border=\"1\" class=\"dataframe\">\n",
              "  <thead>\n",
              "    <tr style=\"text-align: right;\">\n",
              "      <th></th>\n",
              "      <th>0</th>\n",
              "      <th>1</th>\n",
              "      <th>2</th>\n",
              "      <th>3</th>\n",
              "      <th>4</th>\n",
              "    </tr>\n",
              "  </thead>\n",
              "  <tbody>\n",
              "    <tr>\n",
              "      <th>state</th>\n",
              "      <td>Ohio</td>\n",
              "      <td>Ohio</td>\n",
              "      <td>Ohio</td>\n",
              "      <td>Nevada</td>\n",
              "      <td>Nevada</td>\n",
              "    </tr>\n",
              "    <tr>\n",
              "      <th>year</th>\n",
              "      <td>2000</td>\n",
              "      <td>2001</td>\n",
              "      <td>2002</td>\n",
              "      <td>2001</td>\n",
              "      <td>2002</td>\n",
              "    </tr>\n",
              "    <tr>\n",
              "      <th>pop</th>\n",
              "      <td>1.5</td>\n",
              "      <td>1.7</td>\n",
              "      <td>3.6</td>\n",
              "      <td>2.4</td>\n",
              "      <td>2.9</td>\n",
              "    </tr>\n",
              "    <tr>\n",
              "      <th>debt</th>\n",
              "      <td>0</td>\n",
              "      <td>1</td>\n",
              "      <td>2</td>\n",
              "      <td>3</td>\n",
              "      <td>4</td>\n",
              "    </tr>\n",
              "  </tbody>\n",
              "</table>\n",
              "</div>"
            ],
            "text/plain": [
              "          0     1     2       3       4\n",
              "state  Ohio  Ohio  Ohio  Nevada  Nevada\n",
              "year   2000  2001  2002    2001    2002\n",
              "pop     1.5   1.7   3.6     2.4     2.9\n",
              "debt      0     1     2       3       4"
            ]
          },
          "execution_count": 274,
          "metadata": {},
          "output_type": "execute_result"
        }
      ],
      "source": [
        "d2.T"
      ]
    },
    {
      "cell_type": "code",
      "execution_count": null,
      "metadata": {
        "id": "f362257e",
        "outputId": "847d2b28-80a6-4789-9a03-e2139f4da2aa"
      },
      "outputs": [
        {
          "data": {
            "text/plain": [
              "array([[0, 1, 2],\n",
              "       [3, 4, 5],\n",
              "       [6, 7, 8]])"
            ]
          },
          "execution_count": 275,
          "metadata": {},
          "output_type": "execute_result"
        }
      ],
      "source": [
        "data = np.arange(9).reshape((3, 3))\n",
        "data"
      ]
    },
    {
      "cell_type": "code",
      "execution_count": null,
      "metadata": {
        "id": "3ba8f899",
        "outputId": "c185051a-0dc1-4e8d-f52d-d9d32263087b"
      },
      "outputs": [
        {
          "data": {
            "text/html": [
              "<div>\n",
              "<style scoped>\n",
              "    .dataframe tbody tr th:only-of-type {\n",
              "        vertical-align: middle;\n",
              "    }\n",
              "\n",
              "    .dataframe tbody tr th {\n",
              "        vertical-align: top;\n",
              "    }\n",
              "\n",
              "    .dataframe thead th {\n",
              "        text-align: right;\n",
              "    }\n",
              "</style>\n",
              "<table border=\"1\" class=\"dataframe\">\n",
              "  <thead>\n",
              "    <tr style=\"text-align: right;\">\n",
              "      <th></th>\n",
              "      <th>Ohio</th>\n",
              "      <th>Texas</th>\n",
              "      <th>California</th>\n",
              "    </tr>\n",
              "  </thead>\n",
              "  <tbody>\n",
              "    <tr>\n",
              "      <th>a</th>\n",
              "      <td>0</td>\n",
              "      <td>1</td>\n",
              "      <td>2</td>\n",
              "    </tr>\n",
              "    <tr>\n",
              "      <th>b</th>\n",
              "      <td>3</td>\n",
              "      <td>4</td>\n",
              "      <td>5</td>\n",
              "    </tr>\n",
              "    <tr>\n",
              "      <th>c</th>\n",
              "      <td>6</td>\n",
              "      <td>7</td>\n",
              "      <td>8</td>\n",
              "    </tr>\n",
              "  </tbody>\n",
              "</table>\n",
              "</div>"
            ],
            "text/plain": [
              "   Ohio  Texas  California\n",
              "a     0      1           2\n",
              "b     3      4           5\n",
              "c     6      7           8"
            ]
          },
          "execution_count": 276,
          "metadata": {},
          "output_type": "execute_result"
        }
      ],
      "source": [
        "d3 = pd.DataFrame(data, index=['a', 'b', 'c'],columns=['Ohio', 'Texas', 'California'])\n",
        "d3"
      ]
    },
    {
      "cell_type": "code",
      "execution_count": null,
      "metadata": {
        "id": "03275e45",
        "outputId": "79115243-b1eb-41aa-d567-50c20ff63eb8"
      },
      "outputs": [
        {
          "data": {
            "text/html": [
              "<div>\n",
              "<style scoped>\n",
              "    .dataframe tbody tr th:only-of-type {\n",
              "        vertical-align: middle;\n",
              "    }\n",
              "\n",
              "    .dataframe tbody tr th {\n",
              "        vertical-align: top;\n",
              "    }\n",
              "\n",
              "    .dataframe thead th {\n",
              "        text-align: right;\n",
              "    }\n",
              "</style>\n",
              "<table border=\"1\" class=\"dataframe\">\n",
              "  <thead>\n",
              "    <tr style=\"text-align: right;\">\n",
              "      <th></th>\n",
              "      <th>Ohio</th>\n",
              "      <th>Texas</th>\n",
              "      <th>California</th>\n",
              "    </tr>\n",
              "  </thead>\n",
              "  <tbody>\n",
              "    <tr>\n",
              "      <th>a</th>\n",
              "      <td>0</td>\n",
              "      <td>1</td>\n",
              "      <td>2</td>\n",
              "    </tr>\n",
              "    <tr>\n",
              "      <th>b</th>\n",
              "      <td>3</td>\n",
              "      <td>4</td>\n",
              "      <td>5</td>\n",
              "    </tr>\n",
              "    <tr>\n",
              "      <th>c</th>\n",
              "      <td>6</td>\n",
              "      <td>7</td>\n",
              "      <td>8</td>\n",
              "    </tr>\n",
              "    <tr>\n",
              "      <th>d</th>\n",
              "      <td>0</td>\n",
              "      <td>0</td>\n",
              "      <td>0</td>\n",
              "    </tr>\n",
              "  </tbody>\n",
              "</table>\n",
              "</div>"
            ],
            "text/plain": [
              "   Ohio  Texas  California\n",
              "a     0      1           2\n",
              "b     3      4           5\n",
              "c     6      7           8\n",
              "d     0      0           0"
            ]
          },
          "execution_count": 277,
          "metadata": {},
          "output_type": "execute_result"
        }
      ],
      "source": [
        "d4 = d3.reindex(['a', 'b', 'c', 'd'],fill_value=0)\n",
        "d4"
      ]
    },
    {
      "cell_type": "code",
      "execution_count": null,
      "metadata": {
        "id": "041f5739",
        "outputId": "95c0fa60-97de-4b25-9843-96e3acd01314"
      },
      "outputs": [
        {
          "data": {
            "text/html": [
              "<div>\n",
              "<style scoped>\n",
              "    .dataframe tbody tr th:only-of-type {\n",
              "        vertical-align: middle;\n",
              "    }\n",
              "\n",
              "    .dataframe tbody tr th {\n",
              "        vertical-align: top;\n",
              "    }\n",
              "\n",
              "    .dataframe thead th {\n",
              "        text-align: right;\n",
              "    }\n",
              "</style>\n",
              "<table border=\"1\" class=\"dataframe\">\n",
              "  <thead>\n",
              "    <tr style=\"text-align: right;\">\n",
              "      <th></th>\n",
              "      <th>Ohio</th>\n",
              "      <th>Texas</th>\n",
              "      <th>California</th>\n",
              "    </tr>\n",
              "  </thead>\n",
              "  <tbody>\n",
              "    <tr>\n",
              "      <th>a</th>\n",
              "      <td>0</td>\n",
              "      <td>1</td>\n",
              "      <td>2</td>\n",
              "    </tr>\n",
              "    <tr>\n",
              "      <th>b</th>\n",
              "      <td>3</td>\n",
              "      <td>4</td>\n",
              "      <td>5</td>\n",
              "    </tr>\n",
              "    <tr>\n",
              "      <th>d</th>\n",
              "      <td>0</td>\n",
              "      <td>0</td>\n",
              "      <td>0</td>\n",
              "    </tr>\n",
              "  </tbody>\n",
              "</table>\n",
              "</div>"
            ],
            "text/plain": [
              "   Ohio  Texas  California\n",
              "a     0      1           2\n",
              "b     3      4           5\n",
              "d     0      0           0"
            ]
          },
          "execution_count": 278,
          "metadata": {},
          "output_type": "execute_result"
        }
      ],
      "source": [
        "d5 = d4.drop('c')\n",
        "d5"
      ]
    },
    {
      "cell_type": "code",
      "execution_count": null,
      "metadata": {
        "id": "692b5333",
        "outputId": "78ef37cd-092f-43d3-b79c-ee6ba2cf8daf"
      },
      "outputs": [
        {
          "data": {
            "text/html": [
              "<div>\n",
              "<style scoped>\n",
              "    .dataframe tbody tr th:only-of-type {\n",
              "        vertical-align: middle;\n",
              "    }\n",
              "\n",
              "    .dataframe tbody tr th {\n",
              "        vertical-align: top;\n",
              "    }\n",
              "\n",
              "    .dataframe thead th {\n",
              "        text-align: right;\n",
              "    }\n",
              "</style>\n",
              "<table border=\"1\" class=\"dataframe\">\n",
              "  <thead>\n",
              "    <tr style=\"text-align: right;\">\n",
              "      <th></th>\n",
              "      <th>Ohio</th>\n",
              "      <th>Texas</th>\n",
              "      <th>California</th>\n",
              "    </tr>\n",
              "  </thead>\n",
              "  <tbody>\n",
              "    <tr>\n",
              "      <th>a</th>\n",
              "      <td>0</td>\n",
              "      <td>1</td>\n",
              "      <td>2</td>\n",
              "    </tr>\n",
              "    <tr>\n",
              "      <th>b</th>\n",
              "      <td>3</td>\n",
              "      <td>4</td>\n",
              "      <td>5</td>\n",
              "    </tr>\n",
              "  </tbody>\n",
              "</table>\n",
              "</div>"
            ],
            "text/plain": [
              "   Ohio  Texas  California\n",
              "a     0      1           2\n",
              "b     3      4           5"
            ]
          },
          "execution_count": 279,
          "metadata": {},
          "output_type": "execute_result"
        }
      ],
      "source": [
        "d5 = d4.drop(['c', 'd'])\n",
        "d5"
      ]
    },
    {
      "cell_type": "code",
      "execution_count": null,
      "metadata": {
        "id": "767e6cb8",
        "outputId": "be4ecd0d-ff64-44a3-c952-37d54bbeb763"
      },
      "outputs": [
        {
          "data": {
            "text/html": [
              "<div>\n",
              "<style scoped>\n",
              "    .dataframe tbody tr th:only-of-type {\n",
              "        vertical-align: middle;\n",
              "    }\n",
              "\n",
              "    .dataframe tbody tr th {\n",
              "        vertical-align: top;\n",
              "    }\n",
              "\n",
              "    .dataframe thead th {\n",
              "        text-align: right;\n",
              "    }\n",
              "</style>\n",
              "<table border=\"1\" class=\"dataframe\">\n",
              "  <thead>\n",
              "    <tr style=\"text-align: right;\">\n",
              "      <th></th>\n",
              "      <th>Texas</th>\n",
              "      <th>California</th>\n",
              "    </tr>\n",
              "  </thead>\n",
              "  <tbody>\n",
              "    <tr>\n",
              "      <th>a</th>\n",
              "      <td>1</td>\n",
              "      <td>2</td>\n",
              "    </tr>\n",
              "    <tr>\n",
              "      <th>b</th>\n",
              "      <td>4</td>\n",
              "      <td>5</td>\n",
              "    </tr>\n",
              "    <tr>\n",
              "      <th>c</th>\n",
              "      <td>7</td>\n",
              "      <td>8</td>\n",
              "    </tr>\n",
              "    <tr>\n",
              "      <th>d</th>\n",
              "      <td>0</td>\n",
              "      <td>0</td>\n",
              "    </tr>\n",
              "  </tbody>\n",
              "</table>\n",
              "</div>"
            ],
            "text/plain": [
              "   Texas  California\n",
              "a      1           2\n",
              "b      4           5\n",
              "c      7           8\n",
              "d      0           0"
            ]
          },
          "execution_count": 280,
          "metadata": {},
          "output_type": "execute_result"
        }
      ],
      "source": [
        "d5 = d4.drop('Ohio', axis=1)\n",
        "d5"
      ]
    },
    {
      "cell_type": "code",
      "execution_count": null,
      "metadata": {
        "id": "b7a40888",
        "outputId": "b4e4f607-0dd1-45a6-da53-7de244b19f6b"
      },
      "outputs": [
        {
          "data": {
            "text/html": [
              "<div>\n",
              "<style scoped>\n",
              "    .dataframe tbody tr th:only-of-type {\n",
              "        vertical-align: middle;\n",
              "    }\n",
              "\n",
              "    .dataframe tbody tr th {\n",
              "        vertical-align: top;\n",
              "    }\n",
              "\n",
              "    .dataframe thead th {\n",
              "        text-align: right;\n",
              "    }\n",
              "</style>\n",
              "<table border=\"1\" class=\"dataframe\">\n",
              "  <thead>\n",
              "    <tr style=\"text-align: right;\">\n",
              "      <th></th>\n",
              "      <th>California</th>\n",
              "    </tr>\n",
              "  </thead>\n",
              "  <tbody>\n",
              "    <tr>\n",
              "      <th>a</th>\n",
              "      <td>2</td>\n",
              "    </tr>\n",
              "    <tr>\n",
              "      <th>b</th>\n",
              "      <td>5</td>\n",
              "    </tr>\n",
              "    <tr>\n",
              "      <th>c</th>\n",
              "      <td>8</td>\n",
              "    </tr>\n",
              "    <tr>\n",
              "      <th>d</th>\n",
              "      <td>0</td>\n",
              "    </tr>\n",
              "  </tbody>\n",
              "</table>\n",
              "</div>"
            ],
            "text/plain": [
              "   California\n",
              "a           2\n",
              "b           5\n",
              "c           8\n",
              "d           0"
            ]
          },
          "execution_count": 281,
          "metadata": {},
          "output_type": "execute_result"
        }
      ],
      "source": [
        "d5 = d4.drop(['Ohio', 'Texas'], axis=1)\n",
        "d5"
      ]
    },
    {
      "cell_type": "code",
      "execution_count": null,
      "metadata": {
        "id": "316f0a12",
        "outputId": "8293275c-82ad-46f7-b6aa-a6867a78ee57"
      },
      "outputs": [
        {
          "data": {
            "text/html": [
              "<div>\n",
              "<style scoped>\n",
              "    .dataframe tbody tr th:only-of-type {\n",
              "        vertical-align: middle;\n",
              "    }\n",
              "\n",
              "    .dataframe tbody tr th {\n",
              "        vertical-align: top;\n",
              "    }\n",
              "\n",
              "    .dataframe thead th {\n",
              "        text-align: right;\n",
              "    }\n",
              "</style>\n",
              "<table border=\"1\" class=\"dataframe\">\n",
              "  <thead>\n",
              "    <tr style=\"text-align: right;\">\n",
              "      <th></th>\n",
              "      <th>Ohio</th>\n",
              "      <th>Texas</th>\n",
              "      <th>California</th>\n",
              "    </tr>\n",
              "  </thead>\n",
              "  <tbody>\n",
              "    <tr>\n",
              "      <th>d</th>\n",
              "      <td>0</td>\n",
              "      <td>0</td>\n",
              "      <td>0</td>\n",
              "    </tr>\n",
              "    <tr>\n",
              "      <th>c</th>\n",
              "      <td>6</td>\n",
              "      <td>7</td>\n",
              "      <td>8</td>\n",
              "    </tr>\n",
              "    <tr>\n",
              "      <th>b</th>\n",
              "      <td>3</td>\n",
              "      <td>4</td>\n",
              "      <td>5</td>\n",
              "    </tr>\n",
              "    <tr>\n",
              "      <th>a</th>\n",
              "      <td>0</td>\n",
              "      <td>1</td>\n",
              "      <td>2</td>\n",
              "    </tr>\n",
              "  </tbody>\n",
              "</table>\n",
              "</div>"
            ],
            "text/plain": [
              "   Ohio  Texas  California\n",
              "d     0      0           0\n",
              "c     6      7           8\n",
              "b     3      4           5\n",
              "a     0      1           2"
            ]
          },
          "execution_count": 282,
          "metadata": {},
          "output_type": "execute_result"
        }
      ],
      "source": [
        "d4.sort_index(ascending=False) # DataFrame d4의 인덱스를 내림차순으로 정렬"
      ]
    },
    {
      "cell_type": "code",
      "execution_count": null,
      "metadata": {
        "id": "dbb9aec3",
        "outputId": "d69985cc-79b7-4f20-c763-8d8de5519760"
      },
      "outputs": [
        {
          "data": {
            "text/html": [
              "<div>\n",
              "<style scoped>\n",
              "    .dataframe tbody tr th:only-of-type {\n",
              "        vertical-align: middle;\n",
              "    }\n",
              "\n",
              "    .dataframe tbody tr th {\n",
              "        vertical-align: top;\n",
              "    }\n",
              "\n",
              "    .dataframe thead th {\n",
              "        text-align: right;\n",
              "    }\n",
              "</style>\n",
              "<table border=\"1\" class=\"dataframe\">\n",
              "  <thead>\n",
              "    <tr style=\"text-align: right;\">\n",
              "      <th></th>\n",
              "      <th>California</th>\n",
              "      <th>Ohio</th>\n",
              "      <th>Texas</th>\n",
              "    </tr>\n",
              "  </thead>\n",
              "  <tbody>\n",
              "    <tr>\n",
              "      <th>a</th>\n",
              "      <td>2</td>\n",
              "      <td>0</td>\n",
              "      <td>1</td>\n",
              "    </tr>\n",
              "    <tr>\n",
              "      <th>b</th>\n",
              "      <td>5</td>\n",
              "      <td>3</td>\n",
              "      <td>4</td>\n",
              "    </tr>\n",
              "    <tr>\n",
              "      <th>c</th>\n",
              "      <td>8</td>\n",
              "      <td>6</td>\n",
              "      <td>7</td>\n",
              "    </tr>\n",
              "    <tr>\n",
              "      <th>d</th>\n",
              "      <td>0</td>\n",
              "      <td>0</td>\n",
              "      <td>0</td>\n",
              "    </tr>\n",
              "  </tbody>\n",
              "</table>\n",
              "</div>"
            ],
            "text/plain": [
              "   California  Ohio  Texas\n",
              "a           2     0      1\n",
              "b           5     3      4\n",
              "c           8     6      7\n",
              "d           0     0      0"
            ]
          },
          "execution_count": 283,
          "metadata": {},
          "output_type": "execute_result"
        }
      ],
      "source": [
        "d4.sort_index(axis=1) # DataFrame d4의 열 이름을 기준으로 정렬"
      ]
    },
    {
      "cell_type": "code",
      "execution_count": null,
      "metadata": {
        "id": "69279161",
        "outputId": "3ded20fa-27c5-4157-949e-45b878539ff7"
      },
      "outputs": [
        {
          "data": {
            "text/html": [
              "<div>\n",
              "<style scoped>\n",
              "    .dataframe tbody tr th:only-of-type {\n",
              "        vertical-align: middle;\n",
              "    }\n",
              "\n",
              "    .dataframe tbody tr th {\n",
              "        vertical-align: top;\n",
              "    }\n",
              "\n",
              "    .dataframe thead th {\n",
              "        text-align: right;\n",
              "    }\n",
              "</style>\n",
              "<table border=\"1\" class=\"dataframe\">\n",
              "  <thead>\n",
              "    <tr style=\"text-align: right;\">\n",
              "      <th></th>\n",
              "      <th>Texas</th>\n",
              "      <th>Ohio</th>\n",
              "      <th>California</th>\n",
              "    </tr>\n",
              "  </thead>\n",
              "  <tbody>\n",
              "    <tr>\n",
              "      <th>a</th>\n",
              "      <td>1</td>\n",
              "      <td>0</td>\n",
              "      <td>2</td>\n",
              "    </tr>\n",
              "    <tr>\n",
              "      <th>b</th>\n",
              "      <td>4</td>\n",
              "      <td>3</td>\n",
              "      <td>5</td>\n",
              "    </tr>\n",
              "    <tr>\n",
              "      <th>c</th>\n",
              "      <td>7</td>\n",
              "      <td>6</td>\n",
              "      <td>8</td>\n",
              "    </tr>\n",
              "    <tr>\n",
              "      <th>d</th>\n",
              "      <td>0</td>\n",
              "      <td>0</td>\n",
              "      <td>0</td>\n",
              "    </tr>\n",
              "  </tbody>\n",
              "</table>\n",
              "</div>"
            ],
            "text/plain": [
              "   Texas  Ohio  California\n",
              "a      1     0           2\n",
              "b      4     3           5\n",
              "c      7     6           8\n",
              "d      0     0           0"
            ]
          },
          "execution_count": 284,
          "metadata": {},
          "output_type": "execute_result"
        }
      ],
      "source": [
        "d4.sort_index(ascending=False, axis=1) # DataFrame d4의 열 이름을 내림차순으로 정렬"
      ]
    },
    {
      "cell_type": "code",
      "execution_count": null,
      "metadata": {
        "id": "43f0888c",
        "outputId": "1d409ceb-9b71-4b6e-bd42-c5ae62f77c25"
      },
      "outputs": [
        {
          "data": {
            "text/html": [
              "<div>\n",
              "<style scoped>\n",
              "    .dataframe tbody tr th:only-of-type {\n",
              "        vertical-align: middle;\n",
              "    }\n",
              "\n",
              "    .dataframe tbody tr th {\n",
              "        vertical-align: top;\n",
              "    }\n",
              "\n",
              "    .dataframe thead th {\n",
              "        text-align: right;\n",
              "    }\n",
              "</style>\n",
              "<table border=\"1\" class=\"dataframe\">\n",
              "  <thead>\n",
              "    <tr style=\"text-align: right;\">\n",
              "      <th></th>\n",
              "      <th>Ohio</th>\n",
              "      <th>Texas</th>\n",
              "      <th>California</th>\n",
              "    </tr>\n",
              "  </thead>\n",
              "  <tbody>\n",
              "    <tr>\n",
              "      <th>a</th>\n",
              "      <td>0</td>\n",
              "      <td>1</td>\n",
              "      <td>2</td>\n",
              "    </tr>\n",
              "    <tr>\n",
              "      <th>b</th>\n",
              "      <td>3</td>\n",
              "      <td>4</td>\n",
              "      <td>5</td>\n",
              "    </tr>\n",
              "    <tr>\n",
              "      <th>c</th>\n",
              "      <td>6</td>\n",
              "      <td>7</td>\n",
              "      <td>8</td>\n",
              "    </tr>\n",
              "    <tr>\n",
              "      <th>d</th>\n",
              "      <td>0</td>\n",
              "      <td>0</td>\n",
              "      <td>0</td>\n",
              "    </tr>\n",
              "  </tbody>\n",
              "</table>\n",
              "</div>"
            ],
            "text/plain": [
              "   Ohio  Texas  California\n",
              "a     0      1           2\n",
              "b     3      4           5\n",
              "c     6      7           8\n",
              "d     0      0           0"
            ]
          },
          "execution_count": 285,
          "metadata": {},
          "output_type": "execute_result"
        }
      ],
      "source": [
        "d4"
      ]
    },
    {
      "cell_type": "code",
      "execution_count": null,
      "metadata": {
        "id": "57465bc5",
        "outputId": "84cab7d5-7a46-4dda-fafd-e21d2d124830"
      },
      "outputs": [
        {
          "data": {
            "text/plain": [
              "Ohio           9\n",
              "Texas         12\n",
              "California    15\n",
              "dtype: int64"
            ]
          },
          "execution_count": 286,
          "metadata": {},
          "output_type": "execute_result"
        }
      ],
      "source": [
        "d4.sum()"
      ]
    },
    {
      "cell_type": "code",
      "execution_count": null,
      "metadata": {
        "id": "a5b512e3",
        "outputId": "cc14e43d-9824-4919-8de3-bd107300d709"
      },
      "outputs": [
        {
          "data": {
            "text/plain": [
              "a     3\n",
              "b    12\n",
              "c    21\n",
              "d     0\n",
              "dtype: int64"
            ]
          },
          "execution_count": 287,
          "metadata": {},
          "output_type": "execute_result"
        }
      ],
      "source": [
        "d4.sum(axis=1)"
      ]
    },
    {
      "cell_type": "code",
      "execution_count": null,
      "metadata": {
        "id": "ecefed93",
        "outputId": "33a9b5f0-586a-40c7-b128-40aefd21e070"
      },
      "outputs": [
        {
          "data": {
            "text/plain": [
              "Ohio          2.25\n",
              "Texas         3.00\n",
              "California    3.75\n",
              "dtype: float64"
            ]
          },
          "execution_count": 288,
          "metadata": {},
          "output_type": "execute_result"
        }
      ],
      "source": [
        "d4.mean()"
      ]
    },
    {
      "cell_type": "code",
      "execution_count": null,
      "metadata": {
        "id": "5dc6bd4f",
        "outputId": "a105daba-41c2-463e-d1aa-12d235556451"
      },
      "outputs": [
        {
          "data": {
            "text/plain": [
              "a    1.0\n",
              "b    4.0\n",
              "c    7.0\n",
              "d    0.0\n",
              "dtype: float64"
            ]
          },
          "execution_count": 289,
          "metadata": {},
          "output_type": "execute_result"
        }
      ],
      "source": [
        "d4.mean(axis=1)"
      ]
    },
    {
      "cell_type": "code",
      "execution_count": null,
      "metadata": {
        "id": "b0ed396b"
      },
      "outputs": [],
      "source": []
    },
    {
      "cell_type": "code",
      "execution_count": null,
      "metadata": {
        "id": "47dc9961"
      },
      "outputs": [],
      "source": []
    }
  ],
  "metadata": {
    "colab": {
      "provenance": []
    },
    "kernelspec": {
      "display_name": "tf38_cpu",
      "language": "python",
      "name": "tf38_cpu"
    },
    "language_info": {
      "codemirror_mode": {
        "name": "ipython",
        "version": 3
      },
      "file_extension": ".py",
      "mimetype": "text/x-python",
      "name": "python",
      "nbconvert_exporter": "python",
      "pygments_lexer": "ipython3",
      "version": "3.8.19"
    }
  },
  "nbformat": 4,
  "nbformat_minor": 0
}